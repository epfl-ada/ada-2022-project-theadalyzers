{
 "cells": [
  {
   "cell_type": "markdown",
   "id": "0ea8de02",
   "metadata": {},
   "source": [
    "# Hyperlinks' clickability preferences"
   ]
  },
  {
   "cell_type": "code",
   "execution_count": 1,
   "id": "f9f0b041",
   "metadata": {},
   "outputs": [],
   "source": [
    "import pandas as pd\n",
    "import numpy as np\n",
    "import matplotlib.pyplot as plt\n",
    "import urllib.parse"
   ]
  },
  {
   "cell_type": "code",
   "execution_count": 2,
   "id": "dd6a6e28",
   "metadata": {
    "scrolled": true
   },
   "outputs": [
    {
     "data": {
      "text/plain": [
       "['r/Royal_Marines.htm',\n",
       " 'r/Recycling.htm',\n",
       " 'r/Retreat_of_glaciers_since_1850.htm',\n",
       " 'r/Remember_Girls_Like_Rajpura.htm',\n",
       " 'r/Rutherfordium.htm',\n",
       " 'r/Rule_of_St_Benedict.htm',\n",
       " 'r/Red_dwarf.htm',\n",
       " 'r/Romeo_and_Juliet.htm',\n",
       " 'r/Rudyard_Kipling.htm',\n",
       " 'r/Race.htm']"
      ]
     },
     "execution_count": 2,
     "metadata": {},
     "output_type": "execute_result"
    }
   ],
   "source": [
    "import os, sys\n",
    "\n",
    "# HTLM files URLs in a list \n",
    "wp_path = \"/Users/ginevralarroux/Desktop/EPFL courses/Applied data analysis/ADA project/data/wpcd/wp/\" # to adapt\n",
    "directories = os.listdir(wp_path)\n",
    "html_list = []\n",
    "for dir in directories:\n",
    "    local_path = wp_path + dir\n",
    "    local_dir = os.listdir(local_path)\n",
    "    for link in local_dir:\n",
    "        if link[-3:]=='htm':\n",
    "            html_list.append(dir+'/'+link)\n",
    "html_list[:10]"
   ]
  },
  {
   "cell_type": "markdown",
   "id": "d4abdba1",
   "metadata": {},
   "source": [
    "## Objective\n",
    "\n",
    "The aim of this specific section of our game strategy analysis is to test whether Wikispeedia players have clikability preferences on the basis of the hyperlinks' positioning throughout the article text. \n",
    "In particular:\n",
    "1. we wil find the ordinal number of the paragraph each hyperlink in an article shows up in and divide it by the total number of paragraphs of the article, to determine its positioning; \n",
    "2. we will determine if each hyperlink in an article shows up in an image captions.\n",
    "\n",
    "We will then investigate if there is a correlation between the clickability of the hyperlinks and their location, using the proper statistical tests. "
   ]
  },
  {
   "cell_type": "markdown",
   "id": "1292cac3",
   "metadata": {},
   "source": [
    "### Hyperlinks positioning in articles' text"
   ]
  },
  {
   "cell_type": "markdown",
   "id": "367618fb",
   "metadata": {},
   "source": [
    "It is essential to extract from the data the frequency of clicks for each hyperlink."
   ]
  },
  {
   "cell_type": "code",
   "execution_count": 3,
   "id": "eb1a99ab",
   "metadata": {},
   "outputs": [],
   "source": [
    "# read files \n",
    "folder='/Users/ginevralarroux/Desktop/EPFL courses/Applied data analysis/ADA project/data/wikispeedia_paths-and-graph/'\n",
    "\n",
    "paths_finished='paths_finished.tsv'\n",
    "paths_unfinished='paths_unfinished.tsv'\n",
    "articles='articles.tsv'\n",
    "\n",
    "paths_finished=pd.read_csv(folder+paths_finished, sep='\\t', skiprows=15, header=None, names=['hashedIpAddress', 'timestamp', 'durationInSec', 'path', 'rating'])\n",
    "paths_unfinished=pd.read_csv(folder+paths_unfinished, sep='\\t', skiprows=16, header=None, names=['hashedIpAddress', 'timestamp', 'durationInSec', 'path', 'target', 'type'])\n",
    "articles=pd.read_csv(folder+articles, sep='\\t', skiprows=12, header=None, names=['article'])"
   ]
  },
  {
   "cell_type": "markdown",
   "id": "51b35d62",
   "metadata": {},
   "source": [
    "The dataframe `paths_finished` contains the paths chosen by the players who could reach the target article."
   ]
  },
  {
   "cell_type": "code",
   "execution_count": 4,
   "id": "d2e72681",
   "metadata": {},
   "outputs": [
    {
     "data": {
      "text/html": [
       "<div>\n",
       "<style scoped>\n",
       "    .dataframe tbody tr th:only-of-type {\n",
       "        vertical-align: middle;\n",
       "    }\n",
       "\n",
       "    .dataframe tbody tr th {\n",
       "        vertical-align: top;\n",
       "    }\n",
       "\n",
       "    .dataframe thead th {\n",
       "        text-align: right;\n",
       "    }\n",
       "</style>\n",
       "<table border=\"1\" class=\"dataframe\">\n",
       "  <thead>\n",
       "    <tr style=\"text-align: right;\">\n",
       "      <th></th>\n",
       "      <th>hashedIpAddress</th>\n",
       "      <th>timestamp</th>\n",
       "      <th>durationInSec</th>\n",
       "      <th>path</th>\n",
       "      <th>rating</th>\n",
       "    </tr>\n",
       "  </thead>\n",
       "  <tbody>\n",
       "    <tr>\n",
       "      <th>0</th>\n",
       "      <td>6a3701d319fc3754</td>\n",
       "      <td>1297740409</td>\n",
       "      <td>166</td>\n",
       "      <td>14th_century;15th_century;16th_century;Pacific...</td>\n",
       "      <td>NaN</td>\n",
       "    </tr>\n",
       "    <tr>\n",
       "      <th>1</th>\n",
       "      <td>3824310e536af032</td>\n",
       "      <td>1344753412</td>\n",
       "      <td>88</td>\n",
       "      <td>14th_century;Europe;Africa;Atlantic_slave_trad...</td>\n",
       "      <td>3.0</td>\n",
       "    </tr>\n",
       "    <tr>\n",
       "      <th>2</th>\n",
       "      <td>415612e93584d30e</td>\n",
       "      <td>1349298640</td>\n",
       "      <td>138</td>\n",
       "      <td>14th_century;Niger;Nigeria;British_Empire;Slav...</td>\n",
       "      <td>NaN</td>\n",
       "    </tr>\n",
       "    <tr>\n",
       "      <th>3</th>\n",
       "      <td>64dd5cd342e3780c</td>\n",
       "      <td>1265613925</td>\n",
       "      <td>37</td>\n",
       "      <td>14th_century;Renaissance;Ancient_Greece;Greece</td>\n",
       "      <td>NaN</td>\n",
       "    </tr>\n",
       "    <tr>\n",
       "      <th>4</th>\n",
       "      <td>015245d773376aab</td>\n",
       "      <td>1366730828</td>\n",
       "      <td>175</td>\n",
       "      <td>14th_century;Italy;Roman_Catholic_Church;HIV;R...</td>\n",
       "      <td>3.0</td>\n",
       "    </tr>\n",
       "  </tbody>\n",
       "</table>\n",
       "</div>"
      ],
      "text/plain": [
       "    hashedIpAddress   timestamp  durationInSec  \\\n",
       "0  6a3701d319fc3754  1297740409            166   \n",
       "1  3824310e536af032  1344753412             88   \n",
       "2  415612e93584d30e  1349298640            138   \n",
       "3  64dd5cd342e3780c  1265613925             37   \n",
       "4  015245d773376aab  1366730828            175   \n",
       "\n",
       "                                                path  rating  \n",
       "0  14th_century;15th_century;16th_century;Pacific...     NaN  \n",
       "1  14th_century;Europe;Africa;Atlantic_slave_trad...     3.0  \n",
       "2  14th_century;Niger;Nigeria;British_Empire;Slav...     NaN  \n",
       "3     14th_century;Renaissance;Ancient_Greece;Greece     NaN  \n",
       "4  14th_century;Italy;Roman_Catholic_Church;HIV;R...     3.0  "
      ]
     },
     "execution_count": 4,
     "metadata": {},
     "output_type": "execute_result"
    }
   ],
   "source": [
    "paths_finished.head()"
   ]
  },
  {
   "cell_type": "markdown",
   "id": "d3a47b5f",
   "metadata": {},
   "source": [
    "The dataframe `paths_unfinished` contains the paths chosen by the players who could not reach the target article."
   ]
  },
  {
   "cell_type": "code",
   "execution_count": 5,
   "id": "e1279013",
   "metadata": {},
   "outputs": [
    {
     "data": {
      "text/html": [
       "<div>\n",
       "<style scoped>\n",
       "    .dataframe tbody tr th:only-of-type {\n",
       "        vertical-align: middle;\n",
       "    }\n",
       "\n",
       "    .dataframe tbody tr th {\n",
       "        vertical-align: top;\n",
       "    }\n",
       "\n",
       "    .dataframe thead th {\n",
       "        text-align: right;\n",
       "    }\n",
       "</style>\n",
       "<table border=\"1\" class=\"dataframe\">\n",
       "  <thead>\n",
       "    <tr style=\"text-align: right;\">\n",
       "      <th></th>\n",
       "      <th>hashedIpAddress</th>\n",
       "      <th>timestamp</th>\n",
       "      <th>durationInSec</th>\n",
       "      <th>path</th>\n",
       "      <th>target</th>\n",
       "      <th>type</th>\n",
       "    </tr>\n",
       "  </thead>\n",
       "  <tbody>\n",
       "    <tr>\n",
       "      <th>0</th>\n",
       "      <td>2426091a53125110</td>\n",
       "      <td>1297054935</td>\n",
       "      <td>1804</td>\n",
       "      <td>Obi-Wan_Kenobi</td>\n",
       "      <td>Microsoft</td>\n",
       "      <td>timeout</td>\n",
       "    </tr>\n",
       "    <tr>\n",
       "      <th>1</th>\n",
       "      <td>26141fd878806294</td>\n",
       "      <td>1297055651</td>\n",
       "      <td>1805</td>\n",
       "      <td>Julius_Caesar</td>\n",
       "      <td>Caracas</td>\n",
       "      <td>timeout</td>\n",
       "    </tr>\n",
       "    <tr>\n",
       "      <th>2</th>\n",
       "      <td>2b015fb8181c48f2</td>\n",
       "      <td>1297090819</td>\n",
       "      <td>1818</td>\n",
       "      <td>Malawi;Democracy;Alexander_the_Great</td>\n",
       "      <td>First_Crusade</td>\n",
       "      <td>timeout</td>\n",
       "    </tr>\n",
       "    <tr>\n",
       "      <th>3</th>\n",
       "      <td>53a53bc244e08a6a</td>\n",
       "      <td>1297094761</td>\n",
       "      <td>49</td>\n",
       "      <td>Paraguay</td>\n",
       "      <td>Mount_St._Helens</td>\n",
       "      <td>restart</td>\n",
       "    </tr>\n",
       "    <tr>\n",
       "      <th>4</th>\n",
       "      <td>53a53bc244e08a6a</td>\n",
       "      <td>1297099105</td>\n",
       "      <td>1808</td>\n",
       "      <td>Paraguay;Bolivia</td>\n",
       "      <td>Mount_St._Helens</td>\n",
       "      <td>timeout</td>\n",
       "    </tr>\n",
       "  </tbody>\n",
       "</table>\n",
       "</div>"
      ],
      "text/plain": [
       "    hashedIpAddress   timestamp  durationInSec  \\\n",
       "0  2426091a53125110  1297054935           1804   \n",
       "1  26141fd878806294  1297055651           1805   \n",
       "2  2b015fb8181c48f2  1297090819           1818   \n",
       "3  53a53bc244e08a6a  1297094761             49   \n",
       "4  53a53bc244e08a6a  1297099105           1808   \n",
       "\n",
       "                                   path            target     type  \n",
       "0                        Obi-Wan_Kenobi         Microsoft  timeout  \n",
       "1                         Julius_Caesar           Caracas  timeout  \n",
       "2  Malawi;Democracy;Alexander_the_Great     First_Crusade  timeout  \n",
       "3                              Paraguay  Mount_St._Helens  restart  \n",
       "4                      Paraguay;Bolivia  Mount_St._Helens  timeout  "
      ]
     },
     "execution_count": 5,
     "metadata": {},
     "output_type": "execute_result"
    }
   ],
   "source": [
    "paths_unfinished.head()"
   ]
  },
  {
   "cell_type": "markdown",
   "id": "00681d55",
   "metadata": {},
   "source": [
    "The dataframe `articles` lists all the clickable articles/links."
   ]
  },
  {
   "cell_type": "code",
   "execution_count": 6,
   "id": "e8d25afe",
   "metadata": {},
   "outputs": [
    {
     "data": {
      "text/html": [
       "<div>\n",
       "<style scoped>\n",
       "    .dataframe tbody tr th:only-of-type {\n",
       "        vertical-align: middle;\n",
       "    }\n",
       "\n",
       "    .dataframe tbody tr th {\n",
       "        vertical-align: top;\n",
       "    }\n",
       "\n",
       "    .dataframe thead th {\n",
       "        text-align: right;\n",
       "    }\n",
       "</style>\n",
       "<table border=\"1\" class=\"dataframe\">\n",
       "  <thead>\n",
       "    <tr style=\"text-align: right;\">\n",
       "      <th></th>\n",
       "      <th>article</th>\n",
       "    </tr>\n",
       "  </thead>\n",
       "  <tbody>\n",
       "    <tr>\n",
       "      <th>0</th>\n",
       "      <td>áedán mac gabráin</td>\n",
       "    </tr>\n",
       "    <tr>\n",
       "      <th>1</th>\n",
       "      <td>åland</td>\n",
       "    </tr>\n",
       "    <tr>\n",
       "      <th>2</th>\n",
       "      <td>édouard manet</td>\n",
       "    </tr>\n",
       "    <tr>\n",
       "      <th>3</th>\n",
       "      <td>éire</td>\n",
       "    </tr>\n",
       "    <tr>\n",
       "      <th>4</th>\n",
       "      <td>óengus i of the picts</td>\n",
       "    </tr>\n",
       "    <tr>\n",
       "      <th>5</th>\n",
       "      <td>€2 commemorative coins</td>\n",
       "    </tr>\n",
       "    <tr>\n",
       "      <th>6</th>\n",
       "      <td>10th century</td>\n",
       "    </tr>\n",
       "    <tr>\n",
       "      <th>7</th>\n",
       "      <td>11th century</td>\n",
       "    </tr>\n",
       "    <tr>\n",
       "      <th>8</th>\n",
       "      <td>12th century</td>\n",
       "    </tr>\n",
       "    <tr>\n",
       "      <th>9</th>\n",
       "      <td>13th century</td>\n",
       "    </tr>\n",
       "  </tbody>\n",
       "</table>\n",
       "</div>"
      ],
      "text/plain": [
       "                  article\n",
       "0       áedán mac gabráin\n",
       "1                   åland\n",
       "2           édouard manet\n",
       "3                    éire\n",
       "4   óengus i of the picts\n",
       "5  €2 commemorative coins\n",
       "6            10th century\n",
       "7            11th century\n",
       "8            12th century\n",
       "9            13th century"
      ]
     },
     "execution_count": 6,
     "metadata": {},
     "output_type": "execute_result"
    }
   ],
   "source": [
    "# encode and filter link names\n",
    "def filter_link_list(links_list):\n",
    "    new_links_list=[]\n",
    "    for link in links_list:\n",
    "        link=urllib.parse.unquote(link)\n",
    "        link=link.lower()\n",
    "        link=link.replace('_', ' ')\n",
    "        link=link.strip()\n",
    "        new_links_list.append(link)\n",
    "    return new_links_list\n",
    "\n",
    "articles.article=filter_link_list(articles.article)\n",
    "articles.head(10)"
   ]
  },
  {
   "cell_type": "code",
   "execution_count": 7,
   "id": "f7948037",
   "metadata": {},
   "outputs": [
    {
     "name": "stdout",
     "output_type": "stream",
     "text": [
      "The total number of articles comprising the Wikispeedia library is 4604.\n"
     ]
    }
   ],
   "source": [
    "print('The total number of articles comprising the Wikispeedia library is {0}.'.format(len(articles)))"
   ]
  },
  {
   "cell_type": "markdown",
   "id": "4873d8f9",
   "metadata": {},
   "source": [
    "The dataframe `clicked_links_filtered` contains the clicked links troughout the paths."
   ]
  },
  {
   "cell_type": "code",
   "execution_count": 8,
   "id": "c973fe98",
   "metadata": {
    "scrolled": true
   },
   "outputs": [
    {
     "data": {
      "text/plain": [
       "[['14th century',\n",
       "  '15th century',\n",
       "  '16th century',\n",
       "  'pacific ocean',\n",
       "  'atlantic ocean',\n",
       "  'accra',\n",
       "  'africa',\n",
       "  'atlantic slave trade',\n",
       "  'african slave trade'],\n",
       " ['14th century',\n",
       "  'europe',\n",
       "  'africa',\n",
       "  'atlantic slave trade',\n",
       "  'african slave trade'],\n",
       " ['14th century',\n",
       "  'niger',\n",
       "  'nigeria',\n",
       "  'british empire',\n",
       "  'slavery',\n",
       "  'africa',\n",
       "  'atlantic slave trade',\n",
       "  'african slave trade'],\n",
       " ['14th century', 'renaissance', 'ancient greece', 'greece'],\n",
       " ['14th century',\n",
       "  'italy',\n",
       "  'roman catholic church',\n",
       "  'hiv',\n",
       "  'ronald reagan',\n",
       "  'president of the united states',\n",
       "  'john f. kennedy']]"
      ]
     },
     "execution_count": 8,
     "metadata": {},
     "output_type": "execute_result"
    }
   ],
   "source": [
    "clicked_links=[]\n",
    "for x in paths_finished['path']: \n",
    "    path=(x.split(';')) # get list of links along the path string \n",
    "    clicked_links.append(path)\n",
    "\n",
    "clicked_links_filtered=[] # consistent with other dfs\n",
    "for path in clicked_links:\n",
    "    path_filtered=filter_link_list(path)\n",
    "    if '<' in path: \n",
    "        path.remove('<') # remove backclicks\n",
    "    clicked_links_filtered.append(path_filtered)\n",
    "\n",
    "clicked_links_filtered[:5]"
   ]
  },
  {
   "cell_type": "markdown",
   "id": "c831f4d7",
   "metadata": {},
   "source": [
    "The dataframe `links_freq_df` contains the links' frequency of clicks."
   ]
  },
  {
   "cell_type": "code",
   "execution_count": null,
   "id": "7fdf6dc5",
   "metadata": {},
   "outputs": [],
   "source": [
    "links_name=[]\n",
    "links_freq=[]\n",
    "\n",
    "i=0\n",
    "for article in articles['article']: # count the number of times each article shows up in paths\n",
    "    count=0\n",
    "    links_name.append(article)\n",
    "    for i in range(len(clicked_links_filtered)):\n",
    "        if article in clicked_links_filtered[i]:\n",
    "            count+=1 \n",
    "    links_freq.append(count)\n",
    "\n",
    "links_name=pd.Series(links_name)\n",
    "links_freq=pd.Series(links_freq)\n",
    "links_freq_df=pd.concat([links_name, links_freq], axis=1, names=['link', '#_clicks'])\n",
    "links_freq_df.columns=['link', '#_clicks']\n",
    "links_freq_df.loc[links_freq_df['#_clicks']!=0].head()"
   ]
  },
  {
   "cell_type": "code",
   "execution_count": null,
   "id": "0c1a566b",
   "metadata": {},
   "outputs": [],
   "source": [
    "clicks_tot=links_freq_df['#_clicks'].sum()\n",
    "print('The total number of clicked hyperlinks is {0}.'.format(clicks_tot))"
   ]
  },
  {
   "cell_type": "markdown",
   "id": "efbf2121",
   "metadata": {},
   "source": [
    "Next step of the descriptive analysis process is the html files parsing aimed at determining the location of hyperlinks. "
   ]
  },
  {
   "cell_type": "code",
   "execution_count": null,
   "id": "52aae5e6",
   "metadata": {},
   "outputs": [],
   "source": [
    "# parse html files \n",
    "\n",
    "from bs4 import BeautifulSoup\n",
    "\n",
    "soups=[]\n",
    "failed_html_list = []\n",
    "for html in html_list[:]:\n",
    "    f=open(wp_path+html, 'r')\n",
    "    try:\n",
    "        soup = BeautifulSoup(f, 'lxml')\n",
    "        soups.append(soup)\n",
    "    except Exception:\n",
    "        failed_html_list.append(html)"
   ]
  },
  {
   "cell_type": "code",
   "execution_count": null,
   "id": "52a9a7bf",
   "metadata": {},
   "outputs": [],
   "source": [
    "print('{0} files were not parsable. However, they are not reachable nor it is possible to click \\\n",
    "any hyperlink in those html pages.'.format(len(failed_html_list)))"
   ]
  },
  {
   "cell_type": "markdown",
   "id": "d9df4d68",
   "metadata": {},
   "source": [
    "`link_positioning_dfs` is a list of dataframes (`link_positioning_df`) containing hyperlinks showing up in one html file, the ordinal number of the paragraph they belong to and their relative positioning throughout the article text. "
   ]
  },
  {
   "cell_type": "code",
   "execution_count": null,
   "id": "7aafde19",
   "metadata": {},
   "outputs": [],
   "source": [
    "# HTML tag for hyperlinks is <a href= >\n",
    "# the function finds all <a href= > tags throughout the article html file\n",
    "\n",
    "def find_links(soup): \n",
    "    paragraphs = soup.find_all('p') \n",
    "    links=[]\n",
    "    i=0\n",
    "    for p in paragraphs:\n",
    "        i+=1\n",
    "        all_links=p.find_all('a')\n",
    "        for link in all_links:\n",
    "            if 'href' in link.attrs:\n",
    "                link_title=link.text\n",
    "                link_paragraph=i\n",
    "                links.append([link_title, link_paragraph])\n",
    "                \n",
    "    link_positioning_df=pd.DataFrame(links, columns=['link', '#_paragraph']).drop_duplicates()\n",
    "    link_positioning_df['positioning']=round(link_positioning_df['#_paragraph']/len(paragraphs), 2)\n",
    "    link_positioning_df['link']=filter_link_list(link_positioning_df['link'])\n",
    "    return link_positioning_df"
   ]
  },
  {
   "cell_type": "code",
   "execution_count": null,
   "id": "77510d8e",
   "metadata": {
    "scrolled": false
   },
   "outputs": [],
   "source": [
    "# apply the function to all html files\n",
    "\n",
    "link_positioning_dfs=[]\n",
    "for soup in soups:\n",
    "    link_positioning_dfs.append(find_links(soup))\n",
    "\n",
    "link_positioning_dfs[:5]"
   ]
  },
  {
   "cell_type": "code",
   "execution_count": null,
   "id": "63b16645",
   "metadata": {},
   "outputs": [],
   "source": [
    "print('{0} html files were parsed.'.format(len(link_positioning_dfs)))"
   ]
  },
  {
   "cell_type": "code",
   "execution_count": null,
   "id": "2aecdb54",
   "metadata": {},
   "outputs": [],
   "source": [
    "# example with 2 files\n",
    "\n",
    "URL_1 = wp_path+'a/A_cappella.htm'\n",
    "URL_2 = wp_path+'m/Music.htm'\n",
    "\n",
    "f1=open(URL_1, 'r')\n",
    "soup1 = BeautifulSoup(f1, 'lxml')\n",
    "\n",
    "f2=open(URL_2, 'r')\n",
    "soup2 = BeautifulSoup(f2, 'lxml')\n",
    "\n",
    "link_positioning_df_1=find_links(soup1).drop(labels='#_paragraph', axis=1)\n",
    "link_positioning_df_2=find_links(soup2).drop(labels='#_paragraph', axis=1)\n",
    "\n",
    "# merging the 2 dataframes \n",
    "\n",
    "merged_dfs=link_positioning_df_1.merge(link_positioning_df_2, how='outer', left_on='link', right_on='link', )\n",
    "merged_dfs"
   ]
  },
  {
   "cell_type": "markdown",
   "id": "9bec7f5b",
   "metadata": {},
   "source": [
    "The hyperlink _rap_ shows up in both articles; the hyperlink _jazz_, _renaissance_ and _time_ show up multiple times in one article. \n",
    "\n",
    "The two occurrences highlighted are likely to be the case for every hyperlink, when all dataframes will be merged. It is therefore essential to compute their most likely positioning in the articles' texts, so to extract any meaningful information from the data.  "
   ]
  },
  {
   "cell_type": "code",
   "execution_count": null,
   "id": "25223ef6",
   "metadata": {},
   "outputs": [],
   "source": [
    "# merge all the link_positioning_df in link_positioning_dfs list on hyperlink in order to apply a function \n",
    "# that determines the most frequent positioning of the hyperlinks\n",
    "\n",
    "for df in link_positioning_dfs:\n",
    "    try:\n",
    "        df.drop(labels='#_paragraph', axis=1, inplace=True)  # remove not needed column\n",
    "    except:\n",
    "        pass    \n",
    "\n",
    "    \n",
    "from functools import reduce # perform multiple merge\n",
    "links_pos_dfs_merged = reduce(lambda  left,right: pd.merge(left,right,on=['link'],how='outer'), link_positioning_dfs[:100])\n",
    "links_pos_dfs_merged.head()"
   ]
  },
  {
   "cell_type": "code",
   "execution_count": null,
   "id": "6d602ad7",
   "metadata": {},
   "outputs": [],
   "source": [
    "# function that determines the most frequent positioning of each hyperlink in the set of all links\n",
    "\n",
    "def find_positioning(array):\n",
    "    bin_labels=['top', 'center-top','center','center-bottom', 'bottom'] # positioning is classified as top, centre-top, center, center-bottom, or bottom of the article\n",
    "    bins=[0, 0.20, 0.40, 0.60, 0.80, 1] \n",
    "    cut_positioning=pd.cut(array, bins, labels=bin_labels, right=True, include_lowest=True)\n",
    "    positioning_frequency=pd.value_counts(cut_positioning) # frequency of the bins\n",
    "    most=positioning_frequency.apply('max') # bin with highest frequency\n",
    "    if len(positioning_frequency[positioning_frequency==most])>1:\n",
    "        return np.random.choice(positioning_frequency[positioning_frequency==most].index.values.astype(str)) #account for same frequency\n",
    "    else:\n",
    "        return positioning_frequency[positioning_frequency==most].index.values.astype(str).item()"
   ]
  },
  {
   "cell_type": "markdown",
   "id": "f86d10bb",
   "metadata": {},
   "source": [
    "The dataframe `most_freq_positioning_df` contains the hyperlinks' most frequent positioning."
   ]
  },
  {
   "cell_type": "code",
   "execution_count": null,
   "id": "a1bc7e55",
   "metadata": {},
   "outputs": [],
   "source": [
    "# example with 2 files\n",
    "\n",
    "most_freq_positioning_2=merged_dfs.groupby(by=merged_dfs['link']).apply(lambda x: find_positioning(np.array(x.values).flatten()))\n",
    "most_freq_positioning_df_2=pd.DataFrame(most_freq_positioning_2, columns=['most_freq_positioning'])\n",
    "most_freq_positioning_df_2=most_freq_positioning_df_2.reset_index()\n",
    "most_freq_positioning_df_2"
   ]
  },
  {
   "cell_type": "code",
   "execution_count": null,
   "id": "90237f1d",
   "metadata": {},
   "outputs": [],
   "source": [
    "# all html files\n",
    "\n",
    "most_freq_positioning=links_pos_dfs_merged.set_index(\"link\").groupby(\"link\").apply(lambda x: find_positioning(x.values.flatten()))\n",
    "most_freq_positioning_df=pd.DataFrame(most_freq_positioning, columns=['most_freq_positioning'])\n",
    "most_freq_positioning_df"
   ]
  },
  {
   "cell_type": "markdown",
   "id": "80c66cf4",
   "metadata": {},
   "source": [
    "The dataframe `links_freq_pos` contains both the hyperlinks' most frequent positioning and their frequency of clicks."
   ]
  },
  {
   "cell_type": "code",
   "execution_count": null,
   "id": "bfd7ae70",
   "metadata": {},
   "outputs": [],
   "source": [
    "links_freq_pos=links_freq_df.merge(most_freq_positioning_df, how='outer', left_on='link', right_on='link')\n",
    "links_freq_pos"
   ]
  },
  {
   "cell_type": "markdown",
   "id": "e90b2547",
   "metadata": {},
   "source": [
    "The dataframe `links_freq_pos_grouped_df` groups the hyperlinks click frequency by their positioning."
   ]
  },
  {
   "cell_type": "code",
   "execution_count": null,
   "id": "88741b6f",
   "metadata": {},
   "outputs": [],
   "source": [
    "links_freq_pos_grouped=links_freq_pos['#_clicks'].groupby(links_freq_pos['most_freq_positioning']).sum()\n",
    "links_freq_pos_grouped_df=pd.DataFrame(links_freq_pos_grouped)\n",
    "links_freq_pos_grouped_df"
   ]
  },
  {
   "cell_type": "code",
   "execution_count": null,
   "id": "218dddea",
   "metadata": {},
   "outputs": [],
   "source": [
    "# normalization (/clicks_tot if possible to merge all files)\n",
    "\n",
    "links_freq_pos_grouped_df['#_clicks_norm']=links_freq_pos_grouped_df['#_clicks']/(links_freq_pos_grouped_df.sum().values)\n",
    "links_freq_pos_grouped_df"
   ]
  },
  {
   "cell_type": "markdown",
   "id": "78b28b84",
   "metadata": {},
   "source": [
    "In order to compare the hyperlinks click frequencies with regard to their positioning (i.e. _top_, _center-top_, _center_, _center-bottom_, _bottom_) their absolute values need to be normalized with the bins' frequencies (i.e. the number of times the hypelinks actually show up in the categorical positioning).\n",
    "\n",
    "The dataframe `positioning_freq_df_grouped` contains the frequency of hyperlinks showing up in the Wikispeedia set of articles grouped by their positioning throughout the text. "
   ]
  },
  {
   "cell_type": "code",
   "execution_count": null,
   "id": "c5485341",
   "metadata": {},
   "outputs": [],
   "source": [
    "# function that counts the frequency of a link showing up at the top, center, bottom of the article\n",
    "\n",
    "def find_positioning_dis(array):\n",
    "    bin_labels=['top', 'center-top','center', 'center-bottom', 'bottom']\n",
    "    bins=[0, 0.2, 0.4, 0.6, 0.8, 1]\n",
    "    cut_positioning=pd.cut(array, bins, labels=bin_labels, right=True, include_lowest=True)\n",
    "    positioning_frequency=pd.value_counts(cut_positioning)\n",
    "    return positioning_frequency"
   ]
  },
  {
   "cell_type": "code",
   "execution_count": null,
   "id": "b819e3bb",
   "metadata": {},
   "outputs": [],
   "source": [
    "# apply the function to the dataframe links positioning grouped by link  \n",
    "\n",
    "positioning_freq=links_pos_dfs_merged.set_index(\"link\").groupby(\"link\").apply(lambda x: find_positioning_dis(x.values.flatten()))\n",
    "positioning_freq_df=pd.DataFrame(positioning_freq, columns=['positioning_freq'])\n",
    "positioning_freq_df.reset_index(level=1, inplace=True)\n",
    "positioning_freq_df.rename(columns={'level_1':'positioning'}, inplace=True)\n",
    "positioning_freq_df.head(20)"
   ]
  },
  {
   "cell_type": "code",
   "execution_count": null,
   "id": "d8604226",
   "metadata": {},
   "outputs": [],
   "source": [
    "positioning_freq_df_grouped=positioning_freq_df.groupby('positioning').sum()\n",
    "positioning_freq_df_grouped.columns=['nr']\n",
    "links_tot=np.sum(positioning_freq_df['positioning_freq'])\n",
    "positioning_freq_df_grouped['nr_norm']=positioning_freq_df_grouped['nr']/links_tot\n",
    "positioning_freq_df_grouped"
   ]
  },
  {
   "cell_type": "code",
   "execution_count": null,
   "id": "7761d8e9",
   "metadata": {},
   "outputs": [],
   "source": [
    "# visualization of the distribution of the clicked hyperlinks' positioning\n",
    "\n",
    "# dataframe for visualization\n",
    "vis=links_freq_pos_grouped_df.merge(positioning_freq_df_grouped, left_index=True, right_index=True)\n",
    "\n",
    "fig, ax = plt.subplots(1,2, figsize=(11,4))\n",
    "vis.plot(y=['#_clicks_norm', 'nr_norm'], kind='bar', ax=ax[0], label=['#_clicks', '#_hyperlinks'], color=['orange', 'green'])\n",
    "ax[0].legend()\n",
    "ax[0].set_title('Distribution of the hyperlinks positioning')\n",
    "ax[0].set_xlabel('Positioning')\n",
    "ax[0].set_ylabel('Frequency normalized')\n",
    "\n",
    "vis['clicked']=vis['#_clicks_norm']/vis['nr_norm'] # not sure\n",
    "vis.plot(y='clicked', kind='bar', ax=ax[1], color='pink', label='')\n",
    "ax[1].legend()\n",
    "ax[1].set_title('Distribution of the hyperlinks clickability')\n",
    "ax[1].set_xlabel('Positioning')\n",
    "ax[1].set_ylabel('#_clicks / #_hyperlinks')"
   ]
  },
  {
   "cell_type": "markdown",
   "id": "22b4bbec",
   "metadata": {},
   "source": [
    "The bar plot on the left illustrates the distribution of the clicked hyperlinks and the total number of links in the articles, on the basis of their positioning throughout the articles text, both normalized. \n",
    "\n",
    "The bar plot on the right illustrates the hyperlinks clickability on the basis of their positioning. More precisely: \n",
    "1. a value of 1 (_\\#_clicks_/_\\#_hyperlinks_ = 1) corresponds to a hyperlinks clickability on average equally proportional to the normalized frequency of the specific categorical positioning (i.e. the number of clicks proportional to the number times a hyperlink shows up in a section of the article);\n",
    "2. a value of greater than 1, points a more than proportional clickability;\n",
    "3. a value of smaller than 1, points a less than proportional clickability."
   ]
  },
  {
   "cell_type": "markdown",
   "id": "5ad14a00",
   "metadata": {},
   "source": [
    "### Hyperlinks positioning in images' caption"
   ]
  },
  {
   "cell_type": "markdown",
   "id": "0c17b24e",
   "metadata": {},
   "source": [
    "The following part of the descriptive analysis focuses on the location of hyperlinks in images' captions."
   ]
  },
  {
   "cell_type": "markdown",
   "id": "4ef79c78",
   "metadata": {},
   "source": [
    "Images in html files can be either found under \\<div> or \\<table> tag, while the hyperlinks are found in their captions under \\<div class='thumbcaption'> tag."
   ]
  },
  {
   "cell_type": "markdown",
   "id": "7b7b2c8e",
   "metadata": {},
   "source": [
    "The dataframe `links_in_tables` contains the links showing up in tables' captions. "
   ]
  },
  {
   "cell_type": "code",
   "execution_count": null,
   "id": "a3978781",
   "metadata": {},
   "outputs": [],
   "source": [
    "# parse html file and search hyperlinks in the captions of tables containing images \n",
    "\n",
    "def find_link_in_table(soup):\n",
    "    \n",
    "    tables = soup.find_all('table')\n",
    "\n",
    "    links=[]\n",
    "    for table in tables:\n",
    "        if table.find('img'):\n",
    "            all_links=table.find_all('a')\n",
    "            for link in all_links:\n",
    "                if 'class' not in link.attrs:\n",
    "                    link_title=link.text\n",
    "                    links.append(link_title)\n",
    "\n",
    "    if links:\n",
    "        links_in_table_df=pd.DataFrame(links).drop_duplicates()\n",
    "        links_in_table_df.columns=['link']\n",
    "        links_in_table_df=links_in_table_df.apply(filter_link_list) \n",
    "    else: \n",
    "        return None\n",
    "    return links_in_table_df"
   ]
  },
  {
   "cell_type": "code",
   "execution_count": null,
   "id": "55ae0923",
   "metadata": {},
   "outputs": [],
   "source": [
    "links_in_tables=[]\n",
    "for soup in soups:\n",
    "    links_in_tables.append(find_link_in_table(soup))\n",
    "\n",
    "links_in_tables=pd.concat(links_in_tables, axis=0)\n",
    "links_in_tables.head()"
   ]
  },
  {
   "cell_type": "code",
   "execution_count": null,
   "id": "d2e69e9d",
   "metadata": {},
   "outputs": [],
   "source": [
    "links_in_tables_tot=len(links_in_tables)\n",
    "print('The total number of links in tables captions is {0}.'.format(links_in_tables_tot))"
   ]
  },
  {
   "cell_type": "markdown",
   "id": "aa1427be",
   "metadata": {},
   "source": [
    "The dataframe `links_in_images` contains the links showing up in images' captions."
   ]
  },
  {
   "cell_type": "code",
   "execution_count": null,
   "id": "dd2fa97c",
   "metadata": {},
   "outputs": [],
   "source": [
    "# parse html file and search hyperlinks in the captions of div containing images \n",
    "\n",
    "def find_links_in_img(soup):\n",
    "    div = soup.find_all('div')\n",
    "\n",
    "    links=[]\n",
    "\n",
    "    for d in div:\n",
    "        if (d.find('a', class_=\"internal\")):\n",
    "            if (d.find('img', class_='thumbimage')):\n",
    "                caption=d.find('div', class_=\"thumbcaption\")\n",
    "                if (caption.find('a')):\n",
    "                    all_links=caption.find_all('a')\n",
    "                    for link in all_links:\n",
    "                        if 'class' not in link.attrs:\n",
    "                            link_title=link.text\n",
    "                            links.append(link_title)\n",
    "    if links:\n",
    "        links_in_image_df=pd.DataFrame(links).drop_duplicates()\n",
    "        links_in_image_df.columns=['link']\n",
    "        links_in_image_df=links_in_image_df.apply(filter_link_list) \n",
    "    else: \n",
    "        return None\n",
    "        links_in_image_df=pd.DataFrame()\n",
    "    return links_in_image_df"
   ]
  },
  {
   "cell_type": "code",
   "execution_count": null,
   "id": "41d89127",
   "metadata": {},
   "outputs": [],
   "source": [
    "links_in_images=[]\n",
    "for soup in soups:\n",
    "    links_in_images.append(find_links_in_img(soup))\n",
    "\n",
    "links_in_images=pd.concat(links_in_images, axis=0)\n",
    "links_in_images.head()"
   ]
  },
  {
   "cell_type": "code",
   "execution_count": null,
   "id": "47fc8baa",
   "metadata": {},
   "outputs": [],
   "source": [
    "links_in_images_tot=len(links_in_images)\n",
    "print('The total number of links in images captions is {0}.'.format(links_in_images_tot))"
   ]
  },
  {
   "cell_type": "markdown",
   "id": "1e0af13a",
   "metadata": {},
   "source": [
    "Next, the supposed clickability preference for a hyperlink showing up in an image will be investigated, by grouping the click frequency by hyperlinks' location."
   ]
  },
  {
   "cell_type": "code",
   "execution_count": null,
   "id": "07264623",
   "metadata": {},
   "outputs": [],
   "source": [
    "# drop indexes to ease the flagging\n",
    "links_in_images=links_in_images.reset_index(drop=True).drop_duplicates()\n",
    "links_in_tables=links_in_tables.reset_index(drop=True).drop_duplicates()"
   ]
  },
  {
   "cell_type": "markdown",
   "id": "d8effcd1",
   "metadata": {},
   "source": [
    "The dataframe `links_freq_img` contains hyperlinks click frequency and a flag specifying if they can be found in images' captions."
   ]
  },
  {
   "cell_type": "code",
   "execution_count": null,
   "id": "1342733c",
   "metadata": {},
   "outputs": [],
   "source": [
    "# link in image\n",
    "\n",
    "flag_img=[]\n",
    "links_freq_img=links_freq_df.copy()\n",
    "\n",
    "for link in links_freq_img['link']:\n",
    "    if link in list(links_in_images['link']):\n",
    "        flag_img.append(1)\n",
    "    else:\n",
    "        flag_img.append(0)\n",
    "    \n",
    "links_freq_img['in_image']=flag_img\n",
    "links_freq_img[links_freq_img['in_image']==1][:10]"
   ]
  },
  {
   "cell_type": "markdown",
   "id": "609e090b",
   "metadata": {},
   "source": [
    "The dataframe `links_freq_tab` contains hyperlinks click frequency and a flag specifying if they can be found in tables' captions."
   ]
  },
  {
   "cell_type": "code",
   "execution_count": null,
   "id": "52e19757",
   "metadata": {},
   "outputs": [],
   "source": [
    "# link in table\n",
    "\n",
    "flag_tab=[]\n",
    "links_freq_tab=links_freq_df.copy()\n",
    "\n",
    "for link in links_freq_tab['link']:\n",
    "    if link in list(links_in_tables['link']):\n",
    "        flag_tab.append(1)\n",
    "    else:\n",
    "        flag_tab.append(0)\n",
    "    \n",
    "links_freq_tab['in_tab']=flag_tab\n",
    "links_freq_tab[links_freq_tab['in_tab']==1][:10]"
   ]
  },
  {
   "cell_type": "markdown",
   "id": "b6a55b66",
   "metadata": {},
   "source": [
    "The dataframe `links_freq_img_grouped_df` contains the frequency of clicks for hyperlinks showing up in images' captions and not, and their normalized values."
   ]
  },
  {
   "cell_type": "code",
   "execution_count": null,
   "id": "1ad62316",
   "metadata": {},
   "outputs": [],
   "source": [
    "links_freq_img_grouped_df=pd.DataFrame(links_freq_img['#_clicks'].groupby(links_freq_img['in_image']).sum())\n",
    "links_freq_img_grouped_df.loc[0,'#_clicks_norm_img']=links_freq_img_grouped_df.loc[0,'#_clicks']/clicks_tot\n",
    "links_freq_img_grouped_df.loc[1,'#_clicks_norm_img']=links_freq_img_grouped_df.loc[1,'#_clicks']/clicks_tot\n",
    "\n",
    "links_freq_img_grouped_df.loc[0,'#_clicks/#_links_img']=links_freq_img_grouped_df.loc[0,'#_clicks_norm_img']/(links_tot-links_in_images_tot)\n",
    "links_freq_img_grouped_df.loc[1,'#_clicks/#_links_img']=links_freq_img_grouped_df.loc[1,'#_clicks_norm_img']/links_in_images_tot\n",
    "\n",
    "links_freq_img_grouped_df"
   ]
  },
  {
   "cell_type": "markdown",
   "id": "1f6f98ed",
   "metadata": {},
   "source": [
    "The dataframe `links_freq_tab_grouped_df` contains the frequency of clicks for hyperlinks showing up in tables' captions and not, and their normalized values."
   ]
  },
  {
   "cell_type": "code",
   "execution_count": null,
   "id": "cfca42d5",
   "metadata": {},
   "outputs": [],
   "source": [
    "links_freq_tab_grouped_df=pd.DataFrame(links_freq_tab['#_clicks'].groupby(links_freq_tab['in_tab']).sum())\n",
    "links_freq_tab_grouped_df.loc[0,'#_clicks_norm_tab']=links_freq_tab_grouped_df.loc[0,'#_clicks']/clicks_tot\n",
    "links_freq_tab_grouped_df.loc[1,'#_clicks_norm_tab']=links_freq_tab_grouped_df.loc[1,'#_clicks']/clicks_tot\n",
    "\n",
    "links_freq_tab_grouped_df.loc[0,'#_clicks/#_links_tab']=links_freq_tab_grouped_df.loc[0,'#_clicks_norm_tab']/(links_tot-links_in_tables_tot)\n",
    "links_freq_tab_grouped_df.loc[1,'#_clicks/#_links_tab']=links_freq_tab_grouped_df.loc[1,'#_clicks_norm_tab']/links_in_tables_tot\n",
    "\n",
    "links_freq_tab_grouped_df"
   ]
  },
  {
   "cell_type": "code",
   "execution_count": null,
   "id": "6400b713",
   "metadata": {},
   "outputs": [],
   "source": [
    "vis_img=links_freq_img_grouped_df.merge(links_freq_tab_grouped_df, left_index=True, right_index=True)\n",
    "vis_img"
   ]
  },
  {
   "cell_type": "code",
   "execution_count": null,
   "id": "986cd676",
   "metadata": {},
   "outputs": [],
   "source": [
    "# dataframe for visualization\n",
    "vis_img=links_freq_img_grouped_df.merge(links_freq_tab_grouped_df, left_index=True, right_index=True)\n",
    "\n",
    "fig, ax = plt.subplots(1,2, figsize=(10,4), sharey=True)\n",
    "\n",
    "links_freq_img_grouped_df.plot(y=['#_clicks_norm_img'], kind='bar', ax=ax[0], label=['image'])\n",
    "links_freq_tab_grouped_df.plot(y=['#_clicks_norm_tab'], kind='bar', ax=ax[1], label=['table'])\n",
    "\n",
    "ax[0].legend()\n",
    "ax[1].legend()\n",
    "ax[0].set_title('Distribution of clicked hyperlinks')\n",
    "ax[1].set_title('Distribution of clicked hyperlinks')\n",
    "ax[0].set_xlabel('Link in image caption')\n",
    "ax[1].set_xlabel('Link in table caption')\n",
    "ax[0].set_ylabel('Frequency normalized')\n",
    "\n",
    "fig, ax = plt.subplots(figsize=(6,5))\n",
    "vis_img.plot(y=['#_clicks/#_links_img', '#_clicks/#_links_tab'], kind='bar', ax=ax, label=['image', 'table'], color=['orange', 'green'])\n",
    "ax.legend()\n",
    "ax.set_xlabel('Link in image or table caption')"
   ]
  },
  {
   "cell_type": "code",
   "execution_count": null,
   "id": "e5804566",
   "metadata": {},
   "outputs": [],
   "source": [
    "# need comment"
   ]
  },
  {
   "cell_type": "markdown",
   "id": "2b6f5b8f",
   "metadata": {},
   "source": [
    "Assumptions: \n",
    "1. when a hyperlink shows up in both the article text and in an image caption, it is not possible to extract from the data in our possess what the player's click choice perfomed is. Therefore we assumed that hyperlinks showing up in images' caption don't appear in the text.\n",
    "2. for the hyperlinks which show up multiple times in the article ..."
   ]
  },
  {
   "cell_type": "code",
   "execution_count": null,
   "id": "59738c64",
   "metadata": {},
   "outputs": [],
   "source": []
  }
 ],
 "metadata": {
  "kernelspec": {
   "display_name": "Python 3 (ipykernel)",
   "language": "python",
   "name": "python3"
  },
  "language_info": {
   "codemirror_mode": {
    "name": "ipython",
    "version": 3
   },
   "file_extension": ".py",
   "mimetype": "text/x-python",
   "name": "python",
   "nbconvert_exporter": "python",
   "pygments_lexer": "ipython3",
   "version": "3.9.13"
  }
 },
 "nbformat": 4,
 "nbformat_minor": 5
}
