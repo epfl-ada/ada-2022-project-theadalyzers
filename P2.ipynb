{
 "cells": [
  {
   "cell_type": "code",
   "execution_count": 1,
   "id": "f9f0b041",
   "metadata": {},
   "outputs": [],
   "source": [
    "import pandas as pd\n",
    "import numpy as np"
   ]
  },
  {
   "cell_type": "code",
   "execution_count": 2,
   "id": "f12a423c",
   "metadata": {},
   "outputs": [],
   "source": [
    "# code for reading all HTLM files in the directory"
   ]
  },
  {
   "cell_type": "code",
   "execution_count": null,
   "id": "dd6a6e28",
   "metadata": {},
   "outputs": [],
   "source": []
  },
  {
   "cell_type": "markdown",
   "id": "d4abdba1",
   "metadata": {},
   "source": [
    "The aim of this specific game strategy analysis is to test whether Wikispeedia players have clikability preferences on the positioning of the hyperlinks in the article text. Firstly we will address their postioning in the text, evaluated on the basis of the ordinal number of the paragraph they show up in; secondly we will test if there is a correlation between the clickthrough rate of the hyperlinks and their location in image captions. "
   ]
  },
  {
   "cell_type": "markdown",
   "id": "bd284008",
   "metadata": {},
   "source": [
    "It is therefore essential to extract from the data the clicktrhough rate for each hyperlink."
   ]
  },
  {
   "cell_type": "code",
   "execution_count": 3,
   "id": "500c58ea",
   "metadata": {},
   "outputs": [],
   "source": [
    "# code for extracting the clickthrough rate of hyperlinks"
   ]
  },
  {
   "cell_type": "code",
   "execution_count": 4,
   "id": "eb1a99ab",
   "metadata": {},
   "outputs": [],
   "source": [
    "folder='/Users/ginevralarroux/Desktop/EPFL courses/Applied data analysis/ADA project/data/wikispeedia_paths-and-graph/'\n",
    "\n",
    "paths_finished='paths_finished.tsv'\n",
    "articles='articles.tsv'\n",
    "\n",
    "paths_finished=pd.read_csv(folder+paths_finished, sep='\\t', skiprows=15, header=None, names=['hashedIpAddress', 'timestamp', 'durationInSec', 'path', 'rating'])\n",
    "articles=pd.read_csv(folder+articles, sep='\\t', skiprows=12, header=None, names=['article'])"
   ]
  },
  {
   "cell_type": "markdown",
   "id": "33d1d9db",
   "metadata": {},
   "source": [
    "This dataframe contains the paths chosen by the players who could reach the target article."
   ]
  },
  {
   "cell_type": "code",
   "execution_count": 5,
   "id": "4cf4ddeb",
   "metadata": {},
   "outputs": [
    {
     "data": {
      "text/html": [
       "<div>\n",
       "<style scoped>\n",
       "    .dataframe tbody tr th:only-of-type {\n",
       "        vertical-align: middle;\n",
       "    }\n",
       "\n",
       "    .dataframe tbody tr th {\n",
       "        vertical-align: top;\n",
       "    }\n",
       "\n",
       "    .dataframe thead th {\n",
       "        text-align: right;\n",
       "    }\n",
       "</style>\n",
       "<table border=\"1\" class=\"dataframe\">\n",
       "  <thead>\n",
       "    <tr style=\"text-align: right;\">\n",
       "      <th></th>\n",
       "      <th>hashedIpAddress</th>\n",
       "      <th>timestamp</th>\n",
       "      <th>durationInSec</th>\n",
       "      <th>path</th>\n",
       "      <th>rating</th>\n",
       "    </tr>\n",
       "  </thead>\n",
       "  <tbody>\n",
       "    <tr>\n",
       "      <th>0</th>\n",
       "      <td>6a3701d319fc3754</td>\n",
       "      <td>1297740409</td>\n",
       "      <td>166</td>\n",
       "      <td>14th_century;15th_century;16th_century;Pacific...</td>\n",
       "      <td>NaN</td>\n",
       "    </tr>\n",
       "    <tr>\n",
       "      <th>1</th>\n",
       "      <td>3824310e536af032</td>\n",
       "      <td>1344753412</td>\n",
       "      <td>88</td>\n",
       "      <td>14th_century;Europe;Africa;Atlantic_slave_trad...</td>\n",
       "      <td>3.0</td>\n",
       "    </tr>\n",
       "    <tr>\n",
       "      <th>2</th>\n",
       "      <td>415612e93584d30e</td>\n",
       "      <td>1349298640</td>\n",
       "      <td>138</td>\n",
       "      <td>14th_century;Niger;Nigeria;British_Empire;Slav...</td>\n",
       "      <td>NaN</td>\n",
       "    </tr>\n",
       "    <tr>\n",
       "      <th>3</th>\n",
       "      <td>64dd5cd342e3780c</td>\n",
       "      <td>1265613925</td>\n",
       "      <td>37</td>\n",
       "      <td>14th_century;Renaissance;Ancient_Greece;Greece</td>\n",
       "      <td>NaN</td>\n",
       "    </tr>\n",
       "    <tr>\n",
       "      <th>4</th>\n",
       "      <td>015245d773376aab</td>\n",
       "      <td>1366730828</td>\n",
       "      <td>175</td>\n",
       "      <td>14th_century;Italy;Roman_Catholic_Church;HIV;R...</td>\n",
       "      <td>3.0</td>\n",
       "    </tr>\n",
       "  </tbody>\n",
       "</table>\n",
       "</div>"
      ],
      "text/plain": [
       "    hashedIpAddress   timestamp  durationInSec  \\\n",
       "0  6a3701d319fc3754  1297740409            166   \n",
       "1  3824310e536af032  1344753412             88   \n",
       "2  415612e93584d30e  1349298640            138   \n",
       "3  64dd5cd342e3780c  1265613925             37   \n",
       "4  015245d773376aab  1366730828            175   \n",
       "\n",
       "                                                path  rating  \n",
       "0  14th_century;15th_century;16th_century;Pacific...     NaN  \n",
       "1  14th_century;Europe;Africa;Atlantic_slave_trad...     3.0  \n",
       "2  14th_century;Niger;Nigeria;British_Empire;Slav...     NaN  \n",
       "3     14th_century;Renaissance;Ancient_Greece;Greece     NaN  \n",
       "4  14th_century;Italy;Roman_Catholic_Church;HIV;R...     3.0  "
      ]
     },
     "execution_count": 5,
     "metadata": {},
     "output_type": "execute_result"
    }
   ],
   "source": [
    "paths_finished.head()"
   ]
  },
  {
   "cell_type": "markdown",
   "id": "d1ede0db",
   "metadata": {},
   "source": [
    "This dataframe lists all the clickable articles."
   ]
  },
  {
   "cell_type": "code",
   "execution_count": 6,
   "id": "bfc76da5",
   "metadata": {},
   "outputs": [
    {
     "data": {
      "text/html": [
       "<div>\n",
       "<style scoped>\n",
       "    .dataframe tbody tr th:only-of-type {\n",
       "        vertical-align: middle;\n",
       "    }\n",
       "\n",
       "    .dataframe tbody tr th {\n",
       "        vertical-align: top;\n",
       "    }\n",
       "\n",
       "    .dataframe thead th {\n",
       "        text-align: right;\n",
       "    }\n",
       "</style>\n",
       "<table border=\"1\" class=\"dataframe\">\n",
       "  <thead>\n",
       "    <tr style=\"text-align: right;\">\n",
       "      <th></th>\n",
       "      <th>article</th>\n",
       "    </tr>\n",
       "  </thead>\n",
       "  <tbody>\n",
       "    <tr>\n",
       "      <th>0</th>\n",
       "      <td>%C3%81ed%C3%A1n_mac_Gabr%C3%A1in</td>\n",
       "    </tr>\n",
       "    <tr>\n",
       "      <th>1</th>\n",
       "      <td>%C3%85land</td>\n",
       "    </tr>\n",
       "    <tr>\n",
       "      <th>2</th>\n",
       "      <td>%C3%89douard_Manet</td>\n",
       "    </tr>\n",
       "    <tr>\n",
       "      <th>3</th>\n",
       "      <td>%C3%89ire</td>\n",
       "    </tr>\n",
       "    <tr>\n",
       "      <th>4</th>\n",
       "      <td>%C3%93engus_I_of_the_Picts</td>\n",
       "    </tr>\n",
       "  </tbody>\n",
       "</table>\n",
       "</div>"
      ],
      "text/plain": [
       "                            article\n",
       "0  %C3%81ed%C3%A1n_mac_Gabr%C3%A1in\n",
       "1                        %C3%85land\n",
       "2                %C3%89douard_Manet\n",
       "3                         %C3%89ire\n",
       "4        %C3%93engus_I_of_the_Picts"
      ]
     },
     "execution_count": 6,
     "metadata": {},
     "output_type": "execute_result"
    }
   ],
   "source": [
    "articles.head()"
   ]
  },
  {
   "cell_type": "code",
   "execution_count": 7,
   "id": "5fb9090e",
   "metadata": {},
   "outputs": [
    {
     "data": {
      "text/plain": [
       "[['14th_century',\n",
       "  '15th_century',\n",
       "  '16th_century',\n",
       "  'Pacific_Ocean',\n",
       "  'Atlantic_Ocean',\n",
       "  'Accra',\n",
       "  'Africa',\n",
       "  'Atlantic_slave_trade',\n",
       "  'African_slave_trade'],\n",
       " ['14th_century',\n",
       "  'Europe',\n",
       "  'Africa',\n",
       "  'Atlantic_slave_trade',\n",
       "  'African_slave_trade'],\n",
       " ['14th_century',\n",
       "  'Niger',\n",
       "  'Nigeria',\n",
       "  'British_Empire',\n",
       "  'Slavery',\n",
       "  'Africa',\n",
       "  'Atlantic_slave_trade',\n",
       "  'African_slave_trade'],\n",
       " ['14th_century', 'Renaissance', 'Ancient_Greece', 'Greece'],\n",
       " ['14th_century',\n",
       "  'Italy',\n",
       "  'Roman_Catholic_Church',\n",
       "  'HIV',\n",
       "  'Ronald_Reagan',\n",
       "  'President_of_the_United_States',\n",
       "  'John_F._Kennedy'],\n",
       " ['14th_century',\n",
       "  'Europe',\n",
       "  'North_America',\n",
       "  'United_States',\n",
       "  'President_of_the_United_States',\n",
       "  'John_F._Kennedy'],\n",
       " ['14th_century', 'China', 'Gunpowder', 'Fire'],\n",
       " ['14th_century', 'Time', 'Isaac_Newton', 'Light', 'Color', 'Rainbow'],\n",
       " ['14th_century', 'Time', 'Light', 'Rainbow'],\n",
       " ['14th_century',\n",
       "  '15th_century',\n",
       "  'Plato',\n",
       "  'Nature',\n",
       "  'Ultraviolet',\n",
       "  'Color',\n",
       "  'Rainbow']]"
      ]
     },
     "execution_count": 7,
     "metadata": {},
     "output_type": "execute_result"
    }
   ],
   "source": [
    "# this is the list articles in the lists of paths\n",
    "\n",
    "clicked_links=[]\n",
    "for x in paths_finished['path']:\n",
    "    path=(x.split(';'))\n",
    "    clicked_links.append(path)\n",
    "\n",
    "clicked_links[:10]"
   ]
  },
  {
   "cell_type": "code",
   "execution_count": null,
   "id": "5a1ed64e",
   "metadata": {},
   "outputs": [],
   "source": [
    "# this is the dataframe containing the hyperlinks and their clicktrhough rates\n",
    "\n",
    "links_name=[]\n",
    "links_freq=[]\n",
    "count=0\n",
    "i=0\n",
    "for article in articles['article']:\n",
    "    links_name.append(article)\n",
    "    for i in range(len(clicked_links)):\n",
    "        if article in clicked_links[i]:\n",
    "            count+=1 \n",
    "    links_freq.append(count)\n",
    "\n",
    "links_name=pd.Series(links_name)\n",
    "links_freq=pd.Series(links_freq)\n",
    "links_freq_df=pd.concat([links_name, links_freq], axis=1, names=['link', 'clickthrough_rate'])\n",
    "links_freq_df.columns=['link', 'clickthrough_rate']\n",
    "links_freq_df.head(10)"
   ]
  },
  {
   "cell_type": "code",
   "execution_count": null,
   "id": "675681ff",
   "metadata": {},
   "outputs": [],
   "source": [
    "# code for extracting the positioning of the hyperlinks in the article text"
   ]
  },
  {
   "cell_type": "code",
   "execution_count": null,
   "id": "aa8883c5",
   "metadata": {},
   "outputs": [],
   "source": [
    "from bs4 import BeautifulSoup"
   ]
  },
  {
   "cell_type": "code",
   "execution_count": null,
   "id": "a5af0dff",
   "metadata": {},
   "outputs": [],
   "source": [
    "URL = '/Users/ginevralarroux/Desktop/EPFL courses/Applied data analysis/ADA project/data/wpcd/wp/a/A_cappella.htm'\n",
    "\n",
    "f=open(URL, 'r')\n",
    "soup = BeautifulSoup(f, 'lxml')"
   ]
  },
  {
   "cell_type": "code",
   "execution_count": null,
   "id": "6483f481",
   "metadata": {},
   "outputs": [],
   "source": [
    "# Andres' code\n",
    "\n",
    "#for i, p in enumerate(soup.find_all(\"p\")):\n",
    "#    as_in_p = p.find_all(\"a\")\n",
    "#    for a in as_in_p:\n",
    "#        print(f\"{i+1:<10} {a.text:<20} {a.get('href')}\")"
   ]
  },
  {
   "cell_type": "code",
   "execution_count": null,
   "id": "35740571",
   "metadata": {},
   "outputs": [],
   "source": [
    "paragraphs = soup.find_all('p')\n",
    "print('The total number of paragraphs is {0}.'.format(len(paragraphs)))"
   ]
  },
  {
   "cell_type": "code",
   "execution_count": null,
   "id": "4d0c894c",
   "metadata": {
    "scrolled": true
   },
   "outputs": [],
   "source": [
    "# HTML tag for hyperlinks is <a href= >\n",
    "# this is the dataframe of the hyperlinks contained in an article, with the number of paragraph they show up in \n",
    "# and its relative postion in the article\n",
    "\n",
    "links=[]\n",
    "i=0\n",
    "\n",
    "for p in paragraphs:\n",
    "    i+=1\n",
    "    all_links=p.find_all('a')\n",
    "    for link in all_links:\n",
    "        if 'href' in link.attrs:\n",
    "            link_title=link.text\n",
    "            link_paragraph=i\n",
    "            links.append([link_title, link_paragraph])\n",
    "\n",
    "link_positioning_df=pd.DataFrame(links, columns=['link', '#_paragraph'])\n",
    "link_positioning_df['positioning']=round(link_positioning_df['#_paragraph']/len(paragraphs), 2)\n",
    "link_positioning_df"
   ]
  },
  {
   "cell_type": "code",
   "execution_count": null,
   "id": "5ed2e5f4",
   "metadata": {},
   "outputs": [],
   "source": [
    "# code for finding hyperlinks in images' caption"
   ]
  },
  {
   "cell_type": "code",
   "execution_count": null,
   "id": "10a372cb",
   "metadata": {},
   "outputs": [],
   "source": [
    "URL = '/Users/ginevralarroux/Desktop/EPFL courses/Applied data analysis/ADA project/data/wpcd/wp/a/Aachen.htm'\n",
    "f=open(URL, 'r')\n",
    "soup2 = BeautifulSoup(f, 'lxml')"
   ]
  },
  {
   "cell_type": "code",
   "execution_count": null,
   "id": "7539e68f",
   "metadata": {},
   "outputs": [],
   "source": [
    "# in an HTML file the images can be either find under tables or div tags "
   ]
  },
  {
   "cell_type": "code",
   "execution_count": null,
   "id": "739b614d",
   "metadata": {},
   "outputs": [],
   "source": [
    "tables = soup2.find_all('table')\n",
    "print('The total number of tables is {0}.'.format(len(tables)))"
   ]
  },
  {
   "cell_type": "code",
   "execution_count": null,
   "id": "ecb418c8",
   "metadata": {},
   "outputs": [],
   "source": [
    "img = soup2.find_all('img')\n",
    "print('The total number of images is {0}.'.format(len(img)))"
   ]
  },
  {
   "cell_type": "code",
   "execution_count": null,
   "id": "1060933b",
   "metadata": {},
   "outputs": [],
   "source": [
    "# images under table tags\n",
    "# dataframe of hyperlinks in tables' captions\n",
    "\n",
    "links=[]\n",
    "\n",
    "for table in tables:\n",
    "    if (table.img):\n",
    "        all_links= table.find_all('a')\n",
    "        for link in all_links:\n",
    "            if 'class' not in link.attrs:\n",
    "                link_title=link.text\n",
    "                links.append(link_title)\n",
    "        \n",
    "links_in_table_df=pd.DataFrame(links)\n",
    "links_in_table_df.columns=['link_in_table']\n",
    "links_in_table_df"
   ]
  },
  {
   "cell_type": "code",
   "execution_count": null,
   "id": "de7beaa5",
   "metadata": {
    "scrolled": false
   },
   "outputs": [],
   "source": [
    "# images under div tags\n",
    "# dataframe of hyperlinks in tables' captions\n",
    "\n",
    "div = soup2.find_all('div')\n",
    "\n",
    "links=[]\n",
    "\n",
    "for d in div:\n",
    "    if (d.find('a', class_=\"internal\")):\n",
    "        if (d.find('img', class_='thumbimage')):\n",
    "            caption=d.find('div', class_=\"thumbcaption\")\n",
    "            if (caption.find('a')):\n",
    "                all_links=caption.find_all('a')\n",
    "                for link in all_links:\n",
    "                    if 'class' not in link.attrs:\n",
    "                        link_title=link.text\n",
    "                        links.append(link_title)\n",
    "                            \n",
    "links_in_image_df=pd.DataFrame(links).drop_duplicates() \n",
    "links_in_image_df.columns=['link_in_image']\n",
    "links_in_image_df    "
   ]
  },
  {
   "cell_type": "code",
   "execution_count": null,
   "id": "34df208c",
   "metadata": {},
   "outputs": [],
   "source": [
    "# when we'll have all the articles' dataframes we will merge them by link and get the average of their positioning\n",
    "# we will sort the articles based on their clickthrough rate, ascending=False\n",
    "# we will check if there is a correlation between the positioning and clickthrough rate"
   ]
  },
  {
   "cell_type": "code",
   "execution_count": null,
   "id": "5a846196",
   "metadata": {},
   "outputs": [],
   "source": []
  }
 ],
 "metadata": {
  "kernelspec": {
   "display_name": "Python [conda env:ada] *",
   "language": "python",
   "name": "conda-env-ada-py"
  },
  "language_info": {
   "codemirror_mode": {
    "name": "ipython",
    "version": 3
   },
   "file_extension": ".py",
   "mimetype": "text/x-python",
   "name": "python",
   "nbconvert_exporter": "python",
   "pygments_lexer": "ipython3",
   "version": "3.9.13"
  }
 },
 "nbformat": 4,
 "nbformat_minor": 5
}
