{
 "cells": [
  {
   "cell_type": "code",
   "execution_count": 1,
   "id": "94145039",
   "metadata": {},
   "outputs": [],
   "source": [
    "from bs4 import BeautifulSoup"
   ]
  },
  {
   "cell_type": "code",
   "execution_count": 2,
   "id": "a5af0dff",
   "metadata": {},
   "outputs": [],
   "source": [
    "#URL = '/Users/ginevralarroux/Desktop/EPFL courses/Applied data analysis/ADA project/data/wpcd/wp/a/A_cappella.htm'\n",
    "URL= '/Users/ginevralarroux/Downloads/A_cappella.htm'\n",
    "f=open(URL, 'r')\n",
    "soup = BeautifulSoup(f, 'lxml')"
   ]
  },
  {
   "cell_type": "code",
   "execution_count": 3,
   "id": "53c6dcf4",
   "metadata": {},
   "outputs": [
    {
     "name": "stdout",
     "output_type": "stream",
     "text": [
      "<!DOCTYPE html PUBLIC \"-//W3C//DTD XHTML 1.0 Transitional//EN\" \"http://www.w3.org/TR/xhtml1/DTD/xhtml1-transitional.dtd\">\n",
      "<html dir=\"ltr\" lang=\"en\" xml:lang=\"en\" xmlns=\"http://www.w3.org/1999/xhtml\">\n",
      "<head>\n",
      "<meta content=\"text/html; charset=utf-8\" http-equiv=\"Content-Type\"/>\n",
      "<meta content=\"noindex,nofollow\" name=\"robots\"/>\n",
      "<meta content=\"A cappella,1909,1980s,2007,2 Unlimited,ABC Family,A Cappella (album),Acappella (group),Accompaniment,All 4 One,Amish\" name=\"keywords\"/>\n",
      "<link href=\"../../favicon.ico\" rel=\"shortcut icon\"/>\n",
      "<link href=\"../../wp/w/Wikipedia_Text_of_the_GNU_Free_Documentation_License.htm\" rel=\"copyright\"/>\n",
      "<title>A cappella</title>\n",
      "<style media=\"screen,projection\" type=\"text/css\">/*<![CDATA[*/ @import \"../../css/wp-monobook-main.css\"; /*]]>*/</style>\n",
      "<link href=\"../../css/wp-commonPrint.css\" media=\"print\" rel=\"stylesheet\" type=\"text/css\"/>\n",
      "<!--[if lt IE 5.5000]><style type=\"text/css\">@import \"../../css/IE50Fixes.css\";</style><![endif]-->\n",
      "<!--[if IE 5.5000]><style type=\"text/css\">@import \"../../css/IE55Fixes.css\";</style><![endif]-->\n",
      "<!--[if IE 6]><style type=\"text/css\">@import \"../../css/IE60Fixes.css\";</style><![endif]-->\n",
      "<!--[if IE 7]><style type=\"text/css\">@import \"../../css/IE70Fixes.css\";</style><![endif]-->\n",
      "<!--[if lt IE 7]><script type=\"text/javascript\" src=\"../../js/IEFixes.js\"></script>\n",
      "\t\t<meta http-equiv=\"imagetoolbar\" content=\"no\" /><![endif]-->\n",
      "<script type=\"text/javascript\">/*<![CDATA[*/\n",
      "var skin = \"monobook\";\n",
      "var stylepath = \"/skins-1.5\";\n",
      "var wgArticlePath = \"/wiki/$1\";\n",
      "var wgScriptPath = \"/w\";\n",
      "var wgServer = \"http://en.wikipedia.org\";\n",
      "var wgCanonicalNamespace = \"\";\n",
      "var wgCanonicalSpecialPageName = false;\n",
      "var wgNamespaceNumber = 0;\n",
      "var wgPageName = \"A_cappella\";\n",
      "var wgTitle = \"A cappella\";\n",
      "var wgAction = \"view\";\n",
      "var wgArticleId = \"2411\";\n",
      "var wgIsArticle = true;\n",
      "var wgUserName = null;\n",
      "var wgUserGroups = null;\n",
      "var wgUserLanguage = \"en\";\n",
      "var wgContentLanguage = \"en\";\n",
      "var wgBreakFrames = false;\n",
      "var wgCurRevisionId = \"130243444\";\n",
      "/*]]>*/</script>\n",
      "<script src=\"../../js/wikibits.js\" type=\"text/javascript\"><!-- wikibits js --></script>\n",
      "<script src=\"../../js/wp.js\" type=\"text/javascript\"><!-- site js --></script>\n",
      "<style type=\"text/css\">/*<![CDATA[*/\n",
      "@import \"../../css/wp-common.css\";\n",
      "@import \"../../css/wp-monobook.css\";\n",
      "@import \"../../css/wp.css\";\n",
      "/*]]>*/</style>\n",
      "<!-- Head Scripts -->\n",
      "</head>\n",
      "<body class=\"mediawiki ns-0 ltr page-A_cappella\">\n",
      "<div id=\"globalWrapper\">\n",
      "<div id=\"column-content\">\n",
      "<div id=\"content\"><a id=\"top\" name=\"top\"></a><h1 class=\"firstHeading\">A cappella</h1>\n",
      "<div id=\"bodyContent\">\n",
      "<h3 id=\"siteSub\"><a href=\"../../index.htm\">2007 Schools Wikipedia Selection</a>. Related subjects: <a href=\"../index/subject.Music.Musical_genres_styles_eras_and_events.htm\">Musical genres, styles, eras and events</a></h3>\n",
      "<!-- start content -->\n",
      "<p><b>A cappella</b> <a href=\"../../wp/m/Music.htm\" title=\"Music\">music</a> is <!--del_lnk--> vocal music or <!--del_lnk--> singing without <a href=\"../../wp/m/Musical_instrument.htm\" title=\"Musical instrument\">instrumental</a> <!--del_lnk--> accompaniment, or a piece intended to be performed in this way. <i>A cappella</i> is <!--del_lnk--> Italian for \"in the style of the chapel\", and was originally intended to differentiate between <a href=\"../../wp/r/Renaissance_music.htm\" title=\"Renaissance music\">Renaissance</a> <!--del_lnk--> polyphony and <!--del_lnk--> Baroque <!--del_lnk--> concertato style. In the 19th century a renewed interest in Renaissance polyphony coupled with an ignorance of the fact that vocal parts were often doubled by instrumentalists led to the term coming to mean unaccompanied vocal music.<script type=\"text/javascript\">\n",
      "//<![CDATA[\n",
      " if (window.showTocToggle) { var tocShowText = \"show\"; var tocHideText = \"hide\"; showTocToggle(); } \n",
      "//]]>\n",
      "</script>\n",
      "</p><p><a id=\"Religious_traditions\" name=\"Religious_traditions\"></a></p><h2><span class=\"mw-headline\">Religious traditions</span></h2>\n",
      "<p>A cappella music originally was, and still often is, used in <!--del_lnk--> church music. <a href=\"../../wp/g/Gregorian_chant.htm\" title=\"Gregorian chant\">Gregorian chant</a> is an example of a cappella singing, as is the majority of sacred vocal music from the <a href=\"../../wp/r/Renaissance_music.htm\" title=\"Renaissance music\">Renaissance</a>. The <!--del_lnk--> Madrigal, up until its development in the early <!--del_lnk--> Baroque into an instrumentally-accompanied form, is also usually an a cappella form.</p><p><a id=\"Christian\" name=\"Christian\"></a></p><h3><span class=\"mw-headline\">Christian</span></h3>\n",
      "<p>Present-day Christian religious bodies known for conducting their worship services without musical accompaniment include the <a href=\"../../wp/a/Amish.htm\" title=\"Amish\">Amish</a>, <!--del_lnk--> Old Regular Baptists, <!--del_lnk--> Primitive Baptists, <!--del_lnk--> Plymouth Brethren, most congregations among the <!--del_lnk--> churches of Christ, the <!--del_lnk--> Old German Baptist Brethren, some <!--del_lnk--> Presbyterian churches devoted to the <!--del_lnk--> regulative principle of worship, and the <a href=\"../../wp/e/Eastern_Orthodox_Church.htm\" title=\"Eastern Orthodox Church\">Eastern Orthodox</a> Christian Church. Many <!--del_lnk--> Mennonites also conduct some or all of their services without instruments. <!--del_lnk--> Sacred Harp, a type of religious \"folk\" music, is an a cappella style of religious singing, but is more often sung at singing conventions than at church services.</p><p>Christian a cappella <!--del_lnk--> polyphony began to be developed in Europe around the late 1400s; early works are often identified with <!--del_lnk--> Josquin des Prez. The early a cappellas seem to have had an accompanying instrument, although this instrument doubled the singers and were not independent. By the 1500s, a cappella <!--del_lnk--> polyphony had been fully developed; <!--del_lnk--> Giovanni Pierluigi da Palestrina's works are considered excellent examples. After Palestrina, the <!--del_lnk--> cantata began to take the a cappella's place.</p><p><a id=\"Jewish\" name=\"Jewish\"></a></p><h3><span class=\"mw-headline\">Jewish</span></h3>\n",
      "<p>Traditional <a href=\"../../wp/j/Judaism.htm\" title=\"Judaism\">Jewish</a> religious services do not include musical instruments. The use of instruments is traditionally forbidden on the Sabbath out of concern that players would be tempted to repair their instruments, which is forbidden on those days. (This prohibition has been relaxed in many Reform and some Conservative congregations.) Similarly, when Jewish families and larger groups sing traditional Sabbath songs known as <!--del_lnk--> zemirot outside the context of formal religious services, they usually do so a cappella, and Bar and Bat Mitzvah celebrations on the Sabbath sometimes feature entertainment by a cappella ensembles. Moreover, many Jews consider the 49-day period of the counting of the <!--del_lnk--> omer between Passover and Shavuot to be a time of semi-mourning when instrumental music is not allowed. This has led to a tradition of a cappella singing sometimes known as sefirah music.</p><p><a id=\"Muslim\" name=\"Muslim\"></a></p><h3><span class=\"mw-headline\">Muslim</span></h3>\n",
      "<p>Some <!--del_lnk--> Muslims have also adopted the idiom of a cappella music since traditional Islam prohibits the use of instruments except for some basic percussion. Muslim a cappella songs are called <!--del_lnk--> anasheed.</p><p><a id=\"Contemporary_a_cappella\" name=\"Contemporary_a_cappella\"></a></p><h2><span class=\"mw-headline\">Contemporary a cappella</span></h2>\n",
      "<p>In the modern parlance, the term applies to vocal performers who refrain from performing with any instrumental accompaniment, though some emulate the sonority of instruments with their voices, microphones, and signal processing effects.</p><p>A strong and prominent a cappella tradition was begun in the Midwest of the United States in 1911 by F. Melius Christiansen, a music faculty member at St. Olaf college in Northfield, Minnesota. The St. Olaf College Choir was established as an outgrowth of the local St. John's Lutheran Church, where Christiansen was organist and the choir was comprised at least partially of students from the nearby St. Olaf campus. The success of the ensemble was emulated by other regional conductors, and a rich tradition of a cappella choral music was born in the region at colleges like Concordia College (Moorhead, MN), Luther College (Decorah, IA), Gustavus Adolphus College (St. Peter, MN), Augustana College (Sioux Falls, South Dakota), and Augsburg College (Minneapolis, MN). The choirs typically range from 40 singers to 80 and are recognized for their efforts to perfect blend, intonation, phrasing, and pitch in a large choral setting.</p><p>The <!--del_lnk--> King's Singers are credited with promoting interest in small-group a cappella performance in the 1960s. In 1983 an a Cappella group known as <!--del_lnk--> The Flying Pickets had a Christmas number 1 in the UK with a cover of <!--del_lnk--> Yazoo's (known in the US as <!--del_lnk--> Yaz) <!--del_lnk--> Only You. A cappella music attained renewed prominence from the late <!--del_lnk--> 1980s onward, spurred by the success of Top 40 recordings by artists such as <!--del_lnk--> The Manhattan Transfer, <!--del_lnk--> Bobby McFerrin, <!--del_lnk--> Huey Lewis and the News, <!--del_lnk--> All 4 One, <!--del_lnk--> The Nylons and <!--del_lnk--> Boyz II Men.</p><p>This prominence, as well as a change in the style (voices used as modern rock instruments, including <!--del_lnk--> vocal percussion/\"<!--del_lnk--> beatboxing\") helped fuel an explosion in <!--del_lnk--> collegiate a cappella—some larger universities now have a dozen groups or more, and the total number of college groups grew from 250 circa 1990 to over 1,000 now. The oldest collegiate a cappella group is <!--del_lnk--> The Whiffenpoofs of <!--del_lnk--> Yale University, formed in <!--del_lnk--> 1909, whose members have included <!--del_lnk--> Cole Porter, <!--del_lnk--> Nicolas Rojas and relatives of <!--del_lnk--> George Bush. Other noted collegiate a cappella groups include Tufts University Beelzebubs, Smith College Smiffenpoofs, the Harvard Din &amp; Tonics, Redhot and Blue of Yale University, University of California at Berkeley's Men's Octet, Straight No Chaser of Indiana University, Off the Beat of University of Pennsylvania, and The Other Guys from University of Illinois.</p><p>Major movements in modern a cappella over the past century include <!--del_lnk--> Barbershop and <!--del_lnk--> doo wop. Contemporary a cappella includes many vocal bands who add <!--del_lnk--> vocal percussion or <!--del_lnk--> beatboxing to create a pop/rock sound, in some cases very similar to bands with instruments. One such group is <!--del_lnk--> Rockapella, a preeminent example of contemporary A Cappella. There also remains a strong a cappella presence within Christian music, as some denominations do not allow instruments to be used during services.</p><p>Arrangements of popular music for small a cappella ensembles typically include one voice singing the lead melody, one singing a rhythmic bass line, and the remaining voices contributing chordal or <!--del_lnk--> polyphonic accompaniment.</p><p>A cappella can also describe the practice of using just the vocal track(s) from a <!--del_lnk--> multitrack, instrumental recording to be <!--del_lnk--> remixed or put onto vinyl records for DJs. Artists sometimes release the vocal tracks of their popular songs so that fans can remix them. One such example is the a cappella release of <!--del_lnk--> Jay-Z's <!--del_lnk--> Black Album, which <!--del_lnk--> Danger Mouse mixed with the <a href=\"../../wp/t/The_Beatles.htm\" title=\"Beatles\">Beatles</a>' <!--del_lnk--> White Album to create <!--del_lnk--> The Grey Album.</p><p>Increased interest in modern a cappella (particularly collegiate a cappella) can be seen in the growth of awards such as the Contemporary A Cappella Recording Awards (overseen by the <!--del_lnk--> Contemporary A Cappella Society) and competitions such as the <!--del_lnk--> International Championship of Collegiate A Cappella for college groups and the <!--del_lnk--> Harmony Sweepstakes for all groups.</p><p>A Cappella's growth is not limited to live performance, with hundreds of recorded a cappella albums produced over the past decade. As of December 2006, the Recorded A Cappella Review Board (RARB) had reviewed over 660 a cappella albums since 1994, and its popular discussion forum had over 900 users and 19,000 articles.</p><p>A cappella is gaining popularity among <!--del_lnk--> South Asian youth with the emergence of primarily Hindi-English College groups. Examples of all-male groups include <!--del_lnk--> Penn Masala in the University of Pennsylvania and Raagapella in Stanford. The first all-female group is New York Masti, most of whose members have been from <!--del_lnk--> New York University. Several similar groups exist in other colleges. These groups have attained significant critical acclaim with their distinct style of mixing songs and applying a cappella to styles of different cultures. <!--del_lnk--> Penn Masala has songs in <a href=\"../../wp/h/Hindi.htm\" title=\"Hindi\">Hindi</a>, <!--del_lnk--> Arabic, <a href=\"../../wp/e/English_language.htm\" title=\"English language\">English</a>, <!--del_lnk--> Punjabi and <!--del_lnk--> Gujarati, with lyrics from different languages in the same song.</p><p><a id=\"Emulating_instruments\" name=\"Emulating_instruments\"></a></p><h2><span class=\"mw-headline\">Emulating instruments</span></h2>\n",
      "<p>People do not just always sing the words when singing a cappella; some also emulate instrumentation by reproducing the melody with their <!--del_lnk--> vocal chords. For instance, \"<!--del_lnk--> Twilight Zone\" by <!--del_lnk--> 2 Unlimited was sung a cappella to the instrumentation on the comedy <!--del_lnk--> television series <i><!--del_lnk--> Tompkins Square</i>. Another famous example of emulating instrumentation instead of singing the words is the theme song for <i><!--del_lnk--> The New Addams Family</i> series on <!--del_lnk--> Fox Family Channel (now <!--del_lnk--> ABC Family). Groups such as <!--del_lnk--> Vocal Sampling and Undivided emulate Latin rhythms a cappella. Vocal artist <!--del_lnk--> Bobby McFerrin is famous for his instrumental emulation, and <!--del_lnk--> Deke Sharon has taught seminars on how to sing a variety of instrumental sounds.</p><p><!--del_lnk--> Beatboxing is a form of a cappella music popular in the <!--del_lnk--> hip-hop community, where <a href=\"../../wp/r/Rapping.htm\" title=\"Rapping\">rap</a> is often performed a cappella also.</p><div class=\"printfooter\"> Retrieved from \"<!--del_lnk--> http://en.wikipedia.org/wiki/A_cappella\"</div>\n",
      "<!-- end content -->\n",
      "<div class=\"visualClear\">\n",
      "</div>\n",
      "</div>\n",
      "</div>\n",
      "</div>\n",
      "<!-- end of the left (by default at least) column -->\n",
      "<div class=\"visualClear\">\n",
      "</div>\n",
      "<div id=\"footer\">\n",
      "<div class=\"center\"> This reference article is mainly selected from the English Wikipedia with only minor checks and changes (see www.wikipedia.org for details of authors and sources) and is available under the <nobr><a href=\"../../wp/w/Wikipedia_Text_of_the_GNU_Free_Documentation_License.htm\">GNU Free Documentation License</a></nobr>. See also our <b><a href=\"../../disclaimer.htm\">Disclaimer</a></b>. </div>\n",
      "</div>\n",
      "<script type=\"text/javascript\">if (window.runOnloadHook) runOnloadHook();</script>\n",
      "</div>\n",
      "</body>\n",
      "</html>\n",
      "\n"
     ]
    }
   ],
   "source": [
    "#header\n",
    "soup.h1\n",
    "#\n",
    "#title\n",
    "soup.title \n",
    "soup.title.string #no html tags\n",
    "print(soup)"
   ]
  },
  {
   "cell_type": "code",
   "execution_count": 4,
   "id": "6483f481",
   "metadata": {},
   "outputs": [
    {
     "name": "stdout",
     "output_type": "stream",
     "text": [
      "1          music                ../../wp/m/Music.htm\n",
      "1          instrumental         ../../wp/m/Musical_instrument.htm\n",
      "1          Renaissance          ../../wp/r/Renaissance_music.htm\n",
      "2                               None\n",
      "3          Gregorian chant      ../../wp/g/Gregorian_chant.htm\n",
      "3          Renaissance          ../../wp/r/Renaissance_music.htm\n",
      "4                               None\n",
      "5          Amish                ../../wp/a/Amish.htm\n",
      "5          Eastern Orthodox     ../../wp/e/Eastern_Orthodox_Church.htm\n",
      "7                               None\n",
      "8          Jewish               ../../wp/j/Judaism.htm\n",
      "9                               None\n",
      "11                              None\n",
      "18         Beatles              ../../wp/t/The_Beatles.htm\n",
      "21         Hindi                ../../wp/h/Hindi.htm\n",
      "21         English              ../../wp/e/English_language.htm\n",
      "22                              None\n",
      "24         rap                  ../../wp/r/Rapping.htm\n"
     ]
    }
   ],
   "source": [
    "for i, p in enumerate(soup.find_all(\"p\")):\n",
    "    as_in_p = p.find_all(\"a\")\n",
    "    for a in as_in_p:\n",
    "        print(f\"{i+1:<10} {a.text:<20} {a.get('href')}\")"
   ]
  },
  {
   "cell_type": "code",
   "execution_count": 5,
   "id": "a8d15520",
   "metadata": {},
   "outputs": [
    {
     "name": "stdout",
     "output_type": "stream",
     "text": [
      "The webpage cointains 23 hypher links.\n"
     ]
    }
   ],
   "source": [
    "all_links = soup.find_all(['a', 'href'])\n",
    "print('The webpage cointains {0} hypher links.'.format(len(all_links)))"
   ]
  },
  {
   "cell_type": "code",
   "execution_count": 6,
   "id": "35740571",
   "metadata": {},
   "outputs": [
    {
     "name": "stdout",
     "output_type": "stream",
     "text": [
      "The total number of paragraphs is 24.\n"
     ]
    }
   ],
   "source": [
    "paragraphs = soup.find_all('p')\n",
    "print('The total number of paragraphs is {0}.'.format(len(paragraphs)))"
   ]
  },
  {
   "cell_type": "code",
   "execution_count": 7,
   "id": "4d0c894c",
   "metadata": {
    "scrolled": true
   },
   "outputs": [],
   "source": [
    "links=[]\n",
    "i=0\n",
    "\n",
    "for p in paragraphs:\n",
    "    i+=1\n",
    "    all_links=p.find_all('a')\n",
    "    for link in all_links:\n",
    "        link_title=link.text\n",
    "        link_paragraph=i\n",
    "        links.append([link_title, link_paragraph])\n",
    "\n",
    "import pandas as pd\n",
    "link_positioning_df=pd.DataFrame(links, columns=['Link', 'Number of paragraph'])\n",
    "link_positioning_df=link_positioning_df.loc[link_positioning_df['Link']!='']"
   ]
  },
  {
   "cell_type": "code",
   "execution_count": 8,
   "id": "63430b56",
   "metadata": {},
   "outputs": [
    {
     "data": {
      "text/html": [
       "<div>\n",
       "<style scoped>\n",
       "    .dataframe tbody tr th:only-of-type {\n",
       "        vertical-align: middle;\n",
       "    }\n",
       "\n",
       "    .dataframe tbody tr th {\n",
       "        vertical-align: top;\n",
       "    }\n",
       "\n",
       "    .dataframe thead th {\n",
       "        text-align: right;\n",
       "    }\n",
       "</style>\n",
       "<table border=\"1\" class=\"dataframe\">\n",
       "  <thead>\n",
       "    <tr style=\"text-align: right;\">\n",
       "      <th></th>\n",
       "      <th>Link</th>\n",
       "      <th>Number of paragraph</th>\n",
       "      <th>Position</th>\n",
       "    </tr>\n",
       "  </thead>\n",
       "  <tbody>\n",
       "    <tr>\n",
       "      <th>0</th>\n",
       "      <td>music</td>\n",
       "      <td>1</td>\n",
       "      <td>0.04</td>\n",
       "    </tr>\n",
       "    <tr>\n",
       "      <th>1</th>\n",
       "      <td>instrumental</td>\n",
       "      <td>1</td>\n",
       "      <td>0.04</td>\n",
       "    </tr>\n",
       "    <tr>\n",
       "      <th>2</th>\n",
       "      <td>Renaissance</td>\n",
       "      <td>1</td>\n",
       "      <td>0.04</td>\n",
       "    </tr>\n",
       "    <tr>\n",
       "      <th>4</th>\n",
       "      <td>Gregorian chant</td>\n",
       "      <td>3</td>\n",
       "      <td>0.12</td>\n",
       "    </tr>\n",
       "    <tr>\n",
       "      <th>5</th>\n",
       "      <td>Renaissance</td>\n",
       "      <td>3</td>\n",
       "      <td>0.12</td>\n",
       "    </tr>\n",
       "    <tr>\n",
       "      <th>7</th>\n",
       "      <td>Amish</td>\n",
       "      <td>5</td>\n",
       "      <td>0.21</td>\n",
       "    </tr>\n",
       "    <tr>\n",
       "      <th>8</th>\n",
       "      <td>Eastern Orthodox</td>\n",
       "      <td>5</td>\n",
       "      <td>0.21</td>\n",
       "    </tr>\n",
       "    <tr>\n",
       "      <th>10</th>\n",
       "      <td>Jewish</td>\n",
       "      <td>8</td>\n",
       "      <td>0.33</td>\n",
       "    </tr>\n",
       "    <tr>\n",
       "      <th>13</th>\n",
       "      <td>Beatles</td>\n",
       "      <td>18</td>\n",
       "      <td>0.75</td>\n",
       "    </tr>\n",
       "    <tr>\n",
       "      <th>14</th>\n",
       "      <td>Hindi</td>\n",
       "      <td>21</td>\n",
       "      <td>0.88</td>\n",
       "    </tr>\n",
       "    <tr>\n",
       "      <th>15</th>\n",
       "      <td>English</td>\n",
       "      <td>21</td>\n",
       "      <td>0.88</td>\n",
       "    </tr>\n",
       "    <tr>\n",
       "      <th>17</th>\n",
       "      <td>rap</td>\n",
       "      <td>24</td>\n",
       "      <td>1.00</td>\n",
       "    </tr>\n",
       "  </tbody>\n",
       "</table>\n",
       "</div>"
      ],
      "text/plain": [
       "                Link  Number of paragraph  Position\n",
       "0              music                    1      0.04\n",
       "1       instrumental                    1      0.04\n",
       "2        Renaissance                    1      0.04\n",
       "4    Gregorian chant                    3      0.12\n",
       "5        Renaissance                    3      0.12\n",
       "7              Amish                    5      0.21\n",
       "8   Eastern Orthodox                    5      0.21\n",
       "10            Jewish                    8      0.33\n",
       "13           Beatles                   18      0.75\n",
       "14             Hindi                   21      0.88\n",
       "15           English                   21      0.88\n",
       "17               rap                   24      1.00"
      ]
     },
     "execution_count": 8,
     "metadata": {},
     "output_type": "execute_result"
    }
   ],
   "source": [
    "link_positioning_df['Position']=round(link_positioning_df['Number of paragraph']/len(paragraphs), 2)\n",
    "link_positioning_df"
   ]
  },
  {
   "cell_type": "code",
   "execution_count": 9,
   "id": "10a372cb",
   "metadata": {},
   "outputs": [],
   "source": [
    "URL = '/Users/ginevralarroux/Desktop/EPFL courses/Applied data analysis/ADA project/data/wpcd/wp/a/Aachen.htm'\n",
    "f=open(URL, 'r')\n",
    "ch = BeautifulSoup(f, 'lxml')"
   ]
  },
  {
   "cell_type": "code",
   "execution_count": 10,
   "id": "ecb418c8",
   "metadata": {},
   "outputs": [
    {
     "name": "stdout",
     "output_type": "stream",
     "text": [
      "The total number of images is 24.\n"
     ]
    }
   ],
   "source": [
    "img = ch.find_all('img')\n",
    "print('The total number of images is {0}.'.format(len(img)))"
   ]
  },
  {
   "cell_type": "code",
   "execution_count": 11,
   "id": "970cc3fc",
   "metadata": {},
   "outputs": [
    {
     "name": "stdout",
     "output_type": "stream",
     "text": [
      "The total number of tables is 2.\n"
     ]
    }
   ],
   "source": [
    "tables = ch.find_all('table')\n",
    "print('The total number of tables is {0}.'.format(len(tables)))"
   ]
  },
  {
   "cell_type": "code",
   "execution_count": 12,
   "id": "1060933b",
   "metadata": {},
   "outputs": [
    {
     "data": {
      "text/html": [
       "<div>\n",
       "<style scoped>\n",
       "    .dataframe tbody tr th:only-of-type {\n",
       "        vertical-align: middle;\n",
       "    }\n",
       "\n",
       "    .dataframe tbody tr th {\n",
       "        vertical-align: top;\n",
       "    }\n",
       "\n",
       "    .dataframe thead th {\n",
       "        text-align: right;\n",
       "    }\n",
       "</style>\n",
       "<table border=\"1\" class=\"dataframe\">\n",
       "  <thead>\n",
       "    <tr style=\"text-align: right;\">\n",
       "      <th></th>\n",
       "      <th>0</th>\n",
       "    </tr>\n",
       "  </thead>\n",
       "  <tbody>\n",
       "    <tr>\n",
       "      <th>2</th>\n",
       "      <td>Country</td>\n",
       "    </tr>\n",
       "    <tr>\n",
       "      <th>3</th>\n",
       "      <td>Germany</td>\n",
       "    </tr>\n",
       "  </tbody>\n",
       "</table>\n",
       "</div>"
      ],
      "text/plain": [
       "         0\n",
       "2  Country\n",
       "3  Germany"
      ]
     },
     "execution_count": 12,
     "metadata": {},
     "output_type": "execute_result"
    }
   ],
   "source": [
    "links=[]\n",
    "\n",
    "for table in tables:\n",
    "    if (table.img!=None):\n",
    "        all_links= table.find_all('a')\n",
    "        for link in all_links:\n",
    "            link_title=link.text\n",
    "            links.append(link_title)\n",
    "        \n",
    "link_in_table_df=pd.DataFrame(links)\n",
    "link_in_table_df=link_in_table_df[link_in_table_df!='']\n",
    "link_in_table_df.dropna()     "
   ]
  },
  {
   "cell_type": "code",
   "execution_count": 13,
   "id": "de7beaa5",
   "metadata": {
    "scrolled": false
   },
   "outputs": [
    {
     "name": "stdout",
     "output_type": "stream",
     "text": [
      "38\n",
      "\n",
      "<div class=\"thumbcaption\">\n",
      "<div class=\"magnify\" style=\"float:right\"><a class=\"internal\" href=\"../../images/39/3932.jpg.htm\" title=\"Enlarge\"><img alt=\"\" height=\"11\" src=\"../../images/0/1.png\" width=\"15\"/></a></div> Construction of Aix-la-Chapelle, by <!--del_lnk--> Jean Fouquet</div>\n",
      "\n",
      "<div class=\"thumbcaption\">\n",
      "<div class=\"magnify\" style=\"float:right\"><a class=\"internal\" href=\"../../images/39/3932.jpg.htm\" title=\"Enlarge\"><img alt=\"\" height=\"11\" src=\"../../images/0/1.png\" width=\"15\"/></a></div> Construction of Aix-la-Chapelle, by <!--del_lnk--> Jean Fouquet</div>\n",
      "\n",
      "<div class=\"thumbcaption\">\n",
      "<div class=\"magnify\" style=\"float:right\"><a class=\"internal\" href=\"../../images/39/3932.jpg.htm\" title=\"Enlarge\"><img alt=\"\" height=\"11\" src=\"../../images/0/1.png\" width=\"15\"/></a></div> Construction of Aix-la-Chapelle, by <!--del_lnk--> Jean Fouquet</div>\n",
      "\n",
      "<div class=\"thumbcaption\">\n",
      "<div class=\"magnify\" style=\"float:right\"><a class=\"internal\" href=\"../../images/39/3932.jpg.htm\" title=\"Enlarge\"><img alt=\"\" height=\"11\" src=\"../../images/0/1.png\" width=\"15\"/></a></div> Construction of Aix-la-Chapelle, by <!--del_lnk--> Jean Fouquet</div>\n",
      "\n",
      "<div class=\"thumbcaption\">\n",
      "<div class=\"magnify\" style=\"float:right\"><a class=\"internal\" href=\"../../images/39/3932.jpg.htm\" title=\"Enlarge\"><img alt=\"\" height=\"11\" src=\"../../images/0/1.png\" width=\"15\"/></a></div> Construction of Aix-la-Chapelle, by <!--del_lnk--> Jean Fouquet</div>\n",
      "\n",
      "<div class=\"thumbcaption\">\n",
      "<div class=\"magnify\" style=\"float:right\"><a class=\"internal\" href=\"../../images/39/3932.jpg.htm\" title=\"Enlarge\"><img alt=\"\" height=\"11\" src=\"../../images/0/1.png\" width=\"15\"/></a></div> Construction of Aix-la-Chapelle, by <!--del_lnk--> Jean Fouquet</div>\n",
      "\n",
      "None\n",
      "\n",
      "None\n",
      "\n",
      "<div class=\"thumbcaption\">\n",
      "<div class=\"magnify\" style=\"float:right\"><a class=\"internal\" href=\"../../images/161/16106.jpg.htm\" title=\"Enlarge\"><img alt=\"\" height=\"11\" src=\"../../images/0/1.png\" width=\"15\"/></a></div> The Roman Architecture style is still kept in Aachen</div>\n",
      "\n",
      "<div class=\"thumbcaption\">\n",
      "<div class=\"magnify\" style=\"float:right\"><a class=\"internal\" href=\"../../images/161/16106.jpg.htm\" title=\"Enlarge\"><img alt=\"\" height=\"11\" src=\"../../images/0/1.png\" width=\"15\"/></a></div> The Roman Architecture style is still kept in Aachen</div>\n",
      "\n",
      "None\n",
      "\n",
      "None\n",
      "\n",
      "<div class=\"thumbcaption\">\n",
      "<div class=\"magnify\" style=\"float:right\"><a class=\"internal\" href=\"../../images/161/16140.jpg.htm\" title=\"Enlarge\"><img alt=\"\" height=\"11\" src=\"../../images/0/1.png\" width=\"15\"/></a></div> Aachen city hall.</div>\n",
      "\n",
      "<div class=\"thumbcaption\">\n",
      "<div class=\"magnify\" style=\"float:right\"><a class=\"internal\" href=\"../../images/161/16140.jpg.htm\" title=\"Enlarge\"><img alt=\"\" height=\"11\" src=\"../../images/0/1.png\" width=\"15\"/></a></div> Aachen city hall.</div>\n",
      "\n",
      "None\n",
      "\n",
      "None\n",
      "\n",
      "<div class=\"thumbcaption\">\n",
      "<div class=\"magnify\" style=\"float:right\"><a class=\"internal\" href=\"../../images/161/16144.jpg.htm\" title=\"Enlarge\"><img alt=\"\" height=\"11\" src=\"../../images/0/1.png\" width=\"15\"/></a></div> Tree-lined boulevard in Aachen.</div>\n",
      "\n",
      "<div class=\"thumbcaption\">\n",
      "<div class=\"magnify\" style=\"float:right\"><a class=\"internal\" href=\"../../images/161/16144.jpg.htm\" title=\"Enlarge\"><img alt=\"\" height=\"11\" src=\"../../images/0/1.png\" width=\"15\"/></a></div> Tree-lined boulevard in Aachen.</div>\n",
      "\n",
      "None\n",
      "\n",
      "None\n",
      "\n",
      "<div class=\"thumbcaption\">\n",
      "<div class=\"magnify\" style=\"float:right\"><a class=\"internal\" href=\"../../images/167/16708.jpg.htm\" title=\"Enlarge\"><img alt=\"\" height=\"11\" src=\"../../images/0/1.png\" width=\"15\"/></a></div><a href=\"../../wp/g/Germany.htm\" title=\"Germany\">German</a>–<a href=\"../../wp/n/Netherlands.htm\" title=\"Netherlands\">Dutch</a>–<a href=\"../../wp/b/Belgium.htm\" title=\"Belgium\">Belgian</a> border as seen from the town area.</div>\n",
      "\n",
      "<div class=\"thumbcaption\">\n",
      "<div class=\"magnify\" style=\"float:right\"><a class=\"internal\" href=\"../../images/167/16708.jpg.htm\" title=\"Enlarge\"><img alt=\"\" height=\"11\" src=\"../../images/0/1.png\" width=\"15\"/></a></div><a href=\"../../wp/g/Germany.htm\" title=\"Germany\">German</a>–<a href=\"../../wp/n/Netherlands.htm\" title=\"Netherlands\">Dutch</a>–<a href=\"../../wp/b/Belgium.htm\" title=\"Belgium\">Belgian</a> border as seen from the town area.</div>\n",
      "\n",
      "None\n",
      "\n",
      "None\n",
      "\n",
      "<div class=\"thumbcaption\">\n",
      "<div class=\"magnify\" style=\"float:right\"><a class=\"internal\" href=\"../../images/170/17013.jpg.htm\" title=\"Enlarge\"><img alt=\"\" height=\"11\" src=\"../../images/0/1.png\" width=\"15\"/></a></div> The main building of the Aachen Technical University.</div>\n",
      "\n",
      "<div class=\"thumbcaption\">\n",
      "<div class=\"magnify\" style=\"float:right\"><a class=\"internal\" href=\"../../images/170/17013.jpg.htm\" title=\"Enlarge\"><img alt=\"\" height=\"11\" src=\"../../images/0/1.png\" width=\"15\"/></a></div> The main building of the Aachen Technical University.</div>\n",
      "\n",
      "None\n",
      "\n",
      "None\n",
      "\n",
      "<div class=\"thumbcaption\">\n",
      "<div class=\"magnify\" style=\"float:right\"><a class=\"internal\" href=\"../../images/170/17084.jpg.htm\" title=\"Enlarge\"><img alt=\"\" height=\"11\" src=\"../../images/0/1.png\" width=\"15\"/></a></div> Typical Aachen street with early <a href=\"../../wp/2/20th_century.htm\" title=\"20th century\">20th century</a> <!--del_lnk--> Gründerzeit houses.</div>\n",
      "\n",
      "<div class=\"thumbcaption\">\n",
      "<div class=\"magnify\" style=\"float:right\"><a class=\"internal\" href=\"../../images/170/17084.jpg.htm\" title=\"Enlarge\"><img alt=\"\" height=\"11\" src=\"../../images/0/1.png\" width=\"15\"/></a></div> Typical Aachen street with early <a href=\"../../wp/2/20th_century.htm\" title=\"20th century\">20th century</a> <!--del_lnk--> Gründerzeit houses.</div>\n",
      "\n",
      "None\n",
      "\n",
      "None\n"
     ]
    },
    {
     "data": {
      "text/html": [
       "<div>\n",
       "<style scoped>\n",
       "    .dataframe tbody tr th:only-of-type {\n",
       "        vertical-align: middle;\n",
       "    }\n",
       "\n",
       "    .dataframe tbody tr th {\n",
       "        vertical-align: top;\n",
       "    }\n",
       "\n",
       "    .dataframe thead th {\n",
       "        text-align: right;\n",
       "    }\n",
       "</style>\n",
       "<table border=\"1\" class=\"dataframe\">\n",
       "  <thead>\n",
       "    <tr style=\"text-align: right;\">\n",
       "      <th></th>\n",
       "      <th>0</th>\n",
       "    </tr>\n",
       "  </thead>\n",
       "  <tbody>\n",
       "    <tr>\n",
       "      <th>2</th>\n",
       "      <td>Country</td>\n",
       "    </tr>\n",
       "    <tr>\n",
       "      <th>3</th>\n",
       "      <td>Germany</td>\n",
       "    </tr>\n",
       "  </tbody>\n",
       "</table>\n",
       "</div>"
      ],
      "text/plain": [
       "         0\n",
       "2  Country\n",
       "3  Germany"
      ]
     },
     "execution_count": 13,
     "metadata": {},
     "output_type": "execute_result"
    }
   ],
   "source": [
    "div = ch.find_all('div')\n",
    "print(len(div))\n",
    "\n",
    "links=[]\n",
    "\n",
    "for d in div:\n",
    "    if (d.find('a', class_=\"internal\")):\n",
    "        if (d.img):\n",
    "            images=d.img.text\n",
    "            print(images)\n",
    "            caption=d.find('div', class_=\"thumbcaption\")\n",
    "            print(caption)\n",
    "            if caption:\n",
    "                all_links=caption.find_all('a')\n",
    "                for link in all_links:\n",
    "                    link_title=link.text\n",
    "                    links.append(link_title)\n",
    "            \n",
    "link_in_div_df=pd.DataFrame(links)\n",
    "link_in_div_df=link_in_div_df[link_in_table_df!='']\n",
    "link_in_table_df.dropna()     "
   ]
  },
  {
   "cell_type": "code",
   "execution_count": null,
   "id": "34df208c",
   "metadata": {},
   "outputs": [],
   "source": []
  }
 ],
 "metadata": {
  "kernelspec": {
   "display_name": "Python [conda env:ada] *",
   "language": "python",
   "name": "conda-env-ada-py"
  },
  "language_info": {
   "codemirror_mode": {
    "name": "ipython",
    "version": 3
   },
   "file_extension": ".py",
   "mimetype": "text/x-python",
   "name": "python",
   "nbconvert_exporter": "python",
   "pygments_lexer": "ipython3",
   "version": "3.9.13"
  }
 },
 "nbformat": 4,
 "nbformat_minor": 5
}
