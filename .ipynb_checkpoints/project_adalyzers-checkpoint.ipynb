{
 "cells": [
  {
   "cell_type": "markdown",
   "id": "5638de80",
   "metadata": {},
   "source": [
    "# ADAlyzers final project.\n",
    "\n",
    "\n",
    "### Structure of the notebook.\n",
    "\n",
    "\n",
    "1. Introduction.\n",
    "    - What is the project about\n",
    "        - Questions, etc.\n",
    "    - How will we solve the problem?\n",
    "2. Data description + processing.\n",
    "    - General overview\n",
    "        - Size of data\n",
    "        - Types of data\n",
    "    - Data cleaning\n",
    "        - Decisions: Explain everything leading to final dataframe.\n",
    "3. Featurizing. For each item: Intro + data analysis + methods.\n",
    "    - Semantic similarity\n",
    "    - Positional encoding\n",
    "        - Images\n",
    "        - Relative to paragraph\n",
    "    - Curvature\n",
    "4. Statistical analysis.\n",
    "    - Matching\n",
    "    - Tests\n",
    "    - Conclusions."
   ]
  },
  {
   "cell_type": "markdown",
   "id": "e86ce788",
   "metadata": {},
   "source": [
    "---\n",
    "\n",
    "# 1. Introduction.\n",
    "\n",
    "Players follow different strategies.\n",
    "\n",
    "Is the implementation of some strategy in particular correlated to success in this game? Or better, can we recommend a particular strategy to play wikispeedia?\n",
    "\n",
    "Here, we will answer these questions by exploring a database of over 100k recorded games from real users, by using tools from natural language processing, web scrapping and network analysis, among others."
   ]
  },
  {
   "cell_type": "code",
   "execution_count": null,
   "id": "55ade221",
   "metadata": {},
   "outputs": [],
   "source": []
  },
  {
   "cell_type": "markdown",
   "id": "18d0e618",
   "metadata": {},
   "source": [
    "---\n",
    "\n",
    "# 2. Data description + processing"
   ]
  },
  {
   "cell_type": "code",
   "execution_count": null,
   "id": "e8475e61",
   "metadata": {},
   "outputs": [],
   "source": [
    "import pandas as pd\n",
    "import os\n",
    "\n",
    "data_path = \"data/\"\n",
    "parent_folder_path = data_path + 'wikispeedia_paths-and-graph/'\n",
    "\n",
    "paths_finished_df=(pd.read_csv(os.path.join(parent_folder_path, 'paths_finished.tsv'), \n",
    "                               sep='\\t', skiprows=15, header=None)\n",
    "                   .rename(columns={0:\"ip\",\n",
    "                                    1:\"timestamp\",\n",
    "                                    2:\"duration\",\n",
    "                                    3:\"path\",\n",
    "                                    4:\"rating\"}))\n",
    "\n",
    "paths_unfinished_df=(pd.read_csv(os.path.join(parent_folder_path, 'paths_unfinished.tsv'), \n",
    "                               sep='\\t', skiprows=16, header=None)\n",
    "                     .rename(columns={0:\"ip\",\n",
    "                                      1:\"timestamp\",\n",
    "                                      2:\"duration\",\n",
    "                                      3:\"path\",\n",
    "                                      4:\"target\",\n",
    "                                      5:\"type\"}))"
   ]
  },
  {
   "cell_type": "code",
   "execution_count": null,
   "id": "d27ef485",
   "metadata": {},
   "outputs": [],
   "source": []
  },
  {
   "cell_type": "code",
   "execution_count": null,
   "id": "f4e4fd58",
   "metadata": {},
   "outputs": [],
   "source": []
  },
  {
   "cell_type": "code",
   "execution_count": null,
   "id": "a55c575c",
   "metadata": {},
   "outputs": [],
   "source": []
  },
  {
   "cell_type": "code",
   "execution_count": null,
   "id": "84bd1080",
   "metadata": {},
   "outputs": [],
   "source": [
    "# Dataset Processing\n",
    "\n",
    "1. Split `successful` and `unsuccessful` paths\n",
    "2. For each human path, find the corresponding `shortest path length` from the `source` article to the `target` article. We make the assumption that `Wikispeedia` games with the same `shortest path length` have the same `difficulty` \n",
    "3. Next, take the human navigation paths with the same `difficulty` and further fix the `human path length`\n",
    "4. Generate a matched dataset where the `successful` and `unsucessful` paths both have the same `shortest path length` **and** `human path length`\n",
    "\n",
    "Use this matched dataset to answer the following question:\n",
    "\n",
    "***When given X number of choices in the same difficulty game, how did successful and unsuccessful players differ in their clicking behaviour?***"
   ]
  },
  {
   "cell_type": "code",
   "execution_count": null,
   "id": "fc1cbd56",
   "metadata": {},
   "outputs": [],
   "source": []
  },
  {
   "cell_type": "code",
   "execution_count": null,
   "id": "891a9873",
   "metadata": {},
   "outputs": [],
   "source": []
  },
  {
   "cell_type": "code",
   "execution_count": null,
   "id": "f69e928d",
   "metadata": {},
   "outputs": [],
   "source": []
  },
  {
   "cell_type": "code",
   "execution_count": null,
   "id": "7c8d0081",
   "metadata": {},
   "outputs": [],
   "source": []
  },
  {
   "cell_type": "code",
   "execution_count": null,
   "id": "323e090f",
   "metadata": {},
   "outputs": [],
   "source": []
  },
  {
   "cell_type": "markdown",
   "id": "fe6f5fd2",
   "metadata": {},
   "source": [
    "---\n",
    "\n",
    "# 3. Featurization"
   ]
  },
  {
   "cell_type": "code",
   "execution_count": null,
   "id": "af4fc352",
   "metadata": {},
   "outputs": [],
   "source": []
  },
  {
   "cell_type": "markdown",
   "id": "10c034a2",
   "metadata": {},
   "source": [
    "---\n",
    "\n",
    "# 4. Statistical analysis"
   ]
  },
  {
   "cell_type": "code",
   "execution_count": null,
   "id": "7a6fdda8",
   "metadata": {},
   "outputs": [],
   "source": []
  }
 ],
 "metadata": {
  "kernelspec": {
   "display_name": "Python 3 (ipykernel)",
   "language": "python",
   "name": "python3"
  },
  "language_info": {
   "codemirror_mode": {
    "name": "ipython",
    "version": 3
   },
   "file_extension": ".py",
   "mimetype": "text/x-python",
   "name": "python",
   "nbconvert_exporter": "python",
   "pygments_lexer": "ipython3",
   "version": "3.9.13"
  }
 },
 "nbformat": 4,
 "nbformat_minor": 5
}
