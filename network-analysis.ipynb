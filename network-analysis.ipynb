{
 "cells": [
  {
   "cell_type": "code",
   "execution_count": 1,
   "id": "15c0df33",
   "metadata": {},
   "outputs": [
    {
     "data": {
      "text/html": [
       "<div>\n",
       "<style scoped>\n",
       "    .dataframe tbody tr th:only-of-type {\n",
       "        vertical-align: middle;\n",
       "    }\n",
       "\n",
       "    .dataframe tbody tr th {\n",
       "        vertical-align: top;\n",
       "    }\n",
       "\n",
       "    .dataframe thead th {\n",
       "        text-align: right;\n",
       "    }\n",
       "</style>\n",
       "<table border=\"1\" class=\"dataframe\">\n",
       "  <thead>\n",
       "    <tr style=\"text-align: right;\">\n",
       "      <th></th>\n",
       "      <th>out</th>\n",
       "      <th>in</th>\n",
       "    </tr>\n",
       "  </thead>\n",
       "  <tbody>\n",
       "    <tr>\n",
       "      <th>109317</th>\n",
       "      <td>Toronto</td>\n",
       "      <td>Hinduism</td>\n",
       "    </tr>\n",
       "    <tr>\n",
       "      <th>65267</th>\n",
       "      <td>List_of_countries</td>\n",
       "      <td>Canada</td>\n",
       "    </tr>\n",
       "    <tr>\n",
       "      <th>45822</th>\n",
       "      <td>Grand_Canyon</td>\n",
       "      <td>Rain</td>\n",
       "    </tr>\n",
       "    <tr>\n",
       "      <th>89110</th>\n",
       "      <td>Pumpkin</td>\n",
       "      <td>Magnesium</td>\n",
       "    </tr>\n",
       "    <tr>\n",
       "      <th>55392</th>\n",
       "      <td>Interpol</td>\n",
       "      <td>United_Arab_Emirates</td>\n",
       "    </tr>\n",
       "  </tbody>\n",
       "</table>\n",
       "</div>"
      ],
      "text/plain": [
       "                      out                    in\n",
       "109317            Toronto              Hinduism\n",
       "65267   List_of_countries                Canada\n",
       "45822        Grand_Canyon                  Rain\n",
       "89110             Pumpkin             Magnesium\n",
       "55392            Interpol  United_Arab_Emirates"
      ]
     },
     "execution_count": 1,
     "metadata": {},
     "output_type": "execute_result"
    }
   ],
   "source": [
    "import pandas as pd\n",
    "import numpy as np\n",
    "import matplotlib.pyplot as plt\n",
    "import seaborn as sns\n",
    "import urllib.parse\n",
    "\n",
    "# Graph is defined in file `links.tsv`\n",
    "df = (pd.read_csv(\"wikispeedia/wikispeedia_paths-and-graph/links.tsv\", \n",
    "                  skiprows=12, \n",
    "                  sep=\"\\t\", \n",
    "                  header=None)\n",
    "      .applymap(urllib.parse.unquote)\n",
    "      .applymap(str.strip)\n",
    "      .rename(columns={0:\"out\",\n",
    "                       1:\"in\"})\n",
    "     )\n",
    "\n",
    "df.sample(5)"
   ]
  },
  {
   "cell_type": "code",
   "execution_count": 2,
   "id": "484d9277",
   "metadata": {},
   "outputs": [
    {
     "name": "stdout",
     "output_type": "stream",
     "text": [
      "There are 119882 edges\n",
      "connecting 4592 unique nodes in the network.\n",
      "\n",
      "\t * 4587 nodes have out-links.\n",
      "\t * 4135 nodes have in-links.\n",
      "\n",
      "This means 5 nodes are dead-ends (no out-links),\n",
      "and 457 nodes can never be reached from any other article (no in-links) ☠️\n"
     ]
    }
   ],
   "source": [
    "# Describe df\n",
    "\n",
    "print(f\"There are {df.shape[0]} edges\")\n",
    "print(f\"connecting {df.stack().nunique()} unique nodes in the network.\")\n",
    "print(f\"\\n\\t * {df['out'].nunique()} nodes have out-links.\")\n",
    "print(f\"\\t * {df['in'].nunique()} nodes have in-links.\\n\")\n",
    "\n",
    "print(f\"This means {df.stack().nunique() - df['out'].nunique()} nodes are dead-ends (no out-links),\")\n",
    "print(f\"and {df.stack().nunique() - df['in'].nunique()} \\\n",
    "nodes can never be reached from any other article (no in-links) ☠️\")"
   ]
  },
  {
   "cell_type": "code",
   "execution_count": 3,
   "id": "cdc2a52d",
   "metadata": {},
   "outputs": [
    {
     "name": "stdout",
     "output_type": "stream",
     "text": [
      "5\n"
     ]
    },
    {
     "data": {
      "text/plain": [
       "{'Directdebit',\n",
       " 'Duchenne_muscular_dystrophy',\n",
       " \"Klinefelter's_syndrome\",\n",
       " 'Local_community',\n",
       " 'Osteomalacia'}"
      ]
     },
     "execution_count": 3,
     "metadata": {},
     "output_type": "execute_result"
    }
   ],
   "source": [
    "# nodes with no outlink (dead-ends)\n",
    "nodes_no_outlink = (set(df.stack()\n",
    "                        .unique())\n",
    "                    .difference(df['out']\n",
    "                                .unique()))\n",
    "print(len(nodes_no_outlink))\n",
    "nodes_no_outlink"
   ]
  },
  {
   "cell_type": "code",
   "execution_count": 4,
   "id": "a156f56c",
   "metadata": {},
   "outputs": [
    {
     "name": "stdout",
     "output_type": "stream",
     "text": [
      "457\n"
     ]
    },
    {
     "data": {
      "text/plain": [
       "['History_of_the_Grand_Canyon_area',\n",
       " 'Btrieve',\n",
       " 'Terik',\n",
       " 'Westport_Country_Playhouse',\n",
       " 'Automatic_number_plate_recognition']"
      ]
     },
     "execution_count": 4,
     "metadata": {},
     "output_type": "execute_result"
    }
   ],
   "source": [
    "# Let's see which articles can't be reached from any other\n",
    "nodes_no_inlink = list((set(df.stack()\n",
    "                            .unique())\n",
    "                        .difference(df['in']\n",
    "                                    .unique())))\n",
    "print(len(nodes_no_inlink))\n",
    "\n",
    "nodes_no_inlink[:5]"
   ]
  },
  {
   "cell_type": "markdown",
   "id": "204fb113",
   "metadata": {},
   "source": [
    "### All these nodes can only be visited if they're selected as starting point.\n",
    "\n",
    "---"
   ]
  },
  {
   "cell_type": "code",
   "execution_count": 5,
   "id": "2f8caf52",
   "metadata": {
    "scrolled": true
   },
   "outputs": [
    {
     "data": {
      "text/html": [
       "<div>\n",
       "<style scoped>\n",
       "    .dataframe tbody tr th:only-of-type {\n",
       "        vertical-align: middle;\n",
       "    }\n",
       "\n",
       "    .dataframe tbody tr th {\n",
       "        vertical-align: top;\n",
       "    }\n",
       "\n",
       "    .dataframe thead th {\n",
       "        text-align: right;\n",
       "    }\n",
       "</style>\n",
       "<table border=\"1\" class=\"dataframe\">\n",
       "  <thead>\n",
       "    <tr style=\"text-align: right;\">\n",
       "      <th></th>\n",
       "      <th>in</th>\n",
       "      <th>out</th>\n",
       "    </tr>\n",
       "  </thead>\n",
       "  <tbody>\n",
       "    <tr>\n",
       "      <th>United_States</th>\n",
       "      <td>1551</td>\n",
       "      <td>294</td>\n",
       "    </tr>\n",
       "    <tr>\n",
       "      <th>United_Kingdom</th>\n",
       "      <td>972</td>\n",
       "      <td>168</td>\n",
       "    </tr>\n",
       "    <tr>\n",
       "      <th>France</th>\n",
       "      <td>959</td>\n",
       "      <td>85</td>\n",
       "    </tr>\n",
       "    <tr>\n",
       "      <th>Europe</th>\n",
       "      <td>933</td>\n",
       "      <td>159</td>\n",
       "    </tr>\n",
       "    <tr>\n",
       "      <th>England</th>\n",
       "      <td>751</td>\n",
       "      <td>172</td>\n",
       "    </tr>\n",
       "  </tbody>\n",
       "</table>\n",
       "</div>"
      ],
      "text/plain": [
       "                  in  out\n",
       "United_States   1551  294\n",
       "United_Kingdom   972  168\n",
       "France           959   85\n",
       "Europe           933  159\n",
       "England          751  172"
      ]
     },
     "execution_count": 5,
     "metadata": {},
     "output_type": "execute_result"
    }
   ],
   "source": [
    "freq_out = df['out'].value_counts()\n",
    "freq_in = df['in'].value_counts()\n",
    "\n",
    "degree_freq = (pd.merge(freq_in,\n",
    "                        freq_out, \n",
    "                        left_index=True, \n",
    "                        right_index=True, \n",
    "                        how='inner')  #exclude zeros\n",
    "               .fillna(0))\n",
    "\n",
    "degree_freq.head()"
   ]
  },
  {
   "cell_type": "code",
   "execution_count": 6,
   "id": "26021b67",
   "metadata": {},
   "outputs": [
    {
     "data": {
      "image/png": "[encoded data removed]",
      "text/plain": [
       "<Figure size 432x432 with 3 Axes>"
      ]
     },
     "metadata": {
      "needs_background": "light"
     },
     "output_type": "display_data"
    }
   ],
   "source": [
    "g = sns.jointplot(data=np.log(degree_freq), \n",
    "                  x=\"in\", y=\"out\", \n",
    "                  kind='hex')\n",
    "\n",
    "g.ax_joint.set_xlabel(\"in-degree\")\n",
    "g.ax_joint.set_ylabel(\"out-degree\");"
   ]
  },
  {
   "cell_type": "code",
   "execution_count": 7,
   "id": "e41de750",
   "metadata": {},
   "outputs": [
    {
     "data": {
      "image/png": "[encoded data removed]",
      "text/plain": [
       "<Figure size 1080x864 with 6 Axes>"
      ]
     },
     "metadata": {
      "needs_background": "light"
     },
     "output_type": "display_data"
    }
   ],
   "source": [
    "plt.rcParams['font.size'] = 16\n",
    "\n",
    "fig, ax = plt.subplots(3,2,\n",
    "                       figsize=(15,12),\n",
    "                       gridspec_kw={'wspace':0.14})\n",
    "\n",
    "labels = [\"x-y\", \"log(x)-y\", \"log-log\"]\n",
    "for i in range(3):\n",
    "    sns.scatterplot(data = df['out'].value_counts().value_counts(), \n",
    "                    ax=ax[i,0], color='k', label=labels[i])\n",
    "    sns.scatterplot(data = df['in'].value_counts().value_counts(), \n",
    "                    ax=ax[i,1], color='k', label=labels[i])\n",
    "\n",
    "ax[0, 0].set_title(\"out-degree\")\n",
    "ax[0, 1].set_title(\"in-degree\")\n",
    "\n",
    "for i in range(2):\n",
    "    # Set log scale in x for second row plots\n",
    "    ax[1,i].set_xscale('log')\n",
    "    # log-log scale in 3rd row\n",
    "    ax[2,i].set_xscale('log')\n",
    "    ax[2,i].set_yscale('log')\n",
    "    \n",
    "for i in range(3):\n",
    "    ax[i, 0].set_ylabel(\"Frequency\")\n",
    "    ax[i, 1].set_ylabel(\"\")\n",
    "    \n",
    "plt.legend();"
   ]
  },
  {
   "cell_type": "markdown",
   "id": "88bea4f7",
   "metadata": {},
   "source": [
    "### Distributions of in- and out- degree are very different.\n",
    "\n",
    "- in-degree distribution is more power-law-like. The lowest the in-degree, the higher frequency.\n",
    "- out-degree has a more likely value of around 15. "
   ]
  },
  {
   "cell_type": "markdown",
   "id": "5a768188",
   "metadata": {},
   "source": [
    "# TODO\n",
    "\n",
    "- Distribution of in-links and out-links per node\n",
    "- Test hypothesis: visit frequency correlates with node in-degree."
   ]
  },
  {
   "cell_type": "code",
   "execution_count": 26,
   "id": "9dafc063",
   "metadata": {},
   "outputs": [
    {
     "data": {
      "text/html": [
       "<div>\n",
       "<style scoped>\n",
       "    .dataframe tbody tr th:only-of-type {\n",
       "        vertical-align: middle;\n",
       "    }\n",
       "\n",
       "    .dataframe tbody tr th {\n",
       "        vertical-align: top;\n",
       "    }\n",
       "\n",
       "    .dataframe thead th {\n",
       "        text-align: right;\n",
       "    }\n",
       "</style>\n",
       "<table border=\"1\" class=\"dataframe\">\n",
       "  <thead>\n",
       "    <tr style=\"text-align: right;\">\n",
       "      <th></th>\n",
       "      <th>in</th>\n",
       "      <th>out</th>\n",
       "    </tr>\n",
       "  </thead>\n",
       "  <tbody>\n",
       "    <tr>\n",
       "      <th>Ukraine</th>\n",
       "      <td>171</td>\n",
       "      <td>58</td>\n",
       "    </tr>\n",
       "  </tbody>\n",
       "</table>\n",
       "</div>"
      ],
      "text/plain": [
       "          in  out\n",
       "Ukraine  171   58"
      ]
     },
     "execution_count": 26,
     "metadata": {},
     "output_type": "execute_result"
    }
   ],
   "source": [
    "# Ukraine_A is not in this df (meaning no link points to it)\n",
    "degree_freq[degree_freq.index.str.startswith(\"Ukraine\")]"
   ]
  },
  {
   "cell_type": "markdown",
   "id": "f29ee792",
   "metadata": {},
   "source": [
    "# Load actual paths. Check frequency"
   ]
  },
  {
   "cell_type": "code",
   "execution_count": 64,
   "id": "e98cb955",
   "metadata": {},
   "outputs": [
    {
     "data": {
      "text/html": [
       "<div>\n",
       "<style scoped>\n",
       "    .dataframe tbody tr th:only-of-type {\n",
       "        vertical-align: middle;\n",
       "    }\n",
       "\n",
       "    .dataframe tbody tr th {\n",
       "        vertical-align: top;\n",
       "    }\n",
       "\n",
       "    .dataframe thead th {\n",
       "        text-align: right;\n",
       "    }\n",
       "</style>\n",
       "<table border=\"1\" class=\"dataframe\">\n",
       "  <thead>\n",
       "    <tr style=\"text-align: right;\">\n",
       "      <th></th>\n",
       "      <th>ip</th>\n",
       "      <th>timestamp</th>\n",
       "      <th>duration</th>\n",
       "      <th>path</th>\n",
       "      <th>rating</th>\n",
       "      <th>target</th>\n",
       "      <th>type</th>\n",
       "      <th>pathl</th>\n",
       "      <th>start</th>\n",
       "    </tr>\n",
       "  </thead>\n",
       "  <tbody>\n",
       "    <tr>\n",
       "      <th>22886</th>\n",
       "      <td>0eab80783b848d56</td>\n",
       "      <td>1251087154</td>\n",
       "      <td>53</td>\n",
       "      <td>Cyprus;United_Nations;Taiwan;Taipei</td>\n",
       "      <td>1.0</td>\n",
       "      <td>Taipei</td>\n",
       "      <td>win</td>\n",
       "      <td>[Cyprus, United_Nations, Taiwan, Taipei]</td>\n",
       "      <td>Cyprus</td>\n",
       "    </tr>\n",
       "    <tr>\n",
       "      <th>5377</th>\n",
       "      <td>7e9ca3ef71aad4e1</td>\n",
       "      <td>1312523984</td>\n",
       "      <td>151</td>\n",
       "      <td>Theatre;Actor;&lt;;United_States;Country;&lt;;North_...</td>\n",
       "      <td>NaN</td>\n",
       "      <td>Zebra</td>\n",
       "      <td>restart</td>\n",
       "      <td>[Theatre, Actor, &lt;, United_States, Country, &lt;,...</td>\n",
       "      <td>Theatre</td>\n",
       "    </tr>\n",
       "    <tr>\n",
       "      <th>39094</th>\n",
       "      <td>7555202a4b1690fc</td>\n",
       "      <td>1365990557</td>\n",
       "      <td>215</td>\n",
       "      <td>Funchal;16th_century;Leonardo_da_Vinci;Astrono...</td>\n",
       "      <td>NaN</td>\n",
       "      <td>Elementary_algebra</td>\n",
       "      <td>win</td>\n",
       "      <td>[Funchal, 16th_century, Leonardo_da_Vinci, Ast...</td>\n",
       "      <td>Funchal</td>\n",
       "    </tr>\n",
       "    <tr>\n",
       "      <th>20891</th>\n",
       "      <td>1cf0cbb3281049ab</td>\n",
       "      <td>1389055521</td>\n",
       "      <td>69</td>\n",
       "      <td>Pyramid;Sun;Photosynthesis;Plant;Soybean;Seed;...</td>\n",
       "      <td>3.0</td>\n",
       "      <td>Bean</td>\n",
       "      <td>win</td>\n",
       "      <td>[Pyramid, Sun, Photosynthesis, Plant, Soybean,...</td>\n",
       "      <td>Pyramid</td>\n",
       "    </tr>\n",
       "    <tr>\n",
       "      <th>33311</th>\n",
       "      <td>109ed71f571d86e9</td>\n",
       "      <td>1389786179</td>\n",
       "      <td>116</td>\n",
       "      <td>Damascus_steel;Arabic_language;North_Africa;Af...</td>\n",
       "      <td>NaN</td>\n",
       "      <td>Race</td>\n",
       "      <td>win</td>\n",
       "      <td>[Damascus_steel, Arabic_language, North_Africa...</td>\n",
       "      <td>Damascus_steel</td>\n",
       "    </tr>\n",
       "  </tbody>\n",
       "</table>\n",
       "</div>"
      ],
      "text/plain": [
       "                     ip   timestamp  duration  \\\n",
       "22886  0eab80783b848d56  1251087154        53   \n",
       "5377   7e9ca3ef71aad4e1  1312523984       151   \n",
       "39094  7555202a4b1690fc  1365990557       215   \n",
       "20891  1cf0cbb3281049ab  1389055521        69   \n",
       "33311  109ed71f571d86e9  1389786179       116   \n",
       "\n",
       "                                                    path  rating  \\\n",
       "22886                Cyprus;United_Nations;Taiwan;Taipei     1.0   \n",
       "5377   Theatre;Actor;<;United_States;Country;<;North_...     NaN   \n",
       "39094  Funchal;16th_century;Leonardo_da_Vinci;Astrono...     NaN   \n",
       "20891  Pyramid;Sun;Photosynthesis;Plant;Soybean;Seed;...     3.0   \n",
       "33311  Damascus_steel;Arabic_language;North_Africa;Af...     NaN   \n",
       "\n",
       "                   target     type  \\\n",
       "22886              Taipei      win   \n",
       "5377                Zebra  restart   \n",
       "39094  Elementary_algebra      win   \n",
       "20891                Bean      win   \n",
       "33311                Race      win   \n",
       "\n",
       "                                                   pathl           start  \n",
       "22886           [Cyprus, United_Nations, Taiwan, Taipei]          Cyprus  \n",
       "5377   [Theatre, Actor, <, United_States, Country, <,...         Theatre  \n",
       "39094  [Funchal, 16th_century, Leonardo_da_Vinci, Ast...         Funchal  \n",
       "20891  [Pyramid, Sun, Photosynthesis, Plant, Soybean,...         Pyramid  \n",
       "33311  [Damascus_steel, Arabic_language, North_Africa...  Damascus_steel  "
      ]
     },
     "execution_count": 64,
     "metadata": {},
     "output_type": "execute_result"
    }
   ],
   "source": [
    "def split_decode_path(path):\n",
    "    pathl = path.split(\";\")\n",
    "    return list(map(\n",
    "        urllib.parse.unquote, \n",
    "        pathl\n",
    "    ))\n",
    "\n",
    "df_paths_success = (pd.read_csv(\"wikispeedia/wikispeedia_paths-and-graph/paths_finished.tsv\", \n",
    "                          skiprows=15, \n",
    "                          sep=\"\\t\", \n",
    "                          header=None)\n",
    "                    .rename(columns={0:\"ip\",\n",
    "                                     1:\"timestamp\",\n",
    "                                     2:\"duration\",\n",
    "                                     3:\"path\",\n",
    "                                     4:\"rating\"})\n",
    "         )\n",
    "# Create a \"target\" col\n",
    "df_paths_success[\"target\"] = (df_paths_success[\"path\"]\n",
    "                              .apply(lambda x: x.split(\";\")[-1]))\n",
    "df_paths_success[\"type\"] = \"win\"\n",
    "\n",
    "\n",
    "df_paths_fail = (pd.read_csv(\"wikispeedia/wikispeedia_paths-and-graph/paths_unfinished.tsv\", \n",
    "                             skiprows=16, \n",
    "                             sep=\"\\t\", \n",
    "                             header=None)\n",
    "                 .rename(columns={0:\"ip\",\n",
    "                                  1:\"timestamp\",\n",
    "                                  2:\"duration\",\n",
    "                                  3:\"path\",\n",
    "                                  4:\"target\",\n",
    "                                  5:\"type\"})\n",
    "             )\n",
    "\n",
    "# Join dfs to get a full df with all paths\n",
    "df_paths = pd.concat([df_paths_success,\n",
    "                      df_paths_fail])\n",
    "\n",
    "# Get path list\n",
    "df_paths[\"pathl\"] = df_paths[\"path\"].apply(split_decode_path)\n",
    "# Decode target from url\n",
    "df_paths[\"target\"] = df_paths[\"target\"].apply(urllib.parse.unquote)\n",
    "# Get starting node\n",
    "df_paths[\"start\"] = df_paths[\"pathl\"].apply(lambda x:x[0])\n",
    "\n",
    "df_paths.sample(5)"
   ]
  },
  {
   "cell_type": "markdown",
   "id": "5715ef74",
   "metadata": {},
   "source": [
    "# Selection of starting and ending nodes: Is it uniformly distributed?"
   ]
  },
  {
   "cell_type": "code",
   "execution_count": 63,
   "id": "eaa5c10f",
   "metadata": {},
   "outputs": [
    {
     "data": {
      "text/html": [
       "<div>\n",
       "<style scoped>\n",
       "    .dataframe tbody tr th:only-of-type {\n",
       "        vertical-align: middle;\n",
       "    }\n",
       "\n",
       "    .dataframe tbody tr th {\n",
       "        vertical-align: top;\n",
       "    }\n",
       "\n",
       "    .dataframe thead th {\n",
       "        text-align: right;\n",
       "    }\n",
       "</style>\n",
       "<table border=\"1\" class=\"dataframe\">\n",
       "  <thead>\n",
       "    <tr style=\"text-align: right;\">\n",
       "      <th></th>\n",
       "      <th>in</th>\n",
       "      <th>out</th>\n",
       "      <th>target</th>\n",
       "    </tr>\n",
       "  </thead>\n",
       "  <tbody>\n",
       "    <tr>\n",
       "      <th>10th_century</th>\n",
       "      <td>65.0</td>\n",
       "      <td>26.0</td>\n",
       "      <td>7.0</td>\n",
       "    </tr>\n",
       "    <tr>\n",
       "      <th>11th_century</th>\n",
       "      <td>57.0</td>\n",
       "      <td>48.0</td>\n",
       "      <td>13.0</td>\n",
       "    </tr>\n",
       "    <tr>\n",
       "      <th>12th_century</th>\n",
       "      <td>85.0</td>\n",
       "      <td>45.0</td>\n",
       "      <td>10.0</td>\n",
       "    </tr>\n",
       "    <tr>\n",
       "      <th>13th_century</th>\n",
       "      <td>84.0</td>\n",
       "      <td>34.0</td>\n",
       "      <td>34.0</td>\n",
       "    </tr>\n",
       "    <tr>\n",
       "      <th>14th_century</th>\n",
       "      <td>71.0</td>\n",
       "      <td>31.0</td>\n",
       "      <td>11.0</td>\n",
       "    </tr>\n",
       "    <tr>\n",
       "      <th>...</th>\n",
       "      <td>...</td>\n",
       "      <td>...</td>\n",
       "      <td>...</td>\n",
       "    </tr>\n",
       "    <tr>\n",
       "      <th>Zoroaster</th>\n",
       "      <td>9.0</td>\n",
       "      <td>28.0</td>\n",
       "      <td>5.0</td>\n",
       "    </tr>\n",
       "    <tr>\n",
       "      <th>Zuid-Gelders</th>\n",
       "      <td>5.0</td>\n",
       "      <td>5.0</td>\n",
       "      <td>11.0</td>\n",
       "    </tr>\n",
       "    <tr>\n",
       "      <th>Zulu</th>\n",
       "      <td>14.0</td>\n",
       "      <td>15.0</td>\n",
       "      <td>9.0</td>\n",
       "    </tr>\n",
       "    <tr>\n",
       "      <th>Zürich</th>\n",
       "      <td>20.0</td>\n",
       "      <td>20.0</td>\n",
       "      <td>6.0</td>\n",
       "    </tr>\n",
       "    <tr>\n",
       "      <th>_Zebra</th>\n",
       "      <td>NaN</td>\n",
       "      <td>NaN</td>\n",
       "      <td>1.0</td>\n",
       "    </tr>\n",
       "  </tbody>\n",
       "</table>\n",
       "<p>4157 rows × 3 columns</p>\n",
       "</div>"
      ],
      "text/plain": [
       "                in   out  target\n",
       "10th_century  65.0  26.0     7.0\n",
       "11th_century  57.0  48.0    13.0\n",
       "12th_century  85.0  45.0    10.0\n",
       "13th_century  84.0  34.0    34.0\n",
       "14th_century  71.0  31.0    11.0\n",
       "...            ...   ...     ...\n",
       "Zoroaster      9.0  28.0     5.0\n",
       "Zuid-Gelders   5.0   5.0    11.0\n",
       "Zulu          14.0  15.0     9.0\n",
       "Zürich        20.0  20.0     6.0\n",
       "_Zebra         NaN   NaN     1.0\n",
       "\n",
       "[4157 rows x 3 columns]"
      ]
     },
     "execution_count": 63,
     "metadata": {},
     "output_type": "execute_result"
    }
   ],
   "source": [
    "degree_freq_ = (pd.merge(degree_freq,\n",
    "                       pd.DataFrame(\n",
    "                           df_paths[\"target\"]\n",
    "                           .value_counts()\n",
    "                       ),\n",
    "                        left_index=True,\n",
    "                        right_index=True,\n",
    "                        how=\"outer\"\n",
    "                      ).merge\n",
    "\n",
    "degree_freq_"
   ]
  },
  {
   "cell_type": "code",
   "execution_count": 72,
   "id": "64d5dace",
   "metadata": {},
   "outputs": [
    {
     "data": {
      "text/plain": [
       "in        NaN\n",
       "out       NaN\n",
       "target    1.0\n",
       "Name: _Zebra, dtype: float64"
      ]
     },
     "execution_count": 72,
     "metadata": {},
     "output_type": "execute_result"
    }
   ],
   "source": [
    "degree_freq_.iloc[-1]"
   ]
  },
  {
   "cell_type": "code",
   "execution_count": 58,
   "id": "88c24c19",
   "metadata": {},
   "outputs": [
    {
     "data": {
      "text/html": [
       "<div>\n",
       "<style scoped>\n",
       "    .dataframe tbody tr th:only-of-type {\n",
       "        vertical-align: middle;\n",
       "    }\n",
       "\n",
       "    .dataframe tbody tr th {\n",
       "        vertical-align: top;\n",
       "    }\n",
       "\n",
       "    .dataframe thead th {\n",
       "        text-align: right;\n",
       "    }\n",
       "</style>\n",
       "<table border=\"1\" class=\"dataframe\">\n",
       "  <thead>\n",
       "    <tr style=\"text-align: right;\">\n",
       "      <th></th>\n",
       "      <th>start</th>\n",
       "    </tr>\n",
       "  </thead>\n",
       "  <tbody>\n",
       "    <tr>\n",
       "      <th>Brain</th>\n",
       "      <td>2113</td>\n",
       "    </tr>\n",
       "    <tr>\n",
       "      <th>Theatre</th>\n",
       "      <td>1823</td>\n",
       "    </tr>\n",
       "    <tr>\n",
       "      <th>Asteroid</th>\n",
       "      <td>1804</td>\n",
       "    </tr>\n",
       "    <tr>\n",
       "      <th>Pyramid</th>\n",
       "      <td>1627</td>\n",
       "    </tr>\n",
       "    <tr>\n",
       "      <th>Batman</th>\n",
       "      <td>947</td>\n",
       "    </tr>\n",
       "    <tr>\n",
       "      <th>...</th>\n",
       "      <td>...</td>\n",
       "    </tr>\n",
       "    <tr>\n",
       "      <th>Outer_Hebrides</th>\n",
       "      <td>1</td>\n",
       "    </tr>\n",
       "    <tr>\n",
       "      <th>David_Heymann</th>\n",
       "      <td>1</td>\n",
       "    </tr>\n",
       "    <tr>\n",
       "      <th>Hurricane_John_(1994)</th>\n",
       "      <td>1</td>\n",
       "    </tr>\n",
       "    <tr>\n",
       "      <th>Psittacosaurus</th>\n",
       "      <td>1</td>\n",
       "    </tr>\n",
       "    <tr>\n",
       "      <th>Meitnerium</th>\n",
       "      <td>1</td>\n",
       "    </tr>\n",
       "  </tbody>\n",
       "</table>\n",
       "<p>4168 rows × 1 columns</p>\n",
       "</div>"
      ],
      "text/plain": [
       "                       start\n",
       "Brain                   2113\n",
       "Theatre                 1823\n",
       "Asteroid                1804\n",
       "Pyramid                 1627\n",
       "Batman                   947\n",
       "...                      ...\n",
       "Outer_Hebrides             1\n",
       "David_Heymann              1\n",
       "Hurricane_John_(1994)      1\n",
       "Psittacosaurus             1\n",
       "Meitnerium                 1\n",
       "\n",
       "[4168 rows x 1 columns]"
      ]
     },
     "execution_count": 58,
     "metadata": {},
     "output_type": "execute_result"
    }
   ],
   "source": [
    "pd.DataFrame(df_paths[\"start\"].value_counts())"
   ]
  },
  {
   "cell_type": "code",
   "execution_count": 55,
   "id": "7b2eb58f",
   "metadata": {},
   "outputs": [
    {
     "data": {
      "text/html": [
       "<div>\n",
       "<style scoped>\n",
       "    .dataframe tbody tr th:only-of-type {\n",
       "        vertical-align: middle;\n",
       "    }\n",
       "\n",
       "    .dataframe tbody tr th {\n",
       "        vertical-align: top;\n",
       "    }\n",
       "\n",
       "    .dataframe thead th {\n",
       "        text-align: right;\n",
       "    }\n",
       "</style>\n",
       "<table border=\"1\" class=\"dataframe\">\n",
       "  <thead>\n",
       "    <tr style=\"text-align: right;\">\n",
       "      <th></th>\n",
       "      <th>in</th>\n",
       "      <th>out</th>\n",
       "    </tr>\n",
       "  </thead>\n",
       "  <tbody>\n",
       "    <tr>\n",
       "      <th>United_States</th>\n",
       "      <td>1551</td>\n",
       "      <td>294</td>\n",
       "    </tr>\n",
       "    <tr>\n",
       "      <th>United_Kingdom</th>\n",
       "      <td>972</td>\n",
       "      <td>168</td>\n",
       "    </tr>\n",
       "    <tr>\n",
       "      <th>France</th>\n",
       "      <td>959</td>\n",
       "      <td>85</td>\n",
       "    </tr>\n",
       "    <tr>\n",
       "      <th>Europe</th>\n",
       "      <td>933</td>\n",
       "      <td>159</td>\n",
       "    </tr>\n",
       "    <tr>\n",
       "      <th>England</th>\n",
       "      <td>751</td>\n",
       "      <td>172</td>\n",
       "    </tr>\n",
       "    <tr>\n",
       "      <th>...</th>\n",
       "      <td>...</td>\n",
       "      <td>...</td>\n",
       "    </tr>\n",
       "    <tr>\n",
       "      <th>History_of_Greenland</th>\n",
       "      <td>1</td>\n",
       "      <td>37</td>\n",
       "    </tr>\n",
       "    <tr>\n",
       "      <th>History_of_Arizona</th>\n",
       "      <td>1</td>\n",
       "      <td>50</td>\n",
       "    </tr>\n",
       "    <tr>\n",
       "      <th>History_of_Alaska</th>\n",
       "      <td>1</td>\n",
       "      <td>30</td>\n",
       "    </tr>\n",
       "    <tr>\n",
       "      <th>Ateneo_de_Manila_University</th>\n",
       "      <td>1</td>\n",
       "      <td>16</td>\n",
       "    </tr>\n",
       "    <tr>\n",
       "      <th>Plains_Zebra</th>\n",
       "      <td>1</td>\n",
       "      <td>12</td>\n",
       "    </tr>\n",
       "  </tbody>\n",
       "</table>\n",
       "<p>4130 rows × 2 columns</p>\n",
       "</div>"
      ],
      "text/plain": [
       "                               in  out\n",
       "United_States                1551  294\n",
       "United_Kingdom                972  168\n",
       "France                        959   85\n",
       "Europe                        933  159\n",
       "England                       751  172\n",
       "...                           ...  ...\n",
       "History_of_Greenland            1   37\n",
       "History_of_Arizona              1   50\n",
       "History_of_Alaska               1   30\n",
       "Ateneo_de_Manila_University     1   16\n",
       "Plains_Zebra                    1   12\n",
       "\n",
       "[4130 rows x 2 columns]"
      ]
     },
     "execution_count": 55,
     "metadata": {},
     "output_type": "execute_result"
    }
   ],
   "source": [
    "degree_freq"
   ]
  },
  {
   "cell_type": "code",
   "execution_count": null,
   "id": "17a585c3",
   "metadata": {},
   "outputs": [],
   "source": []
  }
 ],
 "metadata": {
  "kernelspec": {
   "display_name": "ada-project",
   "language": "python",
   "name": "ada-project"
  },
  "language_info": {
   "codemirror_mode": {
    "name": "ipython",
    "version": 3
   },
   "file_extension": ".py",
   "mimetype": "text/x-python",
   "name": "python",
   "nbconvert_exporter": "python",
   "pygments_lexer": "ipython3",
   "version": "3.9.13"
  }
 },
 "nbformat": 4,
 "nbformat_minor": 5
}
