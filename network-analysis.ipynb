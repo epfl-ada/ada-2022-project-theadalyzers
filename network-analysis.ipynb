{
 "cells": [
  {
   "cell_type": "code",
   "execution_count": 84,
   "id": "2c126c9c",
   "metadata": {},
   "outputs": [
    {
     "data": {
      "text/html": [
       "<div>\n",
       "<style scoped>\n",
       "    .dataframe tbody tr th:only-of-type {\n",
       "        vertical-align: middle;\n",
       "    }\n",
       "\n",
       "    .dataframe tbody tr th {\n",
       "        vertical-align: top;\n",
       "    }\n",
       "\n",
       "    .dataframe thead th {\n",
       "        text-align: right;\n",
       "    }\n",
       "</style>\n",
       "<table border=\"1\" class=\"dataframe\">\n",
       "  <thead>\n",
       "    <tr style=\"text-align: right;\">\n",
       "      <th></th>\n",
       "      <th>out</th>\n",
       "      <th>in</th>\n",
       "    </tr>\n",
       "  </thead>\n",
       "  <tbody>\n",
       "    <tr>\n",
       "      <th>88280</th>\n",
       "      <td>Prague</td>\n",
       "      <td>Cyprus</td>\n",
       "    </tr>\n",
       "    <tr>\n",
       "      <th>56741</th>\n",
       "      <td>Isospin</td>\n",
       "      <td>Symmetry</td>\n",
       "    </tr>\n",
       "    <tr>\n",
       "      <th>3509</th>\n",
       "      <td>Africa</td>\n",
       "      <td>Indian_Ocean</td>\n",
       "    </tr>\n",
       "    <tr>\n",
       "      <th>70409</th>\n",
       "      <td>Marxism</td>\n",
       "      <td>World_War_II</td>\n",
       "    </tr>\n",
       "    <tr>\n",
       "      <th>106216</th>\n",
       "      <td>Thallium</td>\n",
       "      <td>Neutron</td>\n",
       "    </tr>\n",
       "  </tbody>\n",
       "</table>\n",
       "</div>"
      ],
      "text/plain": [
       "             out            in\n",
       "88280     Prague        Cyprus\n",
       "56741    Isospin      Symmetry\n",
       "3509      Africa  Indian_Ocean\n",
       "70409    Marxism  World_War_II\n",
       "106216  Thallium       Neutron"
      ]
     },
     "execution_count": 84,
     "metadata": {},
     "output_type": "execute_result"
    }
   ],
   "source": [
    "import pandas as pd\n",
    "import numpy as np\n",
    "import urllib.parse\n",
    "\n",
    "encodedStr = 'Hell%C3%B6%20W%C3%B6rld%40Python'\n",
    "urllib.parse.unquote(encodedStr)\n",
    "\n",
    "# Graph is defined in file `links.tsv`\n",
    "df = (pd.read_csv(\"wikispeedia/wikispeedia_paths-and-graph/links.tsv\", \n",
    "                  skiprows=12, \n",
    "                  sep=\"\\t\", \n",
    "                  header=None)\n",
    "      .applymap(urllib.parse.unquote)\n",
    "      .applymap(str.strip)\n",
    "      .rename(columns={0:\"out\",\n",
    "                       1:\"in\"})\n",
    "     )\n",
    "\n",
    "df.sample(5)"
   ]
  },
  {
   "cell_type": "code",
   "execution_count": 76,
   "id": "96ce0b0b",
   "metadata": {},
   "outputs": [
    {
     "name": "stdout",
     "output_type": "stream",
     "text": [
      "There are 119882 edges\n",
      "connecting 4592 unique nodes in the network.\n",
      "\n",
      "\t * 4587 nodes have out-links.\n",
      "\t * 4135 nodes have in-links.\n",
      "\n",
      "This means 5 nodes are dead-ends (no out-links),\n",
      "and 457 nodes can never be reached from any other article (no in-links) ☠️\n"
     ]
    }
   ],
   "source": [
    "# Describe df\n",
    "\n",
    "print(f\"There are {df.shape[0]} edges\")\n",
    "print(f\"connecting {df.stack().nunique()} unique nodes in the network.\")\n",
    "print(f\"\\n\\t * {df['out'].nunique()} nodes have out-links.\")\n",
    "print(f\"\\t * {df['in'].nunique()} nodes have in-links.\\n\")\n",
    "\n",
    "print(f\"This means {df.stack().nunique() - df['out'].nunique()} nodes are dead-ends (no out-links),\")\n",
    "print(f\"and {df.stack().nunique() - df['in'].nunique()} \\\n",
    "nodes can never be reached from any other article (no in-links) ☠️\")"
   ]
  },
  {
   "cell_type": "code",
   "execution_count": 82,
   "id": "f666d73e",
   "metadata": {},
   "outputs": [
    {
     "name": "stdout",
     "output_type": "stream",
     "text": [
      "5\n"
     ]
    },
    {
     "data": {
      "text/plain": [
       "{'Directdebit',\n",
       " 'Duchenne_muscular_dystrophy',\n",
       " \"Klinefelter's_syndrome\",\n",
       " 'Local_community',\n",
       " 'Osteomalacia'}"
      ]
     },
     "execution_count": 82,
     "metadata": {},
     "output_type": "execute_result"
    }
   ],
   "source": [
    "# nodes with no outlink (dead-ends)\n",
    "nodes_no_outlink = (set(df.stack()\n",
    "                        .unique())\n",
    "                    .difference(df['out']\n",
    "                                .unique()))\n",
    "print(len(nodes_no_outlink))\n",
    "nodes_no_outlink"
   ]
  },
  {
   "cell_type": "code",
   "execution_count": 83,
   "id": "d362271b",
   "metadata": {},
   "outputs": [
    {
     "name": "stdout",
     "output_type": "stream",
     "text": [
      "457\n"
     ]
    },
    {
     "data": {
      "text/plain": [
       "['International_English',\n",
       " 'Opuntia_imbricata',\n",
       " 'Common_Basilisk',\n",
       " 'Control_car_(rail)',\n",
       " 'Greater_Cane_Rat']"
      ]
     },
     "execution_count": 83,
     "metadata": {},
     "output_type": "execute_result"
    }
   ],
   "source": [
    "# Let's see which articles can't be reached from any other\n",
    "nodes_no_inlink = list((set(df.stack()\n",
    "                            .unique())\n",
    "                        .difference(df['in']\n",
    "                                    .unique())))\n",
    "print(len(nodes_no_inlink))\n",
    "\n",
    "nodes_no_inlink[:5]"
   ]
  },
  {
   "cell_type": "markdown",
   "id": "2f89dfc2",
   "metadata": {},
   "source": [
    "# TODO\n",
    "\n",
    "- Distribution of in-links and out-links per node\n",
    "- Test hypothesis: visit frequency correlates with node in-degree."
   ]
  },
  {
   "cell_type": "code",
   "execution_count": null,
   "id": "e5d5e2f6",
   "metadata": {},
   "outputs": [],
   "source": []
  }
 ],
 "metadata": {
  "kernelspec": {
   "display_name": "ada-project",
   "language": "python",
   "name": "ada-project"
  },
  "language_info": {
   "codemirror_mode": {
    "name": "ipython",
    "version": 3
   },
   "file_extension": ".py",
   "mimetype": "text/x-python",
   "name": "python",
   "nbconvert_exporter": "python",
   "pygments_lexer": "ipython3",
   "version": "3.9.13"
  }
 },
 "nbformat": 4,
 "nbformat_minor": 5
}
