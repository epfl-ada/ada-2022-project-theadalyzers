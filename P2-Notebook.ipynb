{
 "cells": [
  {
   "cell_type": "markdown",
   "id": "5933ab57",
   "metadata": {},
   "source": [
    "# `Wikispeedia` Data Exploration and Processing\n",
    "\n",
    "This `Jupyter notebook` contains the code and rationale behind the data processing we have done. It is split into 3 sections:\n",
    "\n",
    "1. `Hyperlinks' Click Preferences`: extracting hyperlinks in image captions and their position in an article\n",
    "2. `Document Similarity`: measuring document similarity between Wikipedia articles\n",
    "3. `Graph Topology`: exploring the graph topology of navigation paths\n",
    "\n",
    "**Note:** One important change we make to the dataset is we do not consider navigation paths where the participant \"back tracks\". `Doing so removes exactly 8995/51318 successful paths and 5201/24875 unsuccessful paths.` While a considerable amount, the action of \"back tracking\" adds complexity to our document similarity and graph topology analyses. For example, we would need a method to handle measures of document similarity if a user \"back tracks\" and thus visits two out-links from the parent article; do we track both similarities? In our graph topology analysis, how do we handle the \"flow\" of hyperlinks when one can move backwards? By removing these navigation paths, we form a `Matched Study` such that our analysis holds for all `Unidirectional Navigation Paths` (not necessarily linear if there exists paths where a user navigates back to a previous article)."
   ]
  },
  {
   "cell_type": "markdown",
   "id": "279f8f1b",
   "metadata": {},
   "source": [
    "## Dec. 5, 2022: Discussion with Ginevra\n",
    "\n",
    "* see the distribution of path lengths for successful/unsuccessful\n",
    "* do matching for the most frequently represented path length(s)"
   ]
  },
  {
   "cell_type": "code",
   "execution_count": 1,
   "id": "252b7d4b",
   "metadata": {},
   "outputs": [],
   "source": [
    "import pandas as pd\n",
    "import os\n",
    "\n",
    "parent_folder_path = '../Wikispeedia/wikispeedia_paths-and-graph/'\n",
    "\n",
    "paths_finished_df=(pd.read_csv(os.path.join(parent_folder_path, 'paths_finished.tsv'), \n",
    "                               sep='\\t', skiprows=15, header=None)\n",
    "                   .rename(columns={0:\"ip\",\n",
    "                                    1:\"timestamp\",\n",
    "                                    2:\"duration\",\n",
    "                                    3:\"path\",\n",
    "                                    4:\"rating\"}))\n",
    "\n",
    "paths_unfinished_df=(pd.read_csv(os.path.join(parent_folder_path, 'paths_unfinished.tsv'), \n",
    "                               sep='\\t', skiprows=16, header=None)\n",
    "                     .rename(columns={0:\"ip\",\n",
    "                                      1:\"timestamp\",\n",
    "                                      2:\"duration\",\n",
    "                                      3:\"path\",\n",
    "                                      4:\"target\",\n",
    "                                      5:\"type\"}))"
   ]
  },
  {
   "cell_type": "code",
   "execution_count": 2,
   "id": "ade80391",
   "metadata": {},
   "outputs": [],
   "source": [
    "def get_path_length_distribution(df: pd.DataFrame) -> dict:\n",
    "    out = {}\n",
    "    for path in df['path']:\n",
    "        # filter out back-track paths\n",
    "        if '<' in path:\n",
    "            continue\n",
    "        else:\n",
    "            length = len(path.split(';'))\n",
    "            if length not in out:\n",
    "                out[length] = 1\n",
    "            else:\n",
    "                out[length] += 1\n",
    "                \n",
    "    return out\n",
    "\n",
    "successful = get_path_length_distribution(paths_finished_df)\n",
    "unsucessful = get_path_length_distribution(paths_unfinished_df)\n"
   ]
  },
  {
   "cell_type": "code",
   "execution_count": 3,
   "id": "dee76e8c",
   "metadata": {},
   "outputs": [
    {
     "data": {
      "image/png": "[encoded data removed]",
      "text/plain": [
       "<Figure size 640x480 with 1 Axes>"
      ]
     },
     "metadata": {},
     "output_type": "display_data"
    }
   ],
   "source": [
    "import matplotlib.pyplot as plt\n",
    "import numpy as np\n",
    "\n",
    "plt.bar(successful.keys(), successful.values())\n",
    "plt.xticks(np.arange(1, 10, 1));"
   ]
  },
  {
   "cell_type": "code",
   "execution_count": 4,
   "id": "29ff409b",
   "metadata": {},
   "outputs": [
    {
     "data": {
      "image/png": "[encoded data removed]",
      "text/plain": [
       "<Figure size 640x480 with 1 Axes>"
      ]
     },
     "metadata": {},
     "output_type": "display_data"
    }
   ],
   "source": [
    "plt.bar(unsucessful.keys(), unsucessful.values())\n",
    "plt.xticks(np.arange(1, 10, 1));"
   ]
  },
  {
   "cell_type": "markdown",
   "id": "efc8edfe",
   "metadata": {},
   "source": [
    "## 1. Hyperlinks' Click Preferences"
   ]
  },
  {
   "cell_type": "code",
   "execution_count": null,
   "id": "f9f0b041",
   "metadata": {},
   "outputs": [],
   "source": [
    "import os\n",
    "import sys\n",
    "import pandas as pd\n",
    "import numpy as np\n",
    "import matplotlib.pyplot as plt\n",
    "import seaborn as sns\n",
    "import urllib.parse"
   ]
  },
  {
   "cell_type": "code",
   "execution_count": null,
   "id": "dd6a6e28",
   "metadata": {
    "scrolled": true
   },
   "outputs": [],
   "source": [
    "# extract html files\n",
    "wp_path = \"../Wikispeedia/wpcd/wp/\" # change path accordingly\n",
    "# get all sub-directories\n",
    "directories = os.listdir(wp_path)\n",
    "html_list = []\n",
    "for sub_dir in directories:\n",
    "    sub_dir_contents = os.listdir(os.path.join(wp_path, sub_dir))\n",
    "    for file in sub_dir_contents:\n",
    "        if file[-3:]=='htm':\n",
    "            html_list.append(os.path.join(sub_dir, file))\n",
    "            \n",
    "# show some of the extracted html files\n",
    "html_list[:3]"
   ]
  },
  {
   "cell_type": "markdown",
   "id": "d4abdba1",
   "metadata": {},
   "source": [
    "### Objective\n",
    "\n",
    "The aim of this specific game strategy analysis is to test whether `Wikispeedia` players have clikability preferences on the basis of the hyperlinks' positioning throughout the article text. \n",
    "\n",
    "In particular, we will:\n",
    "1. find the ordinal number of the paragraph each hyperlink in an article shows up in and divide it by the total number of paragraphs of the article, to determine its relative positioning\n",
    "2. determine if each hyperlink in an article shows up in an image caption.\n",
    "\n",
    "We will then investigate if there is a correlation between the click preferences of hyperlinks based on their position, using proper statistical tests. "
   ]
  },
  {
   "cell_type": "markdown",
   "id": "e05bb6ef",
   "metadata": {},
   "source": [
    "### Hyperlinks positioning in articles' text"
   ]
  },
  {
   "cell_type": "markdown",
   "id": "367618fb",
   "metadata": {},
   "source": [
    "It is essential to extract from the data the frequency of clicks for each hyperlink."
   ]
  },
  {
   "cell_type": "code",
   "execution_count": null,
   "id": "eb1a99ab",
   "metadata": {},
   "outputs": [],
   "source": [
    "# read files \n",
    "parent_folder_path='../Wikispeedia/wikispeedia_paths-and-graph/'\n",
    "\n",
    "# create the DataFrames\n",
    "paths_finished_df=(pd.read_csv(os.path.join(parent_folder_path, 'paths_finished.tsv'), \n",
    "                               sep='\\t', skiprows=15, header=None)\n",
    "                   .rename(columns={0:\"ip\",\n",
    "                                    1:\"timestamp\",\n",
    "                                    2:\"duration\",\n",
    "                                    3:\"path\",\n",
    "                                    4:\"rating\"}))\n",
    "\n",
    "paths_unfinished_df=(pd.read_csv(os.path.join(parent_folder_path, 'paths_unfinished.tsv'), \n",
    "                               sep='\\t', skiprows=16, header=None)\n",
    "                     .rename(columns={0:\"ip\",\n",
    "                                      1:\"timestamp\",\n",
    "                                      2:\"duration\",\n",
    "                                      3:\"path\",\n",
    "                                      4:\"target\",\n",
    "                                      5:\"type\"}))\n",
    "\n",
    "articles_df=pd.read_csv(os.path.join(parent_folder_path, 'articles.tsv'), \n",
    "                        sep='\\t', skiprows=12, header=None, names=['article'])"
   ]
  },
  {
   "cell_type": "markdown",
   "id": "51b35d62",
   "metadata": {},
   "source": [
    "The dataframe `paths_finished_df` contains the paths chosen by the players who could reach the target article."
   ]
  },
  {
   "cell_type": "code",
   "execution_count": null,
   "id": "d2e72681",
   "metadata": {},
   "outputs": [],
   "source": [
    "paths_finished_df.head()"
   ]
  },
  {
   "cell_type": "markdown",
   "id": "d3a47b5f",
   "metadata": {},
   "source": [
    "The dataframe `paths_unfinished` contains the paths chosen by the players who could not reach the target article."
   ]
  },
  {
   "cell_type": "code",
   "execution_count": null,
   "id": "e1279013",
   "metadata": {},
   "outputs": [],
   "source": [
    "paths_unfinished_df.head()"
   ]
  },
  {
   "cell_type": "markdown",
   "id": "00681d55",
   "metadata": {},
   "source": [
    "The dataframe `articles_df` lists all the clickable articles/links."
   ]
  },
  {
   "cell_type": "code",
   "execution_count": null,
   "id": "e8d25afe",
   "metadata": {},
   "outputs": [],
   "source": [
    "# encode and filter link names\n",
    "def filter_link_list(links_list):\n",
    "    new_links_list=[]\n",
    "    \n",
    "    for link in links_list:\n",
    "        link=urllib.parse.unquote(link).lower().replace('_', '').strip()\n",
    "        new_links_list.append(link)\n",
    "        \n",
    "    return new_links_list\n",
    "\n",
    "articles_df.article=filter_link_list(articles_df.article)\n",
    "articles_df.head()"
   ]
  },
  {
   "cell_type": "code",
   "execution_count": null,
   "id": "f7948037",
   "metadata": {},
   "outputs": [],
   "source": [
    "print('The total number of articles comprising the Wikispeedia library is {0}.'.format(len(articles_df)))"
   ]
  },
  {
   "cell_type": "markdown",
   "id": "4873d8f9",
   "metadata": {},
   "source": [
    "The dataframe `clicked_links_filtered` contains the clicked links throughout the paths."
   ]
  },
  {
   "cell_type": "code",
   "execution_count": null,
   "id": "c973fe98",
   "metadata": {
    "scrolled": true
   },
   "outputs": [],
   "source": [
    "clicked_links=[path.split(';') for path in paths_finished_df['path']]\n",
    "\n",
    "clicked_links_filtered=[] # consistent with other dfs\n",
    "for path in clicked_links:\n",
    "    # remove navigation paths that \"back track\"\n",
    "    if '<' in path:\n",
    "        continue\n",
    "    else:\n",
    "        path_filtered=filter_link_list(path)\n",
    "        clicked_links_filtered.append(path_filtered)\n",
    "\n",
    "clicked_links_filtered[:2]"
   ]
  },
  {
   "cell_type": "markdown",
   "id": "c831f4d7",
   "metadata": {},
   "source": [
    "The dataframe `links_freq_df` contains the links' frequency of clicks."
   ]
  },
  {
   "cell_type": "code",
   "execution_count": null,
   "id": "7fdf6dc5",
   "metadata": {},
   "outputs": [],
   "source": [
    "links_name=[]\n",
    "links_freq=[]\n",
    "\n",
    "for article in articles_df.article: # count the number of times each article shows up in paths\n",
    "    count=0\n",
    "    links_name.append(article)\n",
    "    for i in range(len(clicked_links_filtered)):\n",
    "        # do not count the first article since that's the start\n",
    "        if article in clicked_links_filtered[i][1:]:\n",
    "            count+=1 \n",
    "    links_freq.append(count)\n",
    "\n",
    "links_name=pd.Series(links_name)\n",
    "links_freq=pd.Series(links_freq)\n",
    "links_freq_df=pd.concat([links_name, links_freq], axis=1, names=['link', '#_clicks'])\n",
    "links_freq_df.columns=['link', '#_clicks']\n",
    "\n",
    "links_freq_df.loc[links_freq_df['#_clicks']!=0].head()"
   ]
  },
  {
   "cell_type": "code",
   "execution_count": null,
   "id": "0c1a566b",
   "metadata": {},
   "outputs": [],
   "source": [
    "clicks_tot=links_freq_df['#_clicks'].sum()\n",
    "print('The total number of clicked hyperlinks is {0}.'.format(clicks_tot))"
   ]
  },
  {
   "cell_type": "markdown",
   "id": "efbf2121",
   "metadata": {},
   "source": [
    "Next step of the descriptive analysis process is the html files parsing aimed at determining the location of hyperlinks. "
   ]
  },
  {
   "cell_type": "code",
   "execution_count": null,
   "id": "52aae5e6",
   "metadata": {},
   "outputs": [],
   "source": [
    "# parse html files \n",
    "\n",
    "from bs4 import BeautifulSoup\n",
    "\n",
    "soups=[]\n",
    "failed_html_list = []\n",
    "for html in html_list[:]:\n",
    "    f=open(wp_path+html, 'r')\n",
    "    try:\n",
    "        soup = BeautifulSoup(f, 'lxml')\n",
    "        soups.append(soup)\n",
    "    except Exception:\n",
    "        failed_html_list.append(html)"
   ]
  },
  {
   "cell_type": "code",
   "execution_count": null,
   "id": "52a9a7bf",
   "metadata": {},
   "outputs": [],
   "source": [
    "print('{0} files were not parsable. However, they are not reachable nor it is possible to click \\\n",
    "any hyperlink in those html pages.'.format(len(failed_html_list)))"
   ]
  },
  {
   "cell_type": "markdown",
   "id": "d9df4d68",
   "metadata": {},
   "source": [
    "`link_positioning_dfs` is a list of dataframes (`link_positioning_df`) containing hyperlinks showing up in one html file, the ordinal number of the paragraph they belong to and their relative positioning throughout the article text. "
   ]
  },
  {
   "cell_type": "code",
   "execution_count": null,
   "id": "7aafde19",
   "metadata": {},
   "outputs": [],
   "source": [
    "# HTML tag for hyperlinks is <a href= >\n",
    "# the function finds all <a href= > tags throughout the article html file\n",
    "\n",
    "def find_links(soup): \n",
    "    paragraphs = soup.find_all('p') \n",
    "    links=[]\n",
    "\n",
    "    for i, p in enumerate(paragraphs):\n",
    "        i+=1\n",
    "        all_links=p.find_all('a')\n",
    "        for link in all_links:\n",
    "            if 'href' in link.attrs:\n",
    "                link_title=link.text\n",
    "                link_paragraph=i\n",
    "                links.append([link_title, link_paragraph])\n",
    "                \n",
    "    link_positioning_df=pd.DataFrame(links, columns=['link', '#_paragraph']).drop_duplicates()\n",
    "    link_positioning_df['positioning']=round(link_positioning_df['#_paragraph']/len(paragraphs), 2)\n",
    "    link_positioning_df['link']=filter_link_list(link_positioning_df['link'])\n",
    "    return link_positioning_df"
   ]
  },
  {
   "cell_type": "code",
   "execution_count": null,
   "id": "77510d8e",
   "metadata": {
    "scrolled": false
   },
   "outputs": [],
   "source": [
    "# apply the function to all html files\n",
    "\n",
    "link_positioning_dfs=[]\n",
    "for soup in soups:\n",
    "    link_positioning_dfs.append(find_links(soup))\n",
    "\n",
    "link_positioning_dfs[:2]"
   ]
  },
  {
   "cell_type": "code",
   "execution_count": null,
   "id": "63b16645",
   "metadata": {},
   "outputs": [],
   "source": [
    "print(f'{len(link_positioning_dfs)} html files were parsed.')"
   ]
  },
  {
   "cell_type": "code",
   "execution_count": null,
   "id": "2aecdb54",
   "metadata": {},
   "outputs": [],
   "source": [
    "# example with 2 files\n",
    "\n",
    "PATH_1 = os.path.join(wp_path, 'a/A_cappella.htm')\n",
    "PATH_2 = os.path.join(wp_path, 'm/Music.htm')\n",
    "\n",
    "f1=open(PATH_1, 'r')\n",
    "soup1 = BeautifulSoup(f1, 'lxml')\n",
    "\n",
    "f2=open(PATH_2, 'r')\n",
    "soup2 = BeautifulSoup(f2, 'lxml')\n",
    "\n",
    "link_positioning_df_1=find_links(soup1).drop(labels='#_paragraph', axis=1)\n",
    "link_positioning_df_2=find_links(soup2).drop(labels='#_paragraph', axis=1)\n",
    "\n",
    "# merging the 2 dataframes \n",
    "\n",
    "merged_dfs=link_positioning_df_1.merge(link_positioning_df_2, how='outer', left_on='link', right_on='link', )\n",
    "merged_dfs"
   ]
  },
  {
   "cell_type": "markdown",
   "id": "8cd59259",
   "metadata": {},
   "source": [
    "The hyperlink `rap` shows up in both articles; the hyperlink `jazz`, `renaissance` and `time` show up multiple times in one article. \n",
    "\n",
    "The two occurrences highlighted are likely to be the case for every hyperlink, when all dataframes will be merged. It is therefore essential to compute their most likely positioning in the articles' texts to extract any meaningful information from the data.  "
   ]
  },
  {
   "cell_type": "code",
   "execution_count": null,
   "id": "f4c4b799",
   "metadata": {},
   "outputs": [],
   "source": [
    "# merge all the link_positioning_df in link_positioning_dfs list on hyperlink in order to apply a function \n",
    "# that determines the most frequent positioning of the hyperlinks\n",
    "\n",
    "\n",
    "link_positioning_dfs_grouped=[]\n",
    "\n",
    "fail=0  \n",
    "for i, df in enumerate(link_positioning_dfs):\n",
    "    try:\n",
    "        df=df.set_index(\"link\")\n",
    "        df=df[\"positioning\"].groupby(\"link\").apply(lambda x: x.values).rename(f\"article_{i}\")\n",
    "        link_positioning_dfs_grouped.append(df)\n",
    "    except:\n",
    "        fail+=1\n",
    "        pass \n",
    "\n",
    "from itertools import chain\n",
    "link_positioning_concatenated=(pd.concat(link_positioning_dfs_grouped)\n",
    "                               .groupby(\"link\")\n",
    "                               .apply(lambda x: list(chain(*x.values))))\n",
    "link_positioning_concatenated[:10]"
   ]
  },
  {
   "cell_type": "code",
   "execution_count": null,
   "id": "6d602ad7",
   "metadata": {},
   "outputs": [],
   "source": [
    "# function that determines the most frequent positioning of each hyperlink in the set of all links\n",
    "\n",
    "def find_positioning(array):\n",
    "    bin_labels=['top', 'center-top','center','center-bottom', 'bottom'] # positioning is classified as top, centre-top, center, center-bottom, or bottom of the article\n",
    "    bins=[0, 0.20, 0.40, 0.60, 0.80, 1] \n",
    "    cut_positioning=pd.cut(array, bins, labels=bin_labels, right=True, include_lowest=True)\n",
    "    positioning_frequency=pd.value_counts(cut_positioning) # frequency of the bins\n",
    "    most=positioning_frequency.apply('max') # bin with highest frequency\n",
    "    if len(positioning_frequency[positioning_frequency==most])>1:\n",
    "        return np.random.choice(positioning_frequency[positioning_frequency==most].index.values.astype(str)) #account for same frequency\n",
    "    else:\n",
    "        return positioning_frequency[positioning_frequency==most].index.values.astype(str).item()"
   ]
  },
  {
   "cell_type": "markdown",
   "id": "f86d10bb",
   "metadata": {},
   "source": [
    "The dataframe `most_freq_positioning_df` contains the hyperlinks' most frequent positioning."
   ]
  },
  {
   "cell_type": "code",
   "execution_count": null,
   "id": "90237f1d",
   "metadata": {},
   "outputs": [],
   "source": [
    "# all html files\n",
    "\n",
    "most_freq_positioning=link_positioning_concatenated.apply(find_positioning)\n",
    "most_freq_positioning_df=pd.DataFrame(most_freq_positioning, columns=['most_freq_positioning'])[1:]\n",
    "most_freq_positioning_df.reset_index()"
   ]
  },
  {
   "cell_type": "markdown",
   "id": "80c66cf4",
   "metadata": {},
   "source": [
    "The dataframe `links_freq_pos` contains both the hyperlinks' most frequent positioning and their frequency of clicks."
   ]
  },
  {
   "cell_type": "code",
   "execution_count": null,
   "id": "bfd7ae70",
   "metadata": {},
   "outputs": [],
   "source": [
    "links_freq_pos=links_freq_df.merge(most_freq_positioning_df, how='outer', left_on='link', right_on='link')\n",
    "links_freq_pos"
   ]
  },
  {
   "cell_type": "code",
   "execution_count": null,
   "id": "adbbc8b6",
   "metadata": {},
   "outputs": [],
   "source": [
    "not_clicked=links_freq_pos['#_clicks'].isnull().value_counts()[0]\n",
    "print('There are {0} links in the articles, {1} never clicked.'.format(len(most_freq_positioning_df), not_clicked))"
   ]
  },
  {
   "cell_type": "markdown",
   "id": "e90b2547",
   "metadata": {},
   "source": [
    "The dataframe `links_freq_pos_grouped_df` groups the hyperlinks click frequency by their positioning."
   ]
  },
  {
   "cell_type": "code",
   "execution_count": null,
   "id": "e2409aee",
   "metadata": {},
   "outputs": [],
   "source": [
    "links_freq_pos_grouped=links_freq_pos['#_clicks'].groupby(links_freq_pos['most_freq_positioning']).sum()\n",
    "links_freq_pos_grouped_df=pd.DataFrame(links_freq_pos_grouped)\n",
    "links_freq_pos_grouped_df['#_clicks_norm']=links_freq_pos_grouped_df['#_clicks']/clicks_tot #normalization\n",
    "links_freq_pos_grouped_df"
   ]
  },
  {
   "cell_type": "markdown",
   "id": "78b28b84",
   "metadata": {},
   "source": [
    "In order to compare the hyperlinks click frequencies with regard to their positioning (i.e. _top_, _center-top_, _center_, _center-bottom_, _bottom_) their absolute values need to be normalized with the bins' frequencies (i.e. the number of times the hypelinks actually show up in the categorical positioning).\n",
    "\n",
    "The dataframe `positioning_freq_df_grouped` contains the frequency of hyperlinks showing up in the `Wikispeedia` set of articles grouped by their positioning throughout the text. "
   ]
  },
  {
   "cell_type": "code",
   "execution_count": null,
   "id": "c5485341",
   "metadata": {},
   "outputs": [],
   "source": [
    "# function that counts the frequency of a link showing up at the top, center, bottom of the article\n",
    "\n",
    "def find_positioning_dis(array):\n",
    "    bin_labels=['top', 'center-top','center', 'center-bottom', 'bottom']\n",
    "    bins=[0, 0.2, 0.4, 0.6, 0.8, 1]\n",
    "    cut_positioning=pd.cut(array, bins, labels=bin_labels, right=True, include_lowest=True)\n",
    "    positioning_frequency=pd.value_counts(cut_positioning)\n",
    "    return positioning_frequency"
   ]
  },
  {
   "cell_type": "code",
   "execution_count": null,
   "id": "b819e3bb",
   "metadata": {},
   "outputs": [],
   "source": [
    "# apply the function to the dataframe links positioning grouped by link  \n",
    "\n",
    "positioning_freq=link_positioning_concatenated.apply(find_positioning_dis)\n",
    "positioning_freq"
   ]
  },
  {
   "cell_type": "code",
   "execution_count": null,
   "id": "d8604226",
   "metadata": {},
   "outputs": [],
   "source": [
    "positioning_freq_grouped=positioning_freq.sum(axis=0) # group by positioning\n",
    "positioning_freq_grouped_df=pd.DataFrame(positioning_freq_grouped, columns=['nr'])\n",
    "links_tot=positioning_freq_grouped_df['nr'].sum()\n",
    "positioning_freq_grouped_df['nr_norm']=positioning_freq_grouped_df['nr']/links_tot\n",
    "positioning_freq_grouped_df"
   ]
  },
  {
   "cell_type": "code",
   "execution_count": null,
   "id": "1f63031e",
   "metadata": {},
   "outputs": [],
   "source": [
    "vis=links_freq_pos_grouped_df.merge(positioning_freq_grouped_df, left_index=True, right_index=True)\n",
    "vis"
   ]
  },
  {
   "cell_type": "code",
   "execution_count": null,
   "id": "7761d8e9",
   "metadata": {},
   "outputs": [],
   "source": [
    "# visualization of the distribution of the clicked hyperlinks' positioning\n",
    "\n",
    "# dataframe for visualization\n",
    "vis=links_freq_pos_grouped_df.merge(positioning_freq_grouped_df, left_index=True, right_index=True)\n",
    "\n",
    "fig, ax = plt.subplots(1,2, figsize=(11,4))\n",
    "vis.plot(y=['#_clicks_norm', 'nr_norm'],\n",
    "         kind='bar', ax=ax[0], \n",
    "         label=['#_clicks', '#_hyperlinks'], \n",
    "         color=['orange', 'green'],\n",
    "         edgecolor=['k', 'k'])\n",
    "ax[0].legend()\n",
    "ax[0].set_title('Distribution of the hyperlinks positioning')\n",
    "ax[0].set_xlabel('Positioning')\n",
    "ax[0].set_ylabel('Frequency normalized')\n",
    "\n",
    "vis['clicked']=vis['#_clicks_norm']/vis['nr_norm'] # not sure\n",
    "vis.plot(y='clicked', \n",
    "         kind='bar', \n",
    "         ax=ax[1], \n",
    "         label='',\n",
    "         edgecolor='k')\n",
    "ax[1].legend()\n",
    "ax[1].set_title(\"Distribution of the hyperlinks' clickability\")\n",
    "ax[1].set_xlabel('Positioning')\n",
    "ax[1].set_ylabel('#_clicks / #_hyperlinks')"
   ]
  },
  {
   "cell_type": "markdown",
   "id": "b93c1aa4",
   "metadata": {},
   "source": [
    "The bar plot on the left illustrates the distribution of the clicked hyperlinks and the total number of links in the articles, on the basis of their positioning throughout the articles text, both normalized. \n",
    "\n",
    "The bar plot on the right illustrates the hyperlinks clickability on the basis of their positioning. More precisely: \n",
    "1. a value of 1 (_\\#_clicks_/_\\#_hyperlinks_ = 1) corresponds to a hyperlinks clickability on average equally proportional to the normalized frequency of the specific categorical positioning (i.e. the number of clicks proportional to the number times a hyperlink shows up in a section of the article);\n",
    "2. a value of greater than 1, points a more than proportional clickability;\n",
    "3. a value of smaller than 1, points a less than proportional clickability."
   ]
  },
  {
   "cell_type": "markdown",
   "id": "0e0348c5",
   "metadata": {},
   "source": [
    "### Hyperlinks positioning in images' caption"
   ]
  },
  {
   "cell_type": "markdown",
   "id": "0c17b24e",
   "metadata": {},
   "source": [
    "The following part of the descriptive analysis focuses on the location of hyperlinks in images' captions."
   ]
  },
  {
   "cell_type": "markdown",
   "id": "4ef79c78",
   "metadata": {},
   "source": [
    "Images in html files can be either found under \\<div> or \\<table> tag, while the hyperlinks are found in their captions under \\<div class='thumbcaption'> tag."
   ]
  },
  {
   "cell_type": "markdown",
   "id": "d16521bd",
   "metadata": {},
   "source": [
    "The dataframe `links_in_tables` contains the links showing up in tables' captions. "
   ]
  },
  {
   "cell_type": "code",
   "execution_count": null,
   "id": "a3978781",
   "metadata": {},
   "outputs": [],
   "source": [
    "# parse html file and search hyperlinks in the captions of tables containing images \n",
    "\n",
    "def find_link_in_table(soup):\n",
    "    \n",
    "    tables = soup.find_all('table')\n",
    "\n",
    "    links=[]\n",
    "    for table in tables:\n",
    "        if table.find('img'):\n",
    "            all_links=table.find_all('a')\n",
    "            for link in all_links:\n",
    "                if 'class' not in link.attrs:\n",
    "                    link_title=link.text\n",
    "                    links.append(link_title)\n",
    "\n",
    "    if links:\n",
    "        links_in_table_df=pd.DataFrame(links).drop_duplicates()\n",
    "        links_in_table_df.columns=['link']\n",
    "        links_in_table_df=links_in_table_df.apply(filter_link_list) \n",
    "    else: \n",
    "        return None\n",
    "    return links_in_table_df"
   ]
  },
  {
   "cell_type": "code",
   "execution_count": null,
   "id": "55ae0923",
   "metadata": {},
   "outputs": [],
   "source": [
    "links_in_tables=[]\n",
    "for soup in soups:\n",
    "    links_in_tables.append(find_link_in_table(soup))\n",
    "\n",
    "links_in_tables_df=pd.concat(links_in_tables, axis=0)\n",
    "links_in_tables_df.head()"
   ]
  },
  {
   "cell_type": "code",
   "execution_count": null,
   "id": "d2e69e9d",
   "metadata": {},
   "outputs": [],
   "source": [
    "links_in_tables_tot=len(links_in_tables_df)\n",
    "print('The total number of links in tables captions is {0}.'.format(links_in_tables_tot))"
   ]
  },
  {
   "cell_type": "markdown",
   "id": "8a45a032",
   "metadata": {},
   "source": [
    "The dataframe `links_in_images` contains the links showing up in images' captions."
   ]
  },
  {
   "cell_type": "code",
   "execution_count": null,
   "id": "dd2fa97c",
   "metadata": {},
   "outputs": [],
   "source": [
    "# parse html file and search hyperlinks in the captions of div containing images \n",
    "\n",
    "def find_links_in_img(soup):\n",
    "    div = soup.find_all('div')\n",
    "\n",
    "    links=[]\n",
    "\n",
    "    for d in div:\n",
    "        if (d.find('a', class_=\"internal\")):\n",
    "            if (d.find('img', class_='thumbimage')):\n",
    "                caption=d.find('div', class_=\"thumbcaption\")\n",
    "                if (caption.find('a')):\n",
    "                    all_links=caption.find_all('a')\n",
    "                    for link in all_links:\n",
    "                        if 'class' not in link.attrs:\n",
    "                            link_title=link.text\n",
    "                            links.append(link_title)\n",
    "    if links:\n",
    "        links_in_image_df=pd.DataFrame(links).drop_duplicates()\n",
    "        links_in_image_df.columns=['link']\n",
    "        links_in_image_df=links_in_image_df.apply(filter_link_list) \n",
    "    else: \n",
    "        return None\n",
    "        links_in_image_df=pd.DataFrame()\n",
    "    return links_in_image_df"
   ]
  },
  {
   "cell_type": "code",
   "execution_count": null,
   "id": "41d89127",
   "metadata": {},
   "outputs": [],
   "source": [
    "links_in_images=[]\n",
    "for soup in soups:\n",
    "    links_in_images.append(find_links_in_img(soup))\n",
    "\n",
    "\n",
    "links_in_images_df=pd.concat(links_in_images, axis=0)\n",
    "links_in_images_df.head()"
   ]
  },
  {
   "cell_type": "code",
   "execution_count": null,
   "id": "47fc8baa",
   "metadata": {},
   "outputs": [],
   "source": [
    "links_in_images_tot=len(links_in_images_df)\n",
    "print('The total number of links in images captions is {0}.'.format(links_in_images_tot))"
   ]
  },
  {
   "cell_type": "markdown",
   "id": "33914a38",
   "metadata": {},
   "source": [
    "Next, the supposed clickability preference for a hyperlink showing up in an image will be investigated, by grouping the click frequency by hyperlinks' location."
   ]
  },
  {
   "cell_type": "code",
   "execution_count": null,
   "id": "07264623",
   "metadata": {},
   "outputs": [],
   "source": [
    "# drop indexes to ease the flagging\n",
    "links_in_images_df=links_in_images_df.reset_index(drop=True)\n",
    "links_in_tables_df=links_in_tables_df.reset_index(drop=True)"
   ]
  },
  {
   "cell_type": "code",
   "execution_count": null,
   "id": "48079070",
   "metadata": {},
   "outputs": [],
   "source": [
    "links_freq_df"
   ]
  },
  {
   "cell_type": "markdown",
   "id": "30d7b169",
   "metadata": {},
   "source": [
    "The dataframe `links_freq_img` contains hyperlinks click frequency and a flag specifying if they can be found in images' captions."
   ]
  },
  {
   "cell_type": "code",
   "execution_count": null,
   "id": "1342733c",
   "metadata": {},
   "outputs": [],
   "source": [
    "# link in image\n",
    "\n",
    "flag_img=[]\n",
    "links_freq_img=links_freq_df.copy()\n",
    "\n",
    "for link in links_freq_img['link']:\n",
    "    if link in list(links_in_images_df['link']):\n",
    "        flag_img.append(1)\n",
    "    else:\n",
    "        flag_img.append(0)\n",
    "    \n",
    "links_freq_img['in_image']=flag_img\n",
    "links_freq_img[links_freq_img['in_image']==1][:10]"
   ]
  },
  {
   "cell_type": "code",
   "execution_count": null,
   "id": "b2415297",
   "metadata": {},
   "outputs": [],
   "source": [
    "# link in image\n",
    "\n",
    "flag_img=[]\n",
    "links_freq_img=links_freq_df.copy()\n",
    "\n",
    "for link in links_freq_img['link']:\n",
    "    if link in list(links_in_images_df['link']):\n",
    "        flag_img.append(1)\n",
    "    else:\n",
    "        flag_img.append(0)\n",
    "    \n",
    "links_freq_img['in_image']=flag_img\n",
    "links_freq_img[links_freq_img['in_image']==1][:10]"
   ]
  },
  {
   "cell_type": "markdown",
   "id": "f4dcc54e",
   "metadata": {},
   "source": [
    "The dataframe `links_freq_tab` contains hyperlinks click frequency and a flag specifying if they can be found in tables' captions."
   ]
  },
  {
   "cell_type": "code",
   "execution_count": null,
   "id": "52e19757",
   "metadata": {},
   "outputs": [],
   "source": [
    "# link in table\n",
    "\n",
    "flag_tab=[]\n",
    "links_freq_tab=links_freq_df.copy()\n",
    "\n",
    "for link in links_freq_tab['link']:\n",
    "    if link in list(links_in_tables_df['link']):\n",
    "        flag_tab.append(1)\n",
    "    else:\n",
    "        flag_tab.append(0)\n",
    "    \n",
    "links_freq_tab['in_tab']=flag_tab\n",
    "links_freq_tab[links_freq_tab['in_tab']==1][:10]"
   ]
  },
  {
   "cell_type": "code",
   "execution_count": null,
   "id": "1a8247f1",
   "metadata": {},
   "outputs": [],
   "source": [
    "# find normalized values of clicks (#_clicks) on the basis of the relative number of times a hyperlink shows up in an \n",
    "# image caption to occurrence in the article text \n",
    "\n",
    "# images \n",
    "\n",
    "links_in_img=pd.concat(links_in_images, axis=0).reset_index(drop=True)\n",
    "\n",
    "link_in_img_freq=[]\n",
    "link_name=[]\n",
    "\n",
    "for link in list(links_in_img['link']):\n",
    "    count=list(links_in_img['link']).count(link)\n",
    "    link_name.append(link)\n",
    "    link_in_img_freq.append(count)\n",
    "\n",
    "link_name=pd.Series(link_name)\n",
    "link_in_img_freq=pd.Series(link_in_img_freq)\n",
    "link_in_img_freq_df=pd.concat([link_name, link_in_img_freq], axis=1)\n",
    "link_in_img_freq_df.columns=['link', '#_link_in_img']\n",
    "link_in_img_freq_df"
   ]
  },
  {
   "cell_type": "code",
   "execution_count": null,
   "id": "6dd5579a",
   "metadata": {},
   "outputs": [],
   "source": [
    "# links showing up in images' captions and also in texts\n",
    "\n",
    "links_in_text=pd.concat(link_positioning_dfs, axis=0)['link']\n",
    "link_in_text_freq=[]\n",
    "link_name=[]\n",
    "\n",
    "for link in list(links_in_img['link']):\n",
    "    count=list(links_in_text).count(link)\n",
    "    link_name.append(link)\n",
    "    link_in_text_freq.append(count)\n",
    "\n",
    "link_name_text=pd.Series(link_name)\n",
    "link_in_text_freq=pd.Series(link_in_text_freq)\n",
    "link_in_text_freq_df=pd.concat([link_name_text, link_in_text_freq], axis=1)\n",
    "link_in_text_freq_df.columns=['link', '#_link_in_text']\n",
    "link_in_text_freq_df"
   ]
  },
  {
   "cell_type": "code",
   "execution_count": null,
   "id": "cd112a4c",
   "metadata": {},
   "outputs": [],
   "source": [
    "df_img=pd.merge(links_freq_img[links_freq_img['in_image']==1], link_in_img_freq_df, left_on='link', right_on='link')\n",
    "new_df_img=pd.merge(df_img, link_in_text_freq_df, left_on='link', right_on='link')\n",
    "new_df_img=new_df_img.set_index('link')\n",
    "new_df_img"
   ]
  },
  {
   "cell_type": "code",
   "execution_count": null,
   "id": "808252b5",
   "metadata": {},
   "outputs": [],
   "source": [
    "norm_values_img=new_df_img['#_link_in_img']/new_df_img['#_link_in_text']\n",
    "clicks_norm_img=(new_df_img['#_clicks']*norm_values_img)\n",
    "clicks_norm_img.replace([np.inf, -np.inf], np.nan, inplace=True)\n",
    "clicks_norm_img=clicks_norm_img.fillna(0).values.astype('int')"
   ]
  },
  {
   "cell_type": "code",
   "execution_count": null,
   "id": "26800a11",
   "metadata": {},
   "outputs": [],
   "source": [
    "links_freq_img=links_freq_img.set_index('link')\n",
    "links_freq_img.rename(columns={'#_clicks':'#_clicks_norm'}, inplace=True)\n",
    "links_freq_img.loc[norm_values_img.index,'#_clicks_norm']=clicks_norm_img\n",
    "links_freq_img"
   ]
  },
  {
   "cell_type": "code",
   "execution_count": null,
   "id": "89369a89",
   "metadata": {},
   "outputs": [],
   "source": [
    "# tables \n",
    "\n",
    "links_in_tab=pd.concat(links_in_tables, axis=0).reset_index(drop=True)\n",
    "\n",
    "link_in_tab_freq=[]\n",
    "link_name=[]\n",
    "\n",
    "for link in list(links_in_tab['link']):\n",
    "    count=list(links_in_tab['link']).count(link)\n",
    "    link_name.append(link)\n",
    "    link_in_tab_freq.append(count)\n",
    "\n",
    "link_name=pd.Series(link_name)\n",
    "link_in_tab_freq=pd.Series(link_in_tab_freq)\n",
    "link_in_tab_freq_df=pd.concat([link_name, link_in_tab_freq], axis=1)\n",
    "link_in_tab_freq_df.columns=['link', '#_link_in_tab']"
   ]
  },
  {
   "cell_type": "code",
   "execution_count": null,
   "id": "e853197f",
   "metadata": {},
   "outputs": [],
   "source": [
    "links_in_text=pd.concat(link_positioning_dfs, axis=0)['link']\n",
    "link_in_text_freq=[]\n",
    "link_name=[]\n",
    "\n",
    "for link in list(links_in_tab['link']):\n",
    "    count=list(links_in_text).count(link)\n",
    "    link_name.append(link)\n",
    "    link_in_text_freq.append(count)\n",
    "\n",
    "link_name_text=pd.Series(link_name)\n",
    "link_in_text_freq=pd.Series(link_in_text_freq)\n",
    "link_in_text_freq_df=pd.concat([link_name_text, link_in_text_freq], axis=1)\n",
    "link_in_text_freq_df.columns=['link', '#_link_in_text']"
   ]
  },
  {
   "cell_type": "code",
   "execution_count": null,
   "id": "bcb2dc35",
   "metadata": {},
   "outputs": [],
   "source": [
    "df_tab=pd.merge(links_freq_tab[links_freq_tab['in_tab']==1], link_in_tab_freq_df, left_on='link', right_on='link')\n",
    "new_df_tab=pd.merge(df_tab, link_in_text_freq_df, left_on='link', right_on='link')\n",
    "new_df_tab=new_df_tab.set_index('link')\n",
    "\n",
    "norm_values_tab=new_df_tab['#_link_in_tab']/new_df_tab['#_link_in_text']\n",
    "clicks_norm_tab=(new_df_tab['#_clicks']*norm_values_tab)\n",
    "clicks_norm_tab.replace([np.inf, -np.inf], np.nan, inplace=True)\n",
    "clicks_norm_tab=clicks_norm_tab.fillna(0).values.astype('int')\n",
    "\n",
    "links_freq_tab=links_freq_tab.set_index('link')\n",
    "links_freq_tab.rename(columns={'#_clicks':'#_clicks_norm'}, inplace=True)\n",
    "links_freq_tab.loc[norm_values_tab.index,'#_clicks_norm']=clicks_norm_tab\n",
    "links_freq_tab"
   ]
  },
  {
   "cell_type": "markdown",
   "id": "6cc8c4cf",
   "metadata": {},
   "source": [
    "The dataframe `links_freq_img_grouped_df` contains the frequency of clicks for hyperlinks showing up in images' captions and not, and their normalized values."
   ]
  },
  {
   "cell_type": "code",
   "execution_count": null,
   "id": "1ad62316",
   "metadata": {},
   "outputs": [],
   "source": [
    "links_freq_img_grouped_df=pd.DataFrame(links_freq_img['#_clicks_norm'].groupby(links_freq_img['in_image']).sum())\n",
    "\n",
    "links_freq_img_grouped_df.loc[0,'#_clicks/#_links_img']=links_freq_img_grouped_df.loc[0,'#_clicks_norm']/(links_tot-links_in_images_tot)\n",
    "links_freq_img_grouped_df.loc[1,'#_clicks/#_links_img']=links_freq_img_grouped_df.loc[1,'#_clicks_norm']/links_in_images_tot\n",
    "\n",
    "links_freq_img_grouped_df"
   ]
  },
  {
   "cell_type": "markdown",
   "id": "1e310a17",
   "metadata": {},
   "source": [
    "The dataframe `links_freq_tab_grouped_df` contains the frequency of clicks for hyperlinks showing up in tables' captions and not, and their normalized values."
   ]
  },
  {
   "cell_type": "code",
   "execution_count": null,
   "id": "cfca42d5",
   "metadata": {},
   "outputs": [],
   "source": [
    "links_freq_tab_grouped_df=pd.DataFrame(links_freq_tab['#_clicks_norm'].groupby(links_freq_tab['in_tab']).sum())\n",
    "\n",
    "links_freq_tab_grouped_df.loc[0,'#_clicks/#_links_tab']=links_freq_tab_grouped_df.loc[0,'#_clicks_norm']/(links_tot-links_in_tables_tot)\n",
    "links_freq_tab_grouped_df.loc[1,'#_clicks/#_links_tab']=links_freq_tab_grouped_df.loc[1,'#_clicks_norm']/links_in_tables_tot\n",
    "\n",
    "links_freq_tab_grouped_df"
   ]
  },
  {
   "cell_type": "code",
   "execution_count": null,
   "id": "986cd676",
   "metadata": {},
   "outputs": [],
   "source": [
    "# dataframe for visualization\n",
    "vis_img=links_freq_img_grouped_df.merge(links_freq_tab_grouped_df, left_index=True, right_index=True)\n",
    "\n",
    "fig, ax = plt.subplots(figsize=(6,5))\n",
    "vis_img.plot(y=['#_clicks/#_links_img', '#_clicks/#_links_tab'], \n",
    "             kind='bar', \n",
    "             ax=ax, label=['image', 'table'], \n",
    "             color=['orange', 'green'], edgecolor='k')\n",
    "ax.legend()\n",
    "ax.set_xlabel('Link in image or table caption')\n",
    "ax.set_ylabel('#_clicks/#_hyperlinks')\n",
    "ax.set_title('Clicability of hyperlinks in captions')"
   ]
  },
  {
   "cell_type": "markdown",
   "id": "9df016b6",
   "metadata": {},
   "source": [
    "Assumptions: \n",
    "1. when a hyperlink shows up in both the article text and in an image caption, it is not possible to extract from the data the player's click choice. Therefore we assumed that hyperlinks showing up in images' captions don't appear in the text, as the following statement justifies. The normalization, therefore took into account a total number of links in texts equal to  (total number of hyperlinks detected) - (total number of hyperlinks showing up in images' captions). "
   ]
  },
  {
   "cell_type": "code",
   "execution_count": null,
   "id": "59738c64",
   "metadata": {},
   "outputs": [],
   "source": [
    "twice=0\n",
    "for idx in range(len(link_positioning_dfs)):\n",
    "    if links_in_images[idx] is None:\n",
    "        continue\n",
    "    else:\n",
    "        if set(link_positioning_dfs[idx]['link']).intersection(set(links_in_images[idx]['link'])):\n",
    "            twice+=1\n",
    "print('{0} hyperlinks show up both in the text and in an image caption of an article, out of {1} articles.'.format(twice, len(link_positioning_dfs)))"
   ]
  },
  {
   "cell_type": "markdown",
   "id": "baa0ab8c",
   "metadata": {},
   "source": [
    "## 2 . Document Similarity\n",
    "\n",
    "### Similarity Between Wikipedia Articles: 'Bag-of-Words' Cosine Similarity Based on Word Frequencies\n",
    "\n",
    "We are interested in measuring ***similarity*** between `Wikipedia` articles to investigate players' strategies in `Wikispeedia`. The proposed similarity is `Cosine Similarity` measured on word frequencies given a pair of articles. **Therefore, the assumption we make is that articles with similar occurrences of words are similar.** \n",
    "\n",
    "In order to mitigate similarity due to common English words such as \"the\", we apply a filter as follows:\n",
    "\n",
    "1. Remove all `Stop` words as defined in `Scikit-learn`\n",
    "* https://scikit-learn.org/stable/modules/feature_extraction.html#nqy18\n",
    "\n",
    "2. Remove all white spaces and `\\n` characters\n",
    "\n",
    "\n",
    "3. Apply a scaled version of word frequency count as implemented in `TfidfTransformer` in `Scikit-learn`: \n",
    "* https://scikit-learn.org/stable/modules/generated/sklearn.feature_extraction.text.TfidfTransformer.html#sklearn.feature_extraction.text.TfidfTransformer\n",
    "\n",
    "The cell blocks below show our data processing pipeline."
   ]
  },
  {
   "cell_type": "code",
   "execution_count": null,
   "id": "2006ced2",
   "metadata": {},
   "outputs": [],
   "source": [
    "import os\n",
    "\n",
    "base_path = '../wikispeedia/plaintext_articles'\n",
    "articles = os.listdir(base_path)\n",
    "# sort the article names in alphabetical order. This is not strictly required\n",
    "articles = sorted(articles)\n",
    "\n",
    "def remove_duplicates_and_fix_names(articles: list):\n",
    "    \"\"\"this function parses all the articles provided in the plaintext folder and stores the\n",
    "       names of all the articles after \"cleaning\" them (some articles containing accents have encoded names).\n",
    "       The raw text from the files are also stored in a list after removing white spaces and empty lines.\"\"\"\n",
    "    \n",
    "    def parse_text(article: str) -> str:\n",
    "        \"\"\"this helper function reads a raw text file and removes white spaces and empty lines.\"\"\"\n",
    "        with open(os.path.join(base_path, article)) as f:\n",
    "            # remove white spaces\n",
    "            raw_text = [line.rstrip() for line in f.readlines()]\n",
    "            # remove empty lines\n",
    "            raw_text = [line.strip() for line in raw_text if line != '']\n",
    "\n",
    "            return str(raw_text)\n",
    "    \n",
    "    # some article names have errors - fix these\n",
    "    article_names_cleaned, texts = [], []\n",
    "    \n",
    "    for article in articles:\n",
    "        # the \"%\" character indicates an encoded name\n",
    "        if \"%\" not in article:\n",
    "            # store the article name\n",
    "            article_names_cleaned.append(article)\n",
    "            # store the raw text from the article\n",
    "            texts.append(parse_text(article))\n",
    "            \n",
    "        else:\n",
    "            with open(os.path.join(base_path, article), 'r') as f:\n",
    "                # extract the correct name. It is always on the 3rd line of the article\n",
    "                correct_name = f.readlines()[2].replace('\\n', '')\n",
    "                # store the article name\n",
    "                article_names_cleaned.append(correct_name)\n",
    "                # store the raw text from the article\n",
    "                texts.append(parse_text(article))\n",
    "                    \n",
    "    \n",
    "    # remove \".txt\" from the article names\n",
    "    article_names_cleaned = [article.replace('.txt', '') for article in article_names_cleaned]\n",
    "    # remove list bracket from string casting of raw text\n",
    "    texts = [text.replace('[', '') for text in texts]\n",
    "    \n",
    "    return article_names_cleaned, texts\n",
    "\n",
    "article_names_cleaned, texts = remove_duplicates_and_fix_names(articles)"
   ]
  },
  {
   "cell_type": "code",
   "execution_count": null,
   "id": "e1761d1c",
   "metadata": {},
   "outputs": [],
   "source": [
    "# count word frequency using sklearn out-of-the-box functions\n",
    "from sklearn.feature_extraction.text import CountVectorizer, TfidfVectorizer\n",
    "import pandas as pd\n",
    "import numpy as np\n",
    "\n",
    "# remove common stop words\n",
    "tfid_vectorizer = TfidfVectorizer(stop_words='english')\n",
    "# apply CountVectorizer and TfidfTransform sequentially\n",
    "matrix = tfid_vectorizer.fit_transform(texts)\n",
    "matrix = matrix.todense()\n",
    "\n",
    "# by default, \"TfidfVectorizer\" uses l2 norm and thus, to obtain the Cosine Similarity,\n",
    "# we simply perform a dot product of the matrix\n",
    "cosine_sim = pd.DataFrame(np.dot(np.array(matrix), np.array(matrix).T), columns=article_names_cleaned)\n",
    "# assign the index names also as the article names. This is used for easy querying pairs of articles\n",
    "cosine_sim.index = article_names_cleaned        \n",
    "cosine_sim"
   ]
  },
  {
   "cell_type": "code",
   "execution_count": null,
   "id": "17382774",
   "metadata": {},
   "outputs": [],
   "source": [
    "# save the Cosine Similarity matrix so we do not have to re-compute it every time\n",
    "np.save('cosine_similarity.npz', np.array(cosine_sim))"
   ]
  },
  {
   "cell_type": "code",
   "execution_count": null,
   "id": "823e89f3",
   "metadata": {},
   "outputs": [],
   "source": [
    "import matplotlib.pyplot as plt\n",
    "\n",
    "# let's take a look at the Cosine Similarity distribution of the most similar article to a given article\n",
    "most_similar = []\n",
    "for idx in range(len(cosine_sim)):\n",
    "    # index [-2] because index [-1] is always = 1 since it is a self similarity\n",
    "    most_similar.append(sorted(cosine_sim.iloc[idx])[-2])\n",
    "    \n",
    "# plot the similarities\n",
    "pd.Series(most_similar).plot(kind='hist', edgecolor='k')\n",
    "plt.title(\"Cosine Similarity Distribution of Most Similar Articles\")\n",
    "plt.xlabel(\"Cosine Similarity\"); plt.ylabel(\"Absolute Counts\")\n",
    "\n",
    "# there are no glaring red flags, e.g., most Cosine Similarities close to 0 or 1"
   ]
  },
  {
   "cell_type": "code",
   "execution_count": null,
   "id": "6972365d",
   "metadata": {},
   "outputs": [],
   "source": [
    "# show a few concrete examples and see if our metric makes empirical sense\n",
    "cosine_sim['Ukraine'].sort_values()\n",
    "\n",
    "# results look reasonable"
   ]
  },
  {
   "cell_type": "code",
   "execution_count": null,
   "id": "23c6a9af",
   "metadata": {},
   "outputs": [],
   "source": [
    "cosine_sim['Zinc'].sort_values()\n",
    "# results also look reasonable"
   ]
  },
  {
   "cell_type": "code",
   "execution_count": null,
   "id": "87c8277d",
   "metadata": {},
   "outputs": [],
   "source": [
    "# \"Cygni\" are star systems/extrasolar planets and thus are expected to be similar\n",
    "# the time periods have some similarity\n",
    "sns.clustermap(cosine_sim.iloc[10:20, 10:20])"
   ]
  },
  {
   "cell_type": "code",
   "execution_count": null,
   "id": "40d91994",
   "metadata": {},
   "outputs": [],
   "source": [
    "# \"Cancri\" are exoplanets and thus are expected to be similar\n",
    "# we again see similarity between time periods\n",
    "sns.clustermap(cosine_sim.iloc[50:60, 50:60])"
   ]
  },
  {
   "cell_type": "code",
   "execution_count": null,
   "id": "f8b4e554",
   "metadata": {},
   "outputs": [],
   "source": [
    "# after confirming that the Cosine Similarity method is informative, we next show the function\n",
    "# we will use to extract similarity of articles in a navigation path\n",
    "\n",
    "# first show a hard-coded navigation path for illustration\n",
    "navigation_path = '14th_century;Time;Light;Rainbow'"
   ]
  },
  {
   "cell_type": "code",
   "execution_count": null,
   "id": "c61c0587",
   "metadata": {},
   "outputs": [],
   "source": [
    "def get_path_cosine_similarity(path: str, matrix: pd.DataFrame, method: str='sequential') -> list:\n",
    "    \"\"\"this function takes a navigation path string and returns an array of the Cosine Similarity.\n",
    "       Two methods are supported: 'sequential' (default) which measures the sequential similarity and \n",
    "       'target' which measures the similarity between the current article at the target article.\n",
    "       \n",
    "       Input:\n",
    "       path: navigation path string\n",
    "       matrix: pre-computed Cosine Similarity matrix\n",
    "       method: measurement method (defaults to 'sequential')\n",
    "       \n",
    "       Return:\n",
    "       list: list of similarity measures\n",
    "    \"\"\"\n",
    "    \n",
    "    # there is 1 article that is duplicated in the plaintext folder. Problematically, the duplicated\n",
    "    # article has different names and navigation paths can point to these different names, yet the \n",
    "    # article is the same. This one exception is handled here. In the implementation, we do not have to \n",
    "    # worry about this particular article pointing back to itself as it is not possible\n",
    "    \n",
    "    # navigation paths are separated by \";\"\n",
    "    path = path.split(';')\n",
    "    \n",
    "    # if the path only contains the starting article, return None\n",
    "    if len(path) == 1:\n",
    "        return None\n",
    "    \n",
    "    path_sims = []\n",
    "    \n",
    "    def get_correct_name(query: str, base_path: str='../wikispeedia/plaintext_articles') -> str:\n",
    "        \"\"\"this nested function is called in case a path contains error characters.\n",
    "           Returns the fixed path so it can be used to query the Cosine Similarity matrix.\"\"\"\n",
    "        if '_' in query and '%' not in query:\n",
    "            return query\n",
    "        elif query in ['Podcasting', 'Color', 'Fencing', 'Anemia', 'Quito']:\n",
    "            return query\n",
    "        else:\n",
    "            with open(os.path.join(base_path, f'{query}.txt'), 'r') as f:\n",
    "                out = f.readlines()[2].replace('\\n', '')\n",
    "                return out\n",
    "    \n",
    "    # compute the similarity between sequential nodes\n",
    "    # output list length is N-1\n",
    "    if method == 'sequential':\n",
    "        for idx in range(0, len(path)-1, 1):\n",
    "            try:\n",
    "                path_sims.append(matrix.loc[path[idx]].loc[path[idx+1]])\n",
    "            except Exception:\n",
    "                # either path or both paths could be wrong - just \"fix\" both\n",
    "                # treat the 1 exception due to duplicated file\n",
    "                if get_correct_name(path[idx]) == 'Polish–Muscovite War (1605–1618)':\n",
    "                    sim = float(cosine_sim.loc['Polish–Muscovite War (1605–1618)'].drop_duplicates()[get_correct_name(path[idx+1])])\n",
    "                    path_sims.append(sim)\n",
    "                    \n",
    "                elif get_correct_name(path[idx+1]) == 'Polish–Muscovite War (1605–1618)':\n",
    "                    sim = cosine_sim.loc[get_correct_name(path[idx])].drop_duplicates()['Polish–Muscovite War (1605–1618)']\n",
    "                    path_sims.append(sim)\n",
    "                    \n",
    "                else:\n",
    "                    path_sims.append(matrix.loc[get_correct_name(path[idx])].loc[get_correct_name(path[idx+1])])\n",
    "\n",
    "                    \n",
    "    # compute the similarity between the current node and the target node\n",
    "    # output list length is N\n",
    "    elif method == 'target':\n",
    "        for idx in range(0, len(path), 1):\n",
    "            try:\n",
    "                path_sims.append(matrix.loc[path[idx]].loc[path[-1]])\n",
    "            except Exception:\n",
    "                # either path or both paths could be wrong - just \"fix\" both\n",
    "                # treat the 1 exception due to duplicated file\n",
    "                if get_correct_name(path[idx]) == 'Polish–Muscovite War (1605–1618)':\n",
    "                    sim = cosine_sim.loc['Polish–Muscovite War (1605–1618)'].drop_duplicates()[get_correct_name(path[-1])]\n",
    "                    path_sims.append(sim)\n",
    "                    \n",
    "                elif get_correct_name(path[-1]) == 'Polish–Muscovite War (1605–1618)':\n",
    "                    sim = float(cosine_sim.loc[get_correct_name(path[idx])].drop_duplicates()['Polish–Muscovite War (1605–1618)'])\n",
    "                    path_sims.append(sim)\n",
    "                    \n",
    "                else:\n",
    "                    path_sims.append(matrix.loc[get_correct_name(path[idx])].loc[get_correct_name(path[-1])])\n",
    "    \n",
    "    else:\n",
    "        raise ValueError('Unsupported similarity method: choose from \"sequential\" or \"target\".')\n",
    "        \n",
    "    return path_sims"
   ]
  },
  {
   "cell_type": "code",
   "execution_count": null,
   "id": "6e5fa59b",
   "metadata": {},
   "outputs": [],
   "source": [
    "# print the navigation path for reference\n",
    "print(navigation_path.split(';'))\n",
    "\n",
    "# show the \"sequential\" method\n",
    "sequential_sims = get_path_cosine_similarity(path=navigation_path,\n",
    "                                             matrix=cosine_sim,\n",
    "                                             method='sequential')\n",
    "# intepreted as:\n",
    "# sim(14th_century, Time) = 0.031\n",
    "# sim(Time, Light) = 0.147\n",
    "# sim(Light, Rainbow) = 0.158\n",
    "# the similarity list is always N-1 in length, N = # nodes\n",
    "sequential_sims"
   ]
  },
  {
   "cell_type": "code",
   "execution_count": null,
   "id": "153c2a51",
   "metadata": {},
   "outputs": [],
   "source": [
    "# show the \"target\" method\n",
    "target_sims = get_path_cosine_similarity(path=navigation_path,\n",
    "                                         matrix=cosine_sim,\n",
    "                                         method='target')\n",
    "# intepreted as:\n",
    "# sim(14th_century, Rainbow) = 0.008\n",
    "# sim(Time, Rainbow) = 0.035\n",
    "# sim(Light, Rainbow) = 0.158\n",
    "# sim(Rainbow, Rainbow) = 1 (the path was successful so similarity is 1)\n",
    "# the similarity list is now N in length, N = # nodes\n",
    "\n",
    "# note: paths where the last index != 1 means the path was unsuccessful\n",
    "target_sims"
   ]
  },
  {
   "cell_type": "code",
   "execution_count": null,
   "id": "4ca27a04",
   "metadata": {},
   "outputs": [],
   "source": [
    "# show this for the entire dataset of navigation paths\n",
    "# re-use some DataFrames\n",
    "# we discard navigation paths that \"back track\", as detailed in the first cell of this notebook\n",
    "finished_paths = [path for path in paths_finished_df['path'] if '<' not in path]\n",
    "unfinished_paths = [path for path in paths_unfinished_df['path'] if '<' not in path]"
   ]
  },
  {
   "cell_type": "code",
   "execution_count": null,
   "id": "fc308614",
   "metadata": {},
   "outputs": [],
   "source": [
    "# \"sequential\" similarity\n",
    "finished_paths_seq_sims = [get_path_cosine_similarity(path, matrix=cosine_sim) for path in finished_paths]\n",
    "unfinished_paths_seq_sims = [get_path_cosine_similarity(path, matrix=cosine_sim) for path in unfinished_paths]\n",
    "\n",
    "# \"target\" similarity\n",
    "finished_paths_target_sims = [get_path_cosine_similarity(path, matrix=cosine_sim, method='target') for path in finished_paths]\n",
    "unfinished_paths_target_sims = [get_path_cosine_similarity(path, matrix=cosine_sim, method='target') for path in unfinished_paths]\n"
   ]
  },
  {
   "cell_type": "code",
   "execution_count": null,
   "id": "9f46bb9f",
   "metadata": {},
   "outputs": [],
   "source": [
    "# print an example and check dimensions are what we expect for \"sequential\" similarity\n",
    "print(len(finished_paths) == len(finished_paths_seq_sims))\n",
    "print(f'\\n{finished_paths_seq_sims[0]}')"
   ]
  },
  {
   "cell_type": "code",
   "execution_count": null,
   "id": "3cf7a03f",
   "metadata": {},
   "outputs": [],
   "source": [
    "# next, write a function that returns whether the Cosine similarities in a navigation path are increasing/decreasing\n",
    "def sims_to_bool_path(path: str):\n",
    "    \"\"\"this function takes a navgiation path as input and returns the path with same dimensions\n",
    "       containing Booleans denoting whether the Cosine similarity is increasing\"\"\"\n",
    "    # check if the path is None (occurs if the navigation path was only 1 article, i.e., the user didn't click anything)\n",
    "    if path is None:\n",
    "        return None\n",
    "    # for the purposes of this initial investigation, assume that a path length of 1 is uninformative\n",
    "    # we acknowledge that it may carry meaning,\n",
    "    # for example, we would need to check if it is possible for the user to get to the target article in 1 click\n",
    "    elif len(path) == 1:\n",
    "        return None\n",
    "    \n",
    "    bool_path = []\n",
    "    for idx in range(len(path)-1):\n",
    "        if path[idx+1] > path[idx]:\n",
    "            bool_path.append(True)\n",
    "        else:\n",
    "            bool_path.append(False)\n",
    "    \n",
    "    return bool_path\n",
    "        "
   ]
  },
  {
   "cell_type": "markdown",
   "id": "8af29273",
   "metadata": {},
   "source": [
    "For an initial investigation into `Cosine Similarity based navigation`, check how many successful and unsuccesful paths contain only increasing cosine similarity."
   ]
  },
  {
   "cell_type": "code",
   "execution_count": null,
   "id": "f200e6dd",
   "metadata": {},
   "outputs": [],
   "source": [
    "# show the pipeline for just \"sequential\" cosine similarity, i.e., sequential article nodes\n",
    "\n",
    "# finished paths\n",
    "finished_paths_seq_bool = [sims_to_bool_path(path) for path in finished_paths_seq_sims]\n",
    "# unfinished paths\n",
    "unfinished_paths_seq_bool = [sims_to_bool_path(path) for path in unfinished_paths_seq_sims]\n",
    "\n",
    "# now keep only the ones that are strictly increasing in similarity\n",
    "\n",
    "# this function filters paths that only contain strictly increasing Cosine similarities\n",
    "def filter_strictly_increasing_sims(path_list: list):\n",
    "    out = [path for path in path_list if path is not None]\n",
    "    out = [path for path in out if False not in path]\n",
    "    \n",
    "    return out\n",
    "\n",
    "finished_paths_sim_increasing = filter_strictly_increasing_sims(finished_paths_seq_bool)\n",
    "unfinished_paths_sim_increasing = filter_strictly_increasing_sims(unfinished_paths_seq_bool)"
   ]
  },
  {
   "cell_type": "code",
   "execution_count": null,
   "id": "ffcd7980",
   "metadata": {},
   "outputs": [],
   "source": [
    "print(f'There are a total of {len(finished_paths_seq_bool)} successful navigation paths, of which, {len(finished_paths_sim_increasing)} ({round(len(finished_paths_sim_increasing)/len(finished_paths_seq_bool)*100)}%) have strictly increasing Cosine similarities')\n",
    "\n",
    "print(f'There are a total of {len(unfinished_paths_seq_bool)} unsuccessful navigation paths, of which, {len(unfinished_paths_sim_increasing)} ({round(len(unfinished_paths_sim_increasing)/len(unfinished_paths_seq_bool)*100)}%) have strictly increasing Cosine similarities')"
   ]
  },
  {
   "cell_type": "markdown",
   "id": "a4eb18eb",
   "metadata": {},
   "source": [
    "Based on the initial exploration in the above cell, there is a slight increase in success for paths that have strictly increasing Cosine similarity. Is this significant? This will be a question we investigate and also alternative critera for \"strictly increasing\". For example, what if we consider paths where we allow up to 1 decreasing Cosine similarity?"
   ]
  },
  {
   "cell_type": "markdown",
   "id": "0a213f56",
   "metadata": {},
   "source": [
    "In summary, we have pre-computed a `Bag-of-Words Cosine Similarity` to quantify document similarity and the matrix is saved. Queries to the matrix are O(1). We also have functions in place that compute the Cosine similarity for all navigation paths in the dataset."
   ]
  },
  {
   "cell_type": "markdown",
   "id": "12a5109e",
   "metadata": {},
   "source": [
    "## Graph Topology"
   ]
  },
  {
   "cell_type": "code",
   "execution_count": null,
   "id": "2f67d49b",
   "metadata": {},
   "outputs": [],
   "source": [
    "pd.set_option('mode.chained_assignment', None)\n",
    "\n",
    "def str_url_format(word):\n",
    "    \"\"\"\n",
    "    Article name preprocessing.\n",
    "    \n",
    "    Apply this function any time a new dataframe is loaded.\n",
    "    \"\"\"\n",
    "    return (urllib.parse.unquote(word)\n",
    "            .replace(\"_\", \" \")\n",
    "            .strip()\n",
    "            .lower())\n",
    "    \n",
    "# Graph is defined in file `links.tsv`\n",
    "df_links = (pd.read_csv(\"../wikispeedia/wikispeedia_paths-and-graph/links.tsv\", \n",
    "                        skiprows=12, \n",
    "                        sep=\"\\t\", \n",
    "                        header=None)\n",
    "            .applymap(str_url_format)\n",
    "            .rename(columns={0:\"src\",\n",
    "                             1:\"tgt\"})\n",
    "           )\n",
    "\n",
    "df_links.sample(5)"
   ]
  },
  {
   "cell_type": "code",
   "execution_count": null,
   "id": "4caf9fc4",
   "metadata": {},
   "outputs": [],
   "source": [
    "# describe some general features of the network.\n",
    "\n",
    "print(f\"There are {df_links.shape[0]} edges\")\n",
    "print(f\"connecting {df_links.stack().nunique()} unique nodes in the network.\")\n",
    "print(f\"\\n\\t * {df_links['src'].nunique()} nodes have out-links.\")\n",
    "print(f\"\\t * {df_links['tgt'].nunique()} nodes have in-links.\\n\")\n",
    "\n",
    "print(f\"This means {df_links.stack().nunique() - df_links['src'].nunique()} nodes are dead-ends (no out-links),\")\n",
    "print(f\"and {df_links.stack().nunique() - df_links['tgt'].nunique()} \\\n",
    "nodes can never be reached from any other article (no in-links) ☠️\")"
   ]
  },
  {
   "cell_type": "code",
   "execution_count": null,
   "id": "7327463e",
   "metadata": {},
   "outputs": [],
   "source": [
    "# nodes with no outlink (dead-ends).\n",
    "nodes_no_outlink = (set(df_links.stack()\n",
    "                    .unique())\n",
    "                    .difference(df_links['src']\n",
    "                    .unique()))\n",
    "\n",
    "print(len(nodes_no_outlink))\n",
    "nodes_no_outlink"
   ]
  },
  {
   "cell_type": "code",
   "execution_count": null,
   "id": "435da966",
   "metadata": {},
   "outputs": [],
   "source": [
    "# let's see which articles can't be reached from any other.\n",
    "nodes_no_inlink = list((set(df_links.stack()\n",
    "                        .unique())\n",
    "                        .difference(df_links['tgt']\n",
    "                        .unique())))\n",
    "\n",
    "print(len(nodes_no_inlink))\n",
    "# these nodes can only be visited if they're selected as the starting point.\n",
    "nodes_no_inlink[:5]"
   ]
  },
  {
   "cell_type": "markdown",
   "id": "4de48a23",
   "metadata": {},
   "source": [
    "### Describe each node.\n",
    "* in-degree: How many links point to article A?\n",
    "\n",
    "* out-degree: How many articles can be reached directly from article A?"
   ]
  },
  {
   "cell_type": "code",
   "execution_count": null,
   "id": "80f041d1",
   "metadata": {},
   "outputs": [],
   "source": [
    "freq_out = df_links['src'].value_counts()\n",
    "freq_in = df_links['tgt'].value_counts()\n",
    "\n",
    "degree_freq = (pd.merge(freq_in,\n",
    "                        freq_out, \n",
    "                        left_index=True, \n",
    "                        right_index=True, \n",
    "                        how='outer')\n",
    "               .fillna(0)\n",
    "               .rename(columns={\"src\":\"out\",\n",
    "                                \"tgt\":\"in\"}))\n",
    "\n",
    "degree_freq.head()"
   ]
  },
  {
   "cell_type": "code",
   "execution_count": null,
   "id": "f88f3173",
   "metadata": {},
   "outputs": [],
   "source": [
    "# check the distributions of in- and out-degree.\n",
    "plt.rcParams['font.size'] = 16\n",
    "\n",
    "fig, ax = plt.subplots(3,2,\n",
    "                       figsize=(15,12),\n",
    "                       gridspec_kw={'wspace':0.14})\n",
    "\n",
    "labels = [\"x-y\", \"log(x)-y\", \"log-log\"]\n",
    "for i in range(3):\n",
    "    sns.scatterplot(data = (degree_freq['out']\n",
    "                            .value_counts()), \n",
    "                    ax=ax[i,0], \n",
    "                    color='k', \n",
    "                    label=labels[i])\n",
    "    sns.scatterplot(data = (degree_freq['in']\n",
    "                            .value_counts()), \n",
    "                    ax=ax[i,1], \n",
    "                    color='k', \n",
    "                    label=labels[i])\n",
    "\n",
    "ax[0, 0].set_title(\"out-degree\")\n",
    "ax[0, 1].set_title(\"in-degree\")\n",
    "\n",
    "for i in range(2):\n",
    "    # Set log scale in x for second row plots\n",
    "    ax[1,i].set_xscale('log')\n",
    "    # log-log scale in 3rd row\n",
    "    ax[2,i].set_xscale('log')\n",
    "    ax[2,i].set_yscale('log')\n",
    "    \n",
    "for i in range(3):\n",
    "    ax[i, 0].set_ylabel(\"Frequency\")\n",
    "    ax[i, 1].set_ylabel(\"\")\n",
    "    \n",
    "plt.legend();"
   ]
  },
  {
   "cell_type": "markdown",
   "id": "29b3c38c",
   "metadata": {},
   "source": [
    "## Distributions of in- and out- degree are very different.\n",
    "* in-degree distribution is more power-law-like. The lowest the in-degree, the higher frequency.\n",
    "\n",
    "\n",
    "* out-degree has a more likely value of around 15."
   ]
  },
  {
   "cell_type": "code",
   "execution_count": null,
   "id": "37328841",
   "metadata": {},
   "outputs": [],
   "source": [
    "# now let's see the clicking frequency of articles, in actual paths players took.\n",
    "def split_decode_path(path):\n",
    "    return list(map(\n",
    "        str_url_format, \n",
    "        path.split(\";\")\n",
    "    ))\n",
    "\n",
    "# re-use previously initialized DataFrames for successful and unsuccessful paths\n",
    "# create a \"target\" col\n",
    "# successful paths\n",
    "paths_finished_df[\"target\"] = (paths_finished_df[\"path\"]\n",
    "                              .apply(lambda x: (str_url_format(x)\n",
    "                                                .split(\";\")[-1])))\n",
    "paths_finished_df[\"type\"] = \"win\"\n",
    "\n",
    "\n",
    "# Join dfs to get a full df with all paths\n",
    "df_paths = pd.concat([paths_finished_df,\n",
    "                      paths_unfinished_df])\n",
    "\n",
    "# Get path list\n",
    "df_paths[\"pathl\"] = df_paths[\"path\"].apply(split_decode_path)\n",
    "# Decode target from url\n",
    "df_paths[\"target\"] = df_paths[\"target\"].apply(str_url_format)\n",
    "# Get starting node\n",
    "df_paths[\"start\"] = df_paths[\"pathl\"].apply(lambda x:x[0])\n",
    "\n",
    "df_paths.sample(5)"
   ]
  },
  {
   "cell_type": "code",
   "execution_count": null,
   "id": "a50a9722",
   "metadata": {},
   "outputs": [],
   "source": [
    "# Merge all dfs that count node properties:\n",
    "# in-degree, out-degree, use as start, use as target\n",
    "\n",
    "from itertools import chain\n",
    "degree_connect = (\n",
    "    degree_freq\n",
    "    .merge(\n",
    "        # Count how many times an article was used as target\n",
    "        df_paths[\"target\"].value_counts(),\n",
    "        left_index=True,\n",
    "        right_index=True,\n",
    "        how=\"outer\"\n",
    "    )\n",
    "    .merge(\n",
    "        # Count how many times an article was used as starting point\n",
    "        df_paths[\"start\"].value_counts(), \n",
    "        left_index=True, \n",
    "        right_index=True,\n",
    "        how=\"outer\")\n",
    "    .merge(\n",
    "        # Count how many times an article was clicked\n",
    "        pd.Series(\n",
    "            list(chain(\n",
    "                *df_paths[\"pathl\"].values\n",
    "            )), \n",
    "            name=\"clicks\"\n",
    "        )\n",
    "        .value_counts(), \n",
    "        left_index=True, \n",
    "        right_index=True,\n",
    "        how=\"outer\")\n",
    ")\n",
    "\n",
    "degree_connect"
   ]
  },
  {
   "cell_type": "code",
   "execution_count": null,
   "id": "e362e2fb",
   "metadata": {},
   "outputs": [],
   "source": [
    "# Check correlation of these node-level features.\n",
    "with np.errstate(divide='ignore'):\n",
    "    corr = np.log(degree_connect).corr()\n",
    "\n",
    "    \n",
    "pp = sns.pairplot(degree_connect)\n",
    "\n",
    "for i in range(5):\n",
    "    for j in range(i+1,5):\n",
    "        pp.axes[i,j].clear()\n",
    "        \n",
    "        x = degree_connect.iloc[:,j].mean()\n",
    "        y = degree_connect.iloc[:,i].mean()\n",
    "        pp.axes[i,j].text(x,y,\n",
    "                          f\"{corr.iloc[i,j]:.3f}\", fontsize=24)\n",
    "\n",
    "\n",
    "for ax in pp.axes.flat:\n",
    "    ax.set(xscale=\"log\", yscale=\"log\")"
   ]
  },
  {
   "cell_type": "markdown",
   "id": "c7a5674f",
   "metadata": {},
   "source": [
    "# Curvature. See [1](https://match.pmf.kg.ac.rs/electronic_versions/Match80/n3/match80n3_605-622.pdf), [2](https://arxiv.org/pdf/1605.04662.pdf), and [3](https://arxiv.org/pdf/1811.07825.pdf).\n",
    "\n",
    "## Ricci curvature: Associated with tangent vectors.\n",
    "\n",
    "That is, a direction, so in networks it's assigned to edges (links between articles).\n",
    "\n",
    "- Ricci curvature is weaker (than sectional curvature), but still surprisingly powerful. It measures the growth of volumes and the coupling properties of random walks\n",
    "\n",
    "### Two types of Ricci curvature:\n",
    "\n",
    "- Ollivier:\n",
    "    Transportation distance between two points \n",
    "    Thus considers all possible paths from $x$ to $y$\n",
    "\n",
    "- Forman:\n",
    "    Riemmannian: How fast the volume of distanca ball grows.\n",
    "    In networks: how fast edges spread in different directions -> notion of divergence.\n",
    "        Edges with very negative curvature should play a special role for spreading out\n",
    "        *they might turn out to be key for success in game* TODO: test hypothesis.\n",
    "        \n",
    "   For undirected, unnweighted graphs, Forman-Ricci curvature of edge $e$ is defined:\n",
    "   \n",
    "   $Ric(e) = 4 - deg(\\nu_1) - deg(\\nu_2)$\n",
    "        \n",
    "   - $Ric(e) << 0$      if both vertices have high degree\n",
    "   - $Ric(e) = 0$       if both vertices have degree == 2.\n",
    "   \n",
    "   \n",
    "*Let's stick to Forman-Ricci, for ease of computation and interpretability*\n",
    "Empirically, both definitions highly correlate.\n",
    "        \n",
    "### Directed graphs.\n",
    "\n",
    "Define $F(_\\rightarrow e_\\rightarrow)$ as the curvature related to flow through edge $e$.\n",
    "\n",
    "\\begin{align*}\n",
    "F(_\\rightarrow e_\\rightarrow) &= F(_\\rightarrow e) + F(e_\\rightarrow) \\\\\n",
    "F(_\\rightarrow e_\\rightarrow) &= 2 - in(i) - out(j)\n",
    "\\end{align*}\n",
    "\n",
    "---\n",
    "\n",
    "# For this work:\n",
    "\n",
    "- For edges, we will quantify `flow-through`, i.e. $F(_\\rightarrow e_\\rightarrow)$.\n",
    "- For nodes, we will quantify out-degree. This tells the potential to further connect once the node is reached.\n",
    "\n",
    "---\n",
    "\n",
    "Can we conclude at some point that `successful strategies are those in which a key article is first reached, and then other articles are reached from there?`.\n"
   ]
  },
  {
   "cell_type": "code",
   "execution_count": null,
   "id": "da89c2c2",
   "metadata": {},
   "outputs": [],
   "source": [
    "degree_connect"
   ]
  },
  {
   "cell_type": "code",
   "execution_count": null,
   "id": "513253be",
   "metadata": {},
   "outputs": [],
   "source": [
    "# Let's calculate curvature for each edge in the graph\n",
    "\n",
    "# get in-degree(`in`) and out-degree(`out`)\n",
    "curv_edge = (df_links\n",
    "             .merge((degree_connect[[\"in\"]]\n",
    "                     .rename(columns={\"in\":\"in-degree(src)\"})),\n",
    "                    left_on=\"tgt\", \n",
    "                    right_index=True,\n",
    "                    how=\"outer\")\n",
    "             .merge((degree_connect[[\"out\"]]\n",
    "                     .rename(columns={\"out\":\"out-degree(tgt)\"})),\n",
    "                    left_on=\"src\", \n",
    "                    right_index=True,\n",
    "                    how=\"outer\")\n",
    "            )\n",
    "\n",
    "# Calculate curvature\n",
    "curv_edge[\"curvature\"] = 2 - curv_edge[\"in-degree(src)\"] - curv_edge[\"out-degree(tgt)\"]\n",
    "\n",
    "curv_edge.sample(5)"
   ]
  },
  {
   "cell_type": "code",
   "execution_count": null,
   "id": "d1c85852",
   "metadata": {},
   "outputs": [],
   "source": [
    "fig, ax = plt.subplots(1,2,figsize=(15, 4))\n",
    "\n",
    "sns.histplot(data=curv_edge, \n",
    "             x=\"curvature\", \n",
    "             bins=200, \n",
    "             ax=ax[0], \n",
    "             kde=True)\n",
    "\n",
    "sns.histplot(data=degree_connect.query(\"out!=0\"), \n",
    "             x=\"out\", \n",
    "             bins=200, \n",
    "             ax=ax[1], \n",
    "             log_scale=True)\n",
    "\n",
    "ax[0].set_xlabel(\"Edge curvature\")\n",
    "ax[1].set_xlabel(\"Node out-degree\")"
   ]
  },
  {
   "cell_type": "markdown",
   "id": "16c9fe43",
   "metadata": {},
   "source": [
    "# Interesting.\n",
    "\n",
    "The distribution of edge curvature seems to be centered around certain values. \n",
    "- Why? \n",
    "- How are they different? \n",
    "- Does this have any relationship with semantics?\n",
    "\n",
    "# Let's see if paths taken by people provide some insight."
   ]
  },
  {
   "cell_type": "code",
   "execution_count": null,
   "id": "56c906b8",
   "metadata": {},
   "outputs": [],
   "source": [
    "# First get, for every path, a sequence of nodes.\n",
    "\n",
    "# TODO: Think abt what to do with paths containing `<`\n",
    "\n",
    "# For convenience, let's drop them for now\n",
    "df_paths_clean = (df_paths[df_paths[\"path\"]\n",
    "                           .apply(lambda x: '<' not in x)])\n",
    "\n",
    "def list_nodes(pathl):\n",
    "    return [\n",
    "        [pathl[i],pathl[i+1]]\n",
    "        for i in range(len(pathl)-1)\n",
    "    ]\n",
    "    \n",
    "# Array to index edge -> curvature \n",
    "indx_curva = (curv_edge\n",
    "              .set_index([\"src\", \"tgt\"])\n",
    "              .loc[:,\"curvature\"])\n",
    "def path_curvature(row):\n",
    "    try:\n",
    "        return (indx_curva\n",
    "                .loc[row[\"edgel\"]]\n",
    "                .values)\n",
    "    except:\n",
    "        return []\n",
    "\n",
    "df_paths_clean[\"edgel\"] = df_paths_clean[\"pathl\"].apply(list_nodes)\n",
    "df_paths_clean[\"path_curv\"] = df_paths_clean.apply(path_curvature, axis=1)\n",
    "\n",
    "df_paths_clean.head()"
   ]
  },
  {
   "cell_type": "code",
   "execution_count": null,
   "id": "42c95ebb",
   "metadata": {},
   "outputs": [],
   "source": [
    "print(df_paths_clean.shape)\n",
    "df_paths_clean = df_paths_clean[df_paths_clean[\"path_curv\"].apply(len) > 0]\n",
    "print(df_paths_clean.shape)"
   ]
  },
  {
   "cell_type": "code",
   "execution_count": null,
   "id": "06756381",
   "metadata": {},
   "outputs": [],
   "source": [
    "# plot some paths\n",
    "\n",
    "# create columns of x values (normalized between 0 and 1)\n",
    "def x_values_01(path_curv):\n",
    "    return np.linspace(0,1, len(path_curv))\n",
    "    \n",
    "df_paths_clean['x_coord'] = (df_paths_clean['path_curv']\n",
    "                             .apply(x_values_01))\n",
    "\n",
    "#sns.lineplot(df_paths_clean['path_curv'].iloc[4])"
   ]
  },
  {
   "cell_type": "code",
   "execution_count": null,
   "id": "cd01d512",
   "metadata": {},
   "outputs": [],
   "source": [
    "fig, ax = plt.subplots(figsize=(15,5))\n",
    "\n",
    "M = 500\n",
    "\n",
    "for i in np.random.permutation(df_paths_clean.shape[0])[:M]:\n",
    "    if df_paths_clean.iloc[i][\"type\"] == \"win\":\n",
    "        color='r'\n",
    "    else:\n",
    "        color='k'\n",
    "    sns.lineplot(data = np.abs(df_paths_clean.iloc[i][['x_coord','path_curv']]), \n",
    "                 x=\"x_coord\", y=\"path_curv\", ax=ax,color=color, alpha=0.2)\n",
    "    \n",
    "ax.set_yscale('log')"
   ]
  },
  {
   "cell_type": "markdown",
   "id": "dbe87649",
   "metadata": {},
   "source": [
    "# Idea:\n",
    "\n",
    "Analyze paths by measuring the curvature of the nodes it goes through.\n",
    "\n",
    "- Do successful paths tend to go through highly connected nodes? (we can test this statistically!)\n",
    "\n",
    "- Can we come up with a different classification? (based on how curvature plot looks like).\n",
    "\n",
    "TODO: Normalize x axis from 0 to 1, plot a few paths.\n",
    "\n",
    "---\n",
    "\n",
    "### Some articles are set as target, but are not in the graph:\n",
    "Sources are: \n",
    "- misspelling (Adolf/Adolph) (Bogota/Bogotá)\n",
    "- they are just not in the graph\n",
    "\n",
    "### <font color=\"red\"> This happens only rarely, so we'll remove these cases. </font>"
   ]
  },
  {
   "cell_type": "code",
   "execution_count": null,
   "id": "82a44356",
   "metadata": {},
   "outputs": [],
   "source": [
    "degree_connect[degree_connect[[\"in\",\"out\"]].isna().any(axis=1)]"
   ]
  }
 ],
 "metadata": {
  "kernelspec": {
   "display_name": "Python 3 (ipykernel)",
   "language": "python",
   "name": "python3"
  },
  "language_info": {
   "codemirror_mode": {
    "name": "ipython",
    "version": 3
   },
   "file_extension": ".py",
   "mimetype": "text/x-python",
   "name": "python",
   "nbconvert_exporter": "python",
   "pygments_lexer": "ipython3",
   "version": "3.10.6"
  }
 },
 "nbformat": 4,
 "nbformat_minor": 5
}
