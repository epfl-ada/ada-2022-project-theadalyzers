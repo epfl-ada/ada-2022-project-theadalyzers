{
 "cells": [
  {
   "cell_type": "markdown",
   "id": "9d9bffb7",
   "metadata": {},
   "source": [
    "## `Wikispeedia` Data Exploration and Processing\n",
    "\n",
    "This `Jupyter notebook` contains the code and rationale behind the data processing we have done. It is split into 3 sections:\n",
    "\n",
    "1. Extracting hyperlinks in image captions and their position in an article\n",
    "2. Measuring document similarity between Wikipedia articles\n",
    "3. Exploring the graph topology of navigation paths\n",
    "\n",
    "**Note:** One important change we make to the dataset is we do not consider navigation paths where the participant \"back tracks\". `Doing so removes exactly 8995/51318 successful paths and 5201/24875 unsuccessful paths.` While a considerable amount, the action of \"back tracking\" adds complexity to our document similarity and graph topology analyses. For example, we would need a method to handle measures of document similarity if a user \"back tracks\" and thus visits two out-links from the parent article; do we track both similarities? In our graph topology analysis, how do we handle the \"flow\" of hyperlinks when one can move backwards? By removing these navigation paths, we form a `Matched Study` such that our analysis holds for all `Unidirectional Navigation Paths` (not necessarily linear if there exists paths where a user navigates back to a previous article)."
   ]
  },
  {
   "cell_type": "markdown",
   "id": "78bd4d83",
   "metadata": {},
   "source": [
    "### 1. Extracting hyperlinks in image captions and their position in an article"
   ]
  },
  {
   "cell_type": "code",
   "execution_count": 2,
   "id": "d60d2eb8",
   "metadata": {},
   "outputs": [],
   "source": [
    "import os\n",
    "import sys\n",
    "import pandas as pd\n",
    "import numpy as np\n",
    "import matplotlib.pyplot as plt\n",
    "import urllib.parse"
   ]
  },
  {
   "cell_type": "code",
   "execution_count": 3,
   "id": "dd6a6e28",
   "metadata": {
    "scrolled": true
   },
   "outputs": [
    {
     "data": {
      "text/plain": [
       "['r/Royal_Marines.htm',\n",
       " 'r/Recycling.htm',\n",
       " 'r/Retreat_of_glaciers_since_1850.htm']"
      ]
     },
     "execution_count": 3,
     "metadata": {},
     "output_type": "execute_result"
    }
   ],
   "source": [
    "# extract html files\n",
    "wp_path = \"../Wikispeedia/wpcd/wp/\" # change path accordingly\n",
    "# get all sub-directories\n",
    "directories = os.listdir(wp_path)\n",
    "html_list = []\n",
    "for sub_dir in directories:\n",
    "    sub_dir_contents = os.listdir(os.path.join(wp_path, sub_dir))\n",
    "    for file in sub_dir_contents:\n",
    "        if file[-3:]=='htm':\n",
    "            html_list.append(os.path.join(sub_dir, file))\n",
    "            \n",
    "# show some of the extracted html files\n",
    "html_list[:3]"
   ]
  },
  {
   "cell_type": "markdown",
   "id": "d4abdba1",
   "metadata": {},
   "source": [
    "The aim of this specific game strategy analysis is to test whether `Wikispeedia` players have clikability preferences on the basis of the hyperlinks' positioning throughout the article text. \n",
    "\n",
    "In particular, we will:\n",
    "1. find the ordinal number of the paragraph each hyperlink in an article shows up in and divide it by the total number of paragraphs of the article, to determine its relative positioning\n",
    "2. determine if each hyperlink in an article shows up in an image caption.\n",
    "\n",
    "We will then investigate if there is a correlation between the click preferences of hyperlinks based on their position, using proper statistical tests. "
   ]
  },
  {
   "cell_type": "markdown",
   "id": "367618fb",
   "metadata": {},
   "source": [
    "It is therefore essential to extract from the data the number of clicks for each hyperlink."
   ]
  },
  {
   "cell_type": "code",
   "execution_count": 4,
   "id": "eb1a99ab",
   "metadata": {},
   "outputs": [],
   "source": [
    "# read files \n",
    "parent_folder_path='../Wikispeedia/wikispeedia_paths-and-graph/'\n",
    "\n",
    "# create the DataFrames\n",
    "paths_finished_df=pd.read_csv(os.path.join(parent_folder_path, 'paths_finished.tsv'), \n",
    "                              sep='\\t', skiprows=15, header=None, \n",
    "                              names=['hashedIpAddress', 'timestamp', 'durationInSec', 'path', 'rating'])\n",
    "\n",
    "paths_unfinished_df=pd.read_csv(os.path.join(parent_folder_path, 'paths_unfinished.tsv'), \n",
    "                              sep='\\t', skiprows=16, header=None, \n",
    "                              names=['hashedIpAddress', 'timestamp', 'durationInSec', 'path', 'rating'])\n",
    "\n",
    "articles_df=pd.read_csv(os.path.join(parent_folder_path, 'articles.tsv'), \n",
    "                        sep='\\t', skiprows=12, header=None, names=['article'])"
   ]
  },
  {
   "cell_type": "markdown",
   "id": "51b35d62",
   "metadata": {},
   "source": [
    "`paths_finished_df` contains the paths chosen by the participants who successfuly reached the target article."
   ]
  },
  {
   "cell_type": "code",
   "execution_count": 5,
   "id": "d2e72681",
   "metadata": {},
   "outputs": [
    {
     "data": {
      "text/html": [
       "<div>\n",
       "<style scoped>\n",
       "    .dataframe tbody tr th:only-of-type {\n",
       "        vertical-align: middle;\n",
       "    }\n",
       "\n",
       "    .dataframe tbody tr th {\n",
       "        vertical-align: top;\n",
       "    }\n",
       "\n",
       "    .dataframe thead th {\n",
       "        text-align: right;\n",
       "    }\n",
       "</style>\n",
       "<table border=\"1\" class=\"dataframe\">\n",
       "  <thead>\n",
       "    <tr style=\"text-align: right;\">\n",
       "      <th></th>\n",
       "      <th>hashedIpAddress</th>\n",
       "      <th>timestamp</th>\n",
       "      <th>durationInSec</th>\n",
       "      <th>path</th>\n",
       "      <th>rating</th>\n",
       "    </tr>\n",
       "  </thead>\n",
       "  <tbody>\n",
       "    <tr>\n",
       "      <th>0</th>\n",
       "      <td>6a3701d319fc3754</td>\n",
       "      <td>1297740409</td>\n",
       "      <td>166</td>\n",
       "      <td>14th_century;15th_century;16th_century;Pacific...</td>\n",
       "      <td>NaN</td>\n",
       "    </tr>\n",
       "    <tr>\n",
       "      <th>1</th>\n",
       "      <td>3824310e536af032</td>\n",
       "      <td>1344753412</td>\n",
       "      <td>88</td>\n",
       "      <td>14th_century;Europe;Africa;Atlantic_slave_trad...</td>\n",
       "      <td>3.0</td>\n",
       "    </tr>\n",
       "  </tbody>\n",
       "</table>\n",
       "</div>"
      ],
      "text/plain": [
       "    hashedIpAddress   timestamp  durationInSec  \\\n",
       "0  6a3701d319fc3754  1297740409            166   \n",
       "1  3824310e536af032  1344753412             88   \n",
       "\n",
       "                                                path  rating  \n",
       "0  14th_century;15th_century;16th_century;Pacific...     NaN  \n",
       "1  14th_century;Europe;Africa;Atlantic_slave_trad...     3.0  "
      ]
     },
     "execution_count": 5,
     "metadata": {},
     "output_type": "execute_result"
    }
   ],
   "source": [
    "# show a few successful paths\n",
    "paths_finished_df.head(2)"
   ]
  },
  {
   "cell_type": "markdown",
   "id": "d3a47b5f",
   "metadata": {},
   "source": [
    "`paths_unfinished_df` contains the paths chosen by the participants who were were successful in reaching the target article."
   ]
  },
  {
   "cell_type": "code",
   "execution_count": 6,
   "id": "e1279013",
   "metadata": {},
   "outputs": [
    {
     "data": {
      "text/html": [
       "<div>\n",
       "<style scoped>\n",
       "    .dataframe tbody tr th:only-of-type {\n",
       "        vertical-align: middle;\n",
       "    }\n",
       "\n",
       "    .dataframe tbody tr th {\n",
       "        vertical-align: top;\n",
       "    }\n",
       "\n",
       "    .dataframe thead th {\n",
       "        text-align: right;\n",
       "    }\n",
       "</style>\n",
       "<table border=\"1\" class=\"dataframe\">\n",
       "  <thead>\n",
       "    <tr style=\"text-align: right;\">\n",
       "      <th></th>\n",
       "      <th>hashedIpAddress</th>\n",
       "      <th>timestamp</th>\n",
       "      <th>durationInSec</th>\n",
       "      <th>path</th>\n",
       "      <th>rating</th>\n",
       "    </tr>\n",
       "  </thead>\n",
       "  <tbody>\n",
       "    <tr>\n",
       "      <th>2426091a53125110</th>\n",
       "      <td>1297054935</td>\n",
       "      <td>1804</td>\n",
       "      <td>Obi-Wan_Kenobi</td>\n",
       "      <td>Microsoft</td>\n",
       "      <td>timeout</td>\n",
       "    </tr>\n",
       "    <tr>\n",
       "      <th>26141fd878806294</th>\n",
       "      <td>1297055651</td>\n",
       "      <td>1805</td>\n",
       "      <td>Julius_Caesar</td>\n",
       "      <td>Caracas</td>\n",
       "      <td>timeout</td>\n",
       "    </tr>\n",
       "  </tbody>\n",
       "</table>\n",
       "</div>"
      ],
      "text/plain": [
       "                  hashedIpAddress  timestamp   durationInSec       path  \\\n",
       "2426091a53125110       1297054935       1804  Obi-Wan_Kenobi  Microsoft   \n",
       "26141fd878806294       1297055651       1805   Julius_Caesar    Caracas   \n",
       "\n",
       "                   rating  \n",
       "2426091a53125110  timeout  \n",
       "26141fd878806294  timeout  "
      ]
     },
     "execution_count": 6,
     "metadata": {},
     "output_type": "execute_result"
    }
   ],
   "source": [
    "# show a few unsuccessful paths\n",
    "paths_unfinished_df.head(2)"
   ]
  },
  {
   "cell_type": "markdown",
   "id": "00681d55",
   "metadata": {},
   "source": [
    "`articles_df` lists all the clickable articles/links."
   ]
  },
  {
   "cell_type": "code",
   "execution_count": 7,
   "id": "e8d25afe",
   "metadata": {},
   "outputs": [
    {
     "data": {
      "text/html": [
       "<div>\n",
       "<style scoped>\n",
       "    .dataframe tbody tr th:only-of-type {\n",
       "        vertical-align: middle;\n",
       "    }\n",
       "\n",
       "    .dataframe tbody tr th {\n",
       "        vertical-align: top;\n",
       "    }\n",
       "\n",
       "    .dataframe thead th {\n",
       "        text-align: right;\n",
       "    }\n",
       "</style>\n",
       "<table border=\"1\" class=\"dataframe\">\n",
       "  <thead>\n",
       "    <tr style=\"text-align: right;\">\n",
       "      <th></th>\n",
       "      <th>article</th>\n",
       "    </tr>\n",
       "  </thead>\n",
       "  <tbody>\n",
       "    <tr>\n",
       "      <th>0</th>\n",
       "      <td>áedánmacgabráin</td>\n",
       "    </tr>\n",
       "    <tr>\n",
       "      <th>1</th>\n",
       "      <td>åland</td>\n",
       "    </tr>\n",
       "  </tbody>\n",
       "</table>\n",
       "</div>"
      ],
      "text/plain": [
       "           article\n",
       "0  áedánmacgabráin\n",
       "1            åland"
      ]
     },
     "execution_count": 7,
     "metadata": {},
     "output_type": "execute_result"
    }
   ],
   "source": [
    "# encode and filter link names\n",
    "def filter_link_list(links_list):\n",
    "    new_links_list=[]\n",
    "    \n",
    "    for link in links_list:\n",
    "        link=urllib.parse.unquote(link).lower().replace('_', '').strip()\n",
    "        new_links_list.append(link)\n",
    "        \n",
    "    return new_links_list\n",
    "\n",
    "articles_df.article=filter_link_list(articles_df.article)\n",
    "articles_df.head(2)"
   ]
  },
  {
   "cell_type": "code",
   "execution_count": 8,
   "id": "f7948037",
   "metadata": {},
   "outputs": [
    {
     "name": "stdout",
     "output_type": "stream",
     "text": [
      "The total number of articles comprising the Wikispeedia library is 4604.\n"
     ]
    }
   ],
   "source": [
    "print(f'The total number of articles comprising the Wikispeedia library is {len(articles_df)}.')"
   ]
  },
  {
   "cell_type": "markdown",
   "id": "4873d8f9",
   "metadata": {},
   "source": [
    "create `clicked_links_filtered` containing all clicked link on navigation paths."
   ]
  },
  {
   "cell_type": "code",
   "execution_count": 9,
   "id": "c973fe98",
   "metadata": {
    "scrolled": true
   },
   "outputs": [
    {
     "data": {
      "text/plain": [
       "[['14thcentury',\n",
       "  '15thcentury',\n",
       "  '16thcentury',\n",
       "  'pacificocean',\n",
       "  'atlanticocean',\n",
       "  'accra',\n",
       "  'africa',\n",
       "  'atlanticslavetrade',\n",
       "  'africanslavetrade'],\n",
       " ['14thcentury',\n",
       "  'europe',\n",
       "  'africa',\n",
       "  'atlanticslavetrade',\n",
       "  'africanslavetrade']]"
      ]
     },
     "execution_count": 9,
     "metadata": {},
     "output_type": "execute_result"
    }
   ],
   "source": [
    "clicked_links=[path.split(';') for path in paths_finished_df['path']]\n",
    "\n",
    "clicked_links_filtered=[] # consistent with other dfs\n",
    "for path in clicked_links:\n",
    "    # remove navigation paths that \"back track\"\n",
    "    if '<' in path:\n",
    "        continue\n",
    "    else:\n",
    "        path_filtered=filter_link_list(path)\n",
    "        clicked_links_filtered.append(path_filtered)\n",
    "\n",
    "clicked_links_filtered[:2]"
   ]
  },
  {
   "cell_type": "markdown",
   "id": "c831f4d7",
   "metadata": {},
   "source": [
    "`links_freq_df` contains the links' frequency of clicks."
   ]
  },
  {
   "cell_type": "code",
   "execution_count": 10,
   "id": "7fdf6dc5",
   "metadata": {},
   "outputs": [
    {
     "data": {
      "text/html": [
       "<div>\n",
       "<style scoped>\n",
       "    .dataframe tbody tr th:only-of-type {\n",
       "        vertical-align: middle;\n",
       "    }\n",
       "\n",
       "    .dataframe tbody tr th {\n",
       "        vertical-align: top;\n",
       "    }\n",
       "\n",
       "    .dataframe thead th {\n",
       "        text-align: right;\n",
       "    }\n",
       "</style>\n",
       "<table border=\"1\" class=\"dataframe\">\n",
       "  <thead>\n",
       "    <tr style=\"text-align: right;\">\n",
       "      <th></th>\n",
       "      <th>link</th>\n",
       "      <th>#_clicks</th>\n",
       "    </tr>\n",
       "  </thead>\n",
       "  <tbody>\n",
       "    <tr>\n",
       "      <th>1</th>\n",
       "      <td>åland</td>\n",
       "      <td>1</td>\n",
       "    </tr>\n",
       "    <tr>\n",
       "      <th>2</th>\n",
       "      <td>édouardmanet</td>\n",
       "      <td>1</td>\n",
       "    </tr>\n",
       "    <tr>\n",
       "      <th>3</th>\n",
       "      <td>éire</td>\n",
       "      <td>1</td>\n",
       "    </tr>\n",
       "    <tr>\n",
       "      <th>6</th>\n",
       "      <td>10thcentury</td>\n",
       "      <td>57</td>\n",
       "    </tr>\n",
       "    <tr>\n",
       "      <th>7</th>\n",
       "      <td>11thcentury</td>\n",
       "      <td>69</td>\n",
       "    </tr>\n",
       "  </tbody>\n",
       "</table>\n",
       "</div>"
      ],
      "text/plain": [
       "           link  #_clicks\n",
       "1         åland         1\n",
       "2  édouardmanet         1\n",
       "3          éire         1\n",
       "6   10thcentury        57\n",
       "7   11thcentury        69"
      ]
     },
     "execution_count": 10,
     "metadata": {},
     "output_type": "execute_result"
    }
   ],
   "source": [
    "links_name=[]\n",
    "links_freq=[]\n",
    "\n",
    "for article in articles_df.article: # count the number of times each article shows up in paths\n",
    "    count=0\n",
    "    links_name.append(article)\n",
    "    for i in range(len(clicked_links_filtered)):\n",
    "        # do not count the first article since that's the start\n",
    "        if article in clicked_links_filtered[i][1:]:\n",
    "            count+=1 \n",
    "    links_freq.append(count)\n",
    "\n",
    "links_name=pd.Series(links_name)\n",
    "links_freq=pd.Series(links_freq)\n",
    "links_freq_df=pd.concat([links_name, links_freq], axis=1, names=['link', '#_clicks'])\n",
    "links_freq_df.columns=['link', '#_clicks']\n",
    "\n",
    "links_freq_df.loc[links_freq_df['#_clicks']!=0].head()"
   ]
  },
  {
   "cell_type": "code",
   "execution_count": 11,
   "id": "0c1a566b",
   "metadata": {},
   "outputs": [
    {
     "name": "stdout",
     "output_type": "stream",
     "text": [
      "The total number of clicked hyperlinks is 199336.\n"
     ]
    }
   ],
   "source": [
    "clicks_tot=links_freq_df['#_clicks'].sum()\n",
    "print(f'The total number of clicked hyperlinks is {clicks_tot}.')"
   ]
  },
  {
   "cell_type": "markdown",
   "id": "efbf2121",
   "metadata": {},
   "source": [
    "Next step of the descriptive analysis process is the HTML files parsing aimed at determining the location of hyperlinks. "
   ]
  },
  {
   "cell_type": "code",
   "execution_count": 12,
   "id": "52aae5e6",
   "metadata": {},
   "outputs": [],
   "source": [
    "# parse html files \n",
    "from bs4 import BeautifulSoup\n",
    "\n",
    "soups=[]\n",
    "failed_html_list = []\n",
    "for html in html_list:\n",
    "    f=open(wp_path+html, 'r')\n",
    "    try:\n",
    "        soup = BeautifulSoup(f, 'lxml')\n",
    "        soups.append(soup)\n",
    "    except Exception:\n",
    "        failed_html_list.append(html)"
   ]
  },
  {
   "cell_type": "code",
   "execution_count": 13,
   "id": "52a9a7bf",
   "metadata": {},
   "outputs": [
    {
     "name": "stdout",
     "output_type": "stream",
     "text": [
      "53 files were not parsable. However, they are not reachable nor it is possible to click any hyperlink in those html pages.\n"
     ]
    }
   ],
   "source": [
    "print(f'{len(failed_html_list)} files were not parsable. However, they are not reachable nor it is possible to click \\\n",
    "any hyperlink in those html pages.')"
   ]
  },
  {
   "cell_type": "markdown",
   "id": "d9df4d68",
   "metadata": {},
   "source": [
    "`link_positioning_dfs` is a list of dataframes (`link_positioning_df`) containing hyperlinks showing up in a given html file and the ordinal number of the paragraph they belong to and their relative positioning throughout the article text. "
   ]
  },
  {
   "cell_type": "code",
   "execution_count": 14,
   "id": "7aafde19",
   "metadata": {},
   "outputs": [],
   "source": [
    "# HTML tag for hyperlinks is <a href= >\n",
    "# the function finds all <a href= > tags throughout the article html file\n",
    "\n",
    "def find_links(soup): \n",
    "    paragraphs = soup.find_all('p') \n",
    "    links=[]\n",
    "\n",
    "    for i, p in enumerate(paragraphs):\n",
    "        i+=1\n",
    "        all_links=p.find_all('a')\n",
    "        for link in all_links:\n",
    "            if 'href' in link.attrs:\n",
    "                link_title=link.text\n",
    "                link_paragraph=i\n",
    "                links.append([link_title, link_paragraph])\n",
    "                \n",
    "    link_positioning_df=pd.DataFrame(links, columns=['link', '#_paragraph']).drop_duplicates()\n",
    "    link_positioning_df['positioning']=round(link_positioning_df['#_paragraph']/len(paragraphs), 2)\n",
    "    link_positioning_df['link']=filter_link_list(link_positioning_df['link'])\n",
    "    return link_positioning_df"
   ]
  },
  {
   "cell_type": "code",
   "execution_count": 15,
   "id": "77510d8e",
   "metadata": {},
   "outputs": [
    {
     "data": {
      "text/plain": [
       "[                              link  #_paragraph  positioning\n",
       " 0                       royal navy            1         0.01\n",
       " 1                   united kingdom            1         0.01\n",
       " 2                         cold war           18         0.19\n",
       " 3                     sierra leone           20         0.21\n",
       " 4                         dartmoor           24         0.25\n",
       " 5                     world war ii           29         0.30\n",
       " 6                         plymouth           34         0.35\n",
       " 7                         scotland           34         0.35\n",
       " 8                        gibraltar           43         0.44\n",
       " 9                             cuba           44         0.45\n",
       " 10               george washington           44         0.45\n",
       " 11                      royal navy           45         0.46\n",
       " 13                      portsmouth           46         0.47\n",
       " 14                        plymouth           46         0.47\n",
       " 15      american revolutionary war           46         0.47\n",
       " 16                 king george iii           46         0.47\n",
       " 17                 napoleonic wars           51         0.53\n",
       " 18                      royal navy           51         0.53\n",
       " 19                      royal navy           52         0.54\n",
       " 20                     crimean war           54         0.56\n",
       " 21                  victoria cross           54         0.56\n",
       " 22                          russia           54         0.56\n",
       " 23                           china           56         0.58\n",
       " 24                  victoria cross           56         0.58\n",
       " 25                 first world war           58         0.60\n",
       " 26                         belgium           58         0.60\n",
       " 27                         antwerp           58         0.60\n",
       " 28                second world war           60         0.62\n",
       " 29                       norwegian           60         0.62\n",
       " 30                      madagascar           60         0.62\n",
       " 31                           rhine           63         0.65\n",
       " 32                           burma           63         0.65\n",
       " 33                         antwerp           63         0.65\n",
       " 34                     netherlands           64         0.66\n",
       " 35                       australia           64         0.66\n",
       " 36                          german           66         0.68\n",
       " 37                     north korea           69         0.71\n",
       " 38                      indonesian           71         0.73\n",
       " 39                northern ireland           72         0.74\n",
       " 40                       argentina           73         0.75\n",
       " 41                         stanley           73         0.75\n",
       " 42                            iraq           74         0.76\n",
       " 43                          kosovo           75         0.77\n",
       " 44                    sierra leone           75         0.77\n",
       " 45                      east timor           75         0.77\n",
       " 46                     afghanistan           77         0.79\n",
       " 47                     afghanistan           78         0.80\n",
       " 48  15th marine expeditionary unit           79         0.81\n",
       " 49                            iraq           79         0.81\n",
       " 50                     afghanistan           80         0.82\n",
       " 51                 king george iii           83         0.86\n",
       " 52                  king george iv           84         0.87\n",
       " 53                       gibraltar           85         0.88\n",
       " 54                      royal navy           88         0.91\n",
       " 55                      royal navy           94         0.97,\n",
       "                 link  #_paragraph  positioning\n",
       " 0             energy            1         0.01\n",
       " 1   waste management            1         0.01\n",
       " 2              glass            2         0.03\n",
       " 3          aluminium            2         0.03\n",
       " 4               iron            2         0.03\n",
       " 5       world war ii            9         0.12\n",
       " 6          computers           37         0.51\n",
       " 7        televisions           38         0.52\n",
       " 8             copper           38         0.52\n",
       " 9               gold           38         0.52\n",
       " 10           cadmium           38         0.52\n",
       " 11             china           39         0.53\n",
       " 12         aluminium           46         0.63\n",
       " 13             india           63         0.86\n",
       " 14          pakistan           63         0.86\n",
       " 15            turkey           63         0.86\n",
       " 16        bangladesh           63         0.86\n",
       " 17           mercury           65         0.89\n",
       " 18              lead           65         0.89\n",
       " 19           arsenic           65         0.89\n",
       " 20          chromium           65         0.89]"
      ]
     },
     "execution_count": 15,
     "metadata": {},
     "output_type": "execute_result"
    }
   ],
   "source": [
    "# apply the function to all html files\n",
    "\n",
    "link_positioning_dfs=[]\n",
    "for soup in soups:\n",
    "    link_positioning_dfs.append(find_links(soup))\n",
    "\n",
    "link_positioning_dfs[:2]"
   ]
  },
  {
   "cell_type": "code",
   "execution_count": 16,
   "id": "2aecdb54",
   "metadata": {},
   "outputs": [
    {
     "data": {
      "text/html": [
       "<div>\n",
       "<style scoped>\n",
       "    .dataframe tbody tr th:only-of-type {\n",
       "        vertical-align: middle;\n",
       "    }\n",
       "\n",
       "    .dataframe tbody tr th {\n",
       "        vertical-align: top;\n",
       "    }\n",
       "\n",
       "    .dataframe thead th {\n",
       "        text-align: right;\n",
       "    }\n",
       "</style>\n",
       "<table border=\"1\" class=\"dataframe\">\n",
       "  <thead>\n",
       "    <tr style=\"text-align: right;\">\n",
       "      <th></th>\n",
       "      <th>link</th>\n",
       "      <th>positioning_x</th>\n",
       "      <th>positioning_y</th>\n",
       "    </tr>\n",
       "  </thead>\n",
       "  <tbody>\n",
       "    <tr>\n",
       "      <th>0</th>\n",
       "      <td>music</td>\n",
       "      <td>0.04</td>\n",
       "      <td>NaN</td>\n",
       "    </tr>\n",
       "    <tr>\n",
       "      <th>1</th>\n",
       "      <td>instrumental</td>\n",
       "      <td>0.04</td>\n",
       "      <td>NaN</td>\n",
       "    </tr>\n",
       "    <tr>\n",
       "      <th>2</th>\n",
       "      <td>renaissance</td>\n",
       "      <td>0.04</td>\n",
       "      <td>NaN</td>\n",
       "    </tr>\n",
       "    <tr>\n",
       "      <th>3</th>\n",
       "      <td>renaissance</td>\n",
       "      <td>0.12</td>\n",
       "      <td>NaN</td>\n",
       "    </tr>\n",
       "    <tr>\n",
       "      <th>4</th>\n",
       "      <td>gregorian chant</td>\n",
       "      <td>0.12</td>\n",
       "      <td>NaN</td>\n",
       "    </tr>\n",
       "  </tbody>\n",
       "</table>\n",
       "</div>"
      ],
      "text/plain": [
       "              link  positioning_x  positioning_y\n",
       "0            music           0.04            NaN\n",
       "1     instrumental           0.04            NaN\n",
       "2      renaissance           0.04            NaN\n",
       "3      renaissance           0.12            NaN\n",
       "4  gregorian chant           0.12            NaN"
      ]
     },
     "execution_count": 16,
     "metadata": {},
     "output_type": "execute_result"
    }
   ],
   "source": [
    "# example with 2 files\n",
    "\n",
    "URL_1 = wp_path+'a/A_cappella.htm'\n",
    "URL_2 = wp_path+'m/Music.htm'\n",
    "\n",
    "f1=open(URL_1, 'r')\n",
    "soup1 = BeautifulSoup(f1, 'lxml')\n",
    "\n",
    "f2=open(URL_2, 'r')\n",
    "soup2 = BeautifulSoup(f2, 'lxml')\n",
    "\n",
    "link_positioning_df_1=find_links(soup1).drop(labels='#_paragraph', axis=1)\n",
    "link_positioning_df_2=find_links(soup2).drop(labels='#_paragraph', axis=1)\n",
    "\n",
    "# merging the 2 dataframes\n",
    "\n",
    "merged_dfs=link_positioning_df_1.merge(link_positioning_df_2, how='outer', left_on='link', right_on='link', )\n",
    "merged_dfs[:5]"
   ]
  },
  {
   "cell_type": "code",
   "execution_count": null,
   "id": "e49bb799",
   "metadata": {},
   "outputs": [],
   "source": [
    "# merge all the link_positioning_df in link_positioning_dfs list by hyperlink in order to apply a function \n",
    "# that determines the \"average\" positioning of the hyperlinks\n",
    "\n",
    "for df in link_positioning_dfs:\n",
    "    try:\n",
    "        df.drop(labels='#_paragraph', axis=1, inplace=True)  # remove not needed column\n",
    "    except:\n",
    "        pass    \n",
    "\n",
    "from functools import reduce # perform multiple merge\n",
    "links_pos_dfs_merged = reduce(lambda left,right: pd.merge(left,right,on=['link'],how='outer'), link_positioning_dfs)\n",
    "links_pos_dfs_merged.head()"
   ]
  },
  {
   "cell_type": "code",
   "execution_count": 17,
   "id": "6d602ad7",
   "metadata": {},
   "outputs": [],
   "source": [
    "# function that determines the most frequent positioning of each hyperlink in the set of all links\n",
    "\n",
    "def find_positioning(array):\n",
    "    bin_labels=['top', 'center', 'bottom'] # positioning is classified as top, center or bottom of the article\n",
    "    bins=[0, 0.33, 0.66, 1] \n",
    "    cut_positioning=pd.cut(array, bins, labels=bin_labels)\n",
    "    positioning_frequency=pd.value_counts(cut_positioning) # frequency of the bins\n",
    "    most=positioning_frequency.apply('max') # bin with highest frequency\n",
    "    if len(positioning_frequency[positioning_frequency==most])>1:\n",
    "        return np.random.choice(positioning_frequency[positioning_frequency==most].index.values.astype(str)) #account for same frequency\n",
    "    else:\n",
    "        return positioning_frequency[positioning_frequency==most].index.values.astype(str).item()"
   ]
  },
  {
   "cell_type": "markdown",
   "id": "f86d10bb",
   "metadata": {},
   "source": [
    "`most_freq_positioning_df` contains the hyperlinks' \"average\" positioning."
   ]
  },
  {
   "cell_type": "code",
   "execution_count": 19,
   "id": "a1bc7e55",
   "metadata": {},
   "outputs": [
    {
     "data": {
      "text/html": [
       "<div>\n",
       "<style scoped>\n",
       "    .dataframe tbody tr th:only-of-type {\n",
       "        vertical-align: middle;\n",
       "    }\n",
       "\n",
       "    .dataframe tbody tr th {\n",
       "        vertical-align: top;\n",
       "    }\n",
       "\n",
       "    .dataframe thead th {\n",
       "        text-align: right;\n",
       "    }\n",
       "</style>\n",
       "<table border=\"1\" class=\"dataframe\">\n",
       "  <thead>\n",
       "    <tr style=\"text-align: right;\">\n",
       "      <th></th>\n",
       "      <th>link</th>\n",
       "      <th>most_freq_positioning</th>\n",
       "    </tr>\n",
       "  </thead>\n",
       "  <tbody>\n",
       "    <tr>\n",
       "      <th>0</th>\n",
       "      <td>aesthetic</td>\n",
       "      <td>top</td>\n",
       "    </tr>\n",
       "    <tr>\n",
       "      <th>1</th>\n",
       "      <td>amish</td>\n",
       "      <td>top</td>\n",
       "    </tr>\n",
       "    <tr>\n",
       "      <th>2</th>\n",
       "      <td>anthropology</td>\n",
       "      <td>bottom</td>\n",
       "    </tr>\n",
       "    <tr>\n",
       "      <th>3</th>\n",
       "      <td>art</td>\n",
       "      <td>top</td>\n",
       "    </tr>\n",
       "    <tr>\n",
       "      <th>4</th>\n",
       "      <td>artistic</td>\n",
       "      <td>top</td>\n",
       "    </tr>\n",
       "    <tr>\n",
       "      <th>5</th>\n",
       "      <td>beatles</td>\n",
       "      <td>bottom</td>\n",
       "    </tr>\n",
       "    <tr>\n",
       "      <th>6</th>\n",
       "      <td>beethoven</td>\n",
       "      <td>top</td>\n",
       "    </tr>\n",
       "    <tr>\n",
       "      <th>7</th>\n",
       "      <td>bluegrass</td>\n",
       "      <td>top</td>\n",
       "    </tr>\n",
       "    <tr>\n",
       "      <th>8</th>\n",
       "      <td>communicative</td>\n",
       "      <td>top</td>\n",
       "    </tr>\n",
       "    <tr>\n",
       "      <th>9</th>\n",
       "      <td>culture</td>\n",
       "      <td>top</td>\n",
       "    </tr>\n",
       "    <tr>\n",
       "      <th>10</th>\n",
       "      <td>eastern orthodox</td>\n",
       "      <td>top</td>\n",
       "    </tr>\n",
       "    <tr>\n",
       "      <th>11</th>\n",
       "      <td>english</td>\n",
       "      <td>bottom</td>\n",
       "    </tr>\n",
       "    <tr>\n",
       "      <th>12</th>\n",
       "      <td>folk music</td>\n",
       "      <td>top</td>\n",
       "    </tr>\n",
       "    <tr>\n",
       "      <th>13</th>\n",
       "      <td>gregorian chant</td>\n",
       "      <td>top</td>\n",
       "    </tr>\n",
       "    <tr>\n",
       "      <th>14</th>\n",
       "      <td>hindi</td>\n",
       "      <td>bottom</td>\n",
       "    </tr>\n",
       "    <tr>\n",
       "      <th>15</th>\n",
       "      <td>india</td>\n",
       "      <td>top</td>\n",
       "    </tr>\n",
       "    <tr>\n",
       "      <th>16</th>\n",
       "      <td>instrumental</td>\n",
       "      <td>top</td>\n",
       "    </tr>\n",
       "    <tr>\n",
       "      <th>17</th>\n",
       "      <td>instruments</td>\n",
       "      <td>top</td>\n",
       "    </tr>\n",
       "    <tr>\n",
       "      <th>18</th>\n",
       "      <td>jazz</td>\n",
       "      <td>top</td>\n",
       "    </tr>\n",
       "    <tr>\n",
       "      <th>19</th>\n",
       "      <td>jewish</td>\n",
       "      <td>top</td>\n",
       "    </tr>\n",
       "    <tr>\n",
       "      <th>20</th>\n",
       "      <td>johann wolfgang goethe</td>\n",
       "      <td>top</td>\n",
       "    </tr>\n",
       "    <tr>\n",
       "      <th>21</th>\n",
       "      <td>language</td>\n",
       "      <td>bottom</td>\n",
       "    </tr>\n",
       "    <tr>\n",
       "      <th>22</th>\n",
       "      <td>ludwig van beethoven</td>\n",
       "      <td>bottom</td>\n",
       "    </tr>\n",
       "    <tr>\n",
       "      <th>23</th>\n",
       "      <td>mathematics</td>\n",
       "      <td>bottom</td>\n",
       "    </tr>\n",
       "    <tr>\n",
       "      <th>24</th>\n",
       "      <td>music</td>\n",
       "      <td>top</td>\n",
       "    </tr>\n",
       "    <tr>\n",
       "      <th>25</th>\n",
       "      <td>painting</td>\n",
       "      <td>top</td>\n",
       "    </tr>\n",
       "    <tr>\n",
       "      <th>26</th>\n",
       "      <td>physics</td>\n",
       "      <td>bottom</td>\n",
       "    </tr>\n",
       "    <tr>\n",
       "      <th>27</th>\n",
       "      <td>propaganda</td>\n",
       "      <td>top</td>\n",
       "    </tr>\n",
       "    <tr>\n",
       "      <th>28</th>\n",
       "      <td>rap</td>\n",
       "      <td>top</td>\n",
       "    </tr>\n",
       "    <tr>\n",
       "      <th>29</th>\n",
       "      <td>religious processions</td>\n",
       "      <td>center</td>\n",
       "    </tr>\n",
       "    <tr>\n",
       "      <th>30</th>\n",
       "      <td>renaissance</td>\n",
       "      <td>top</td>\n",
       "    </tr>\n",
       "    <tr>\n",
       "      <th>31</th>\n",
       "      <td>schizophrenic</td>\n",
       "      <td>bottom</td>\n",
       "    </tr>\n",
       "    <tr>\n",
       "      <th>32</th>\n",
       "      <td>sound</td>\n",
       "      <td>top</td>\n",
       "    </tr>\n",
       "    <tr>\n",
       "      <th>33</th>\n",
       "      <td>sounds</td>\n",
       "      <td>top</td>\n",
       "    </tr>\n",
       "    <tr>\n",
       "      <th>34</th>\n",
       "      <td>stravinsky</td>\n",
       "      <td>top</td>\n",
       "    </tr>\n",
       "    <tr>\n",
       "      <th>35</th>\n",
       "      <td>time</td>\n",
       "      <td>center</td>\n",
       "    </tr>\n",
       "    <tr>\n",
       "      <th>36</th>\n",
       "      <td>university</td>\n",
       "      <td>bottom</td>\n",
       "    </tr>\n",
       "  </tbody>\n",
       "</table>\n",
       "</div>"
      ],
      "text/plain": [
       "                      link most_freq_positioning\n",
       "0                aesthetic                   top\n",
       "1                    amish                   top\n",
       "2             anthropology                bottom\n",
       "3                      art                   top\n",
       "4                 artistic                   top\n",
       "5                  beatles                bottom\n",
       "6                beethoven                   top\n",
       "7                bluegrass                   top\n",
       "8            communicative                   top\n",
       "9                  culture                   top\n",
       "10        eastern orthodox                   top\n",
       "11                 english                bottom\n",
       "12              folk music                   top\n",
       "13         gregorian chant                   top\n",
       "14                   hindi                bottom\n",
       "15                   india                   top\n",
       "16            instrumental                   top\n",
       "17             instruments                   top\n",
       "18                    jazz                   top\n",
       "19                  jewish                   top\n",
       "20  johann wolfgang goethe                   top\n",
       "21                language                bottom\n",
       "22    ludwig van beethoven                bottom\n",
       "23             mathematics                bottom\n",
       "24                   music                   top\n",
       "25                painting                   top\n",
       "26                 physics                bottom\n",
       "27              propaganda                   top\n",
       "28                     rap                   top\n",
       "29   religious processions                center\n",
       "30             renaissance                   top\n",
       "31           schizophrenic                bottom\n",
       "32                   sound                   top\n",
       "33                  sounds                   top\n",
       "34              stravinsky                   top\n",
       "35                    time                center\n",
       "36              university                bottom"
      ]
     },
     "execution_count": 19,
     "metadata": {},
     "output_type": "execute_result"
    }
   ],
   "source": [
    "# example with 2 files\n",
    "\n",
    "most_freq_positioning_2=merged_dfs.groupby(by=merged_dfs['link']).apply(lambda x: find_positioning(np.array(x.values).flatten()))\n",
    "most_freq_positioning_df_2=pd.DataFrame(most_freq_positioning_2, columns=['most_freq_positioning'])\n",
    "most_freq_positioning_df_2=most_freq_positioning_df_2.reset_index()\n",
    "most_freq_positioning_df_2"
   ]
  },
  {
   "cell_type": "code",
   "execution_count": 20,
   "id": "90237f1d",
   "metadata": {},
   "outputs": [
    {
     "ename": "NameError",
     "evalue": "name 'links_pos_dfs_merged' is not defined",
     "output_type": "error",
     "traceback": [
      "\u001b[0;31m---------------------------------------------------------------------------\u001b[0m",
      "\u001b[0;31mNameError\u001b[0m                                 Traceback (most recent call last)",
      "Input \u001b[0;32mIn [20]\u001b[0m, in \u001b[0;36m<cell line: 3>\u001b[0;34m()\u001b[0m\n\u001b[1;32m      1\u001b[0m \u001b[38;5;66;03m# all html files\u001b[39;00m\n\u001b[0;32m----> 3\u001b[0m most_freq_positioning\u001b[38;5;241m=\u001b[39m\u001b[43mlinks_pos_dfs_merged\u001b[49m\u001b[38;5;241m.\u001b[39mset_index(\u001b[38;5;124m\"\u001b[39m\u001b[38;5;124mlink\u001b[39m\u001b[38;5;124m\"\u001b[39m)\u001b[38;5;241m.\u001b[39mgroupby(\u001b[38;5;124m\"\u001b[39m\u001b[38;5;124mlink\u001b[39m\u001b[38;5;124m\"\u001b[39m)\u001b[38;5;241m.\u001b[39mapply(\u001b[38;5;28;01mlambda\u001b[39;00m x: find_positioning(x\u001b[38;5;241m.\u001b[39mvalues\u001b[38;5;241m.\u001b[39mflatten()))\n\u001b[1;32m      4\u001b[0m most_freq_positioning_df\u001b[38;5;241m=\u001b[39mpd\u001b[38;5;241m.\u001b[39mDataFrame(most_freq_positioning, columns\u001b[38;5;241m=\u001b[39m[\u001b[38;5;124m'\u001b[39m\u001b[38;5;124mmost_freq_positioning\u001b[39m\u001b[38;5;124m'\u001b[39m])\n\u001b[1;32m      5\u001b[0m most_freq_positioning_df\n",
      "\u001b[0;31mNameError\u001b[0m: name 'links_pos_dfs_merged' is not defined"
     ]
    }
   ],
   "source": [
    "# all html files\n",
    "\n",
    "most_freq_positioning=links_pos_dfs_merged.set_index(\"link\").groupby(\"link\").apply(lambda x: find_positioning(x.values.flatten()))\n",
    "most_freq_positioning_df=pd.DataFrame(most_freq_positioning, columns=['most_freq_positioning'])\n",
    "most_freq_positioning_df"
   ]
  },
  {
   "cell_type": "markdown",
   "id": "80c66cf4",
   "metadata": {},
   "source": [
    "The dataframe `links_freq_pos` contains both the hyperlinks' most frequent positioning and their number of clicks."
   ]
  },
  {
   "cell_type": "code",
   "execution_count": null,
   "id": "be7d9827",
   "metadata": {},
   "outputs": [],
   "source": [
    "# example with 2 files\n",
    "\n",
    "links_freq_pos_2=links_freq_df.merge(most_freq_positioning_df_2, left_on='link', right_on='link')\n",
    "links_freq_pos_2"
   ]
  },
  {
   "cell_type": "code",
   "execution_count": null,
   "id": "bfd7ae70",
   "metadata": {},
   "outputs": [],
   "source": [
    "# all html files\n",
    "\n",
    "links_freq_pos=links_freq_df.merge(most_freq_positioning_df, left_on='link', right_on='link')\n",
    "links_freq_pos"
   ]
  },
  {
   "cell_type": "markdown",
   "id": "e90b2547",
   "metadata": {},
   "source": [
    "The dataframe `links_freq_pos_grouped_df` groups the hyperlinks click frequency by their positioning."
   ]
  },
  {
   "cell_type": "code",
   "execution_count": null,
   "id": "e3cc99e4",
   "metadata": {},
   "outputs": [],
   "source": [
    "# example with 2 files\n",
    "\n",
    "links_freq_pos_grouped_2=links_freq_pos['#_clicks'].groupby(links_freq_pos['most_freq_positioning']).sum()\n",
    "links_freq_pos_grouped_df_2=pd.DataFrame(links_freq_pos_grouped_2)\n",
    "links_freq_pos_grouped_df_2"
   ]
  },
  {
   "cell_type": "code",
   "execution_count": null,
   "id": "88741b6f",
   "metadata": {},
   "outputs": [],
   "source": [
    "# all html files\n",
    "\n",
    "links_freq_pos_grouped=links_freq_pos['#_clicks'].groupby(links_freq_pos['most_freq_positioning']).sum()\n",
    "links_freq_pos_grouped_df=pd.DataFrame(links_freq_pos_grouped)\n",
    "links_freq_pos_grouped_df"
   ]
  },
  {
   "cell_type": "code",
   "execution_count": null,
   "id": "7761d8e9",
   "metadata": {},
   "outputs": [],
   "source": [
    "# visualization of the Distribution of the clicked hyperlinks' positioning\n",
    "\n",
    "links_freq_pos.sort_values(by='#_clicks', ascending=False, inplace=True)\n",
    "#links_freq_pos=links_freq_pos[:1000] # may be interesting to 1000 most clicked articles \n",
    "#links_freq_pos=links_freq_pos[:-1000] # 1000 least clicked articles \n",
    "\n",
    "ax = links_freq_pos_grouped_df.plot.bar()\n",
    "ax.set_title('Distribution of the clicked hyperlinks positioning')\n",
    "ax.set_xlabel('Positioning')"
   ]
  },
  {
   "cell_type": "code",
   "execution_count": null,
   "id": "58bbeeb7",
   "metadata": {},
   "outputs": [],
   "source": [
    "# plot distribution of hyperlinks in the text"
   ]
  },
  {
   "cell_type": "code",
   "execution_count": null,
   "id": "e71f6103",
   "metadata": {},
   "outputs": [],
   "source": [
    "def find_positioning_dis(array):\n",
    "    bin_labels=['top', 'center', 'bottom']\n",
    "    bins=[0, 0.33, 0.66, 1]\n",
    "    cut_positioning=pd.cut(array, bins, labels=bin_labels)\n",
    "    positioning_frequency=pd.value_counts(cut_positioning)\n",
    "    return positioning_frequency"
   ]
  },
  {
   "cell_type": "code",
   "execution_count": null,
   "id": "0a544db3",
   "metadata": {},
   "outputs": [],
   "source": [
    "positioning_freq=links_pos_dfs_merged.set_index(\"link\").groupby(\"link\").apply(lambda x: find_positioning_dis(x.values.flatten()))\n",
    "positioning_freq_df=pd.DataFrame(positioning_freq, columns=['positioning_freq'])\n",
    "positioning_freq_df.reset_index(level=1, inplace=True)\n",
    "positioning_freq_df.rename(columns={'level_1':'positioning'}, inplace=True)\n",
    "positioning_freq_df.head(20)"
   ]
  },
  {
   "cell_type": "code",
   "execution_count": null,
   "id": "007593bb",
   "metadata": {},
   "outputs": [],
   "source": [
    "positioning_freq_df_grouped=positioning_freq_df.groupby('positioning').sum()\n",
    "positioning_freq_df_grouped\n",
    "#positioning_freq_df_grouped.loc[positioning_freq_df_grouped['positioning_freq']>1]"
   ]
  },
  {
   "cell_type": "code",
   "execution_count": null,
   "id": "8bb2aba1",
   "metadata": {},
   "outputs": [],
   "source": [
    "ax = positioning_freq_df_grouped.plot.bar()\n",
    "ax = links_freq_pos_grouped_df.plot.bar()\n",
    "ax.set_title('Distribution of hyperlinks positioning')\n",
    "ax.set_xlabel('Positioning')"
   ]
  },
  {
   "cell_type": "code",
   "execution_count": null,
   "id": "5ed2e5f4",
   "metadata": {},
   "outputs": [],
   "source": [
    "# code for finding hyperlinks in images' caption"
   ]
  },
  {
   "cell_type": "code",
   "execution_count": null,
   "id": "d527221c",
   "metadata": {},
   "outputs": [],
   "source": [
    "# example with 1 file"
   ]
  },
  {
   "cell_type": "code",
   "execution_count": null,
   "id": "10a372cb",
   "metadata": {},
   "outputs": [],
   "source": [
    "URL = '/Users/ginevralarroux/Desktop/EPFL courses/Applied data analysis/ADA project/data/wpcd/wp/a/Aachen.htm'\n",
    "f2=open(URL, 'r')\n",
    "soup2 = BeautifulSoup(f2, 'lxml')"
   ]
  },
  {
   "cell_type": "code",
   "execution_count": null,
   "id": "7539e68f",
   "metadata": {},
   "outputs": [],
   "source": [
    "# in an HTML file the images can be either find under tables or div tags "
   ]
  },
  {
   "cell_type": "code",
   "execution_count": null,
   "id": "a3978781",
   "metadata": {},
   "outputs": [],
   "source": [
    "# images of hyperlinks in tables' captions\n",
    "\n",
    "def find_link_in_table(soup):\n",
    "    \n",
    "    tables = soup.find_all('table')\n",
    "\n",
    "    links=[]\n",
    "    for table in tables:\n",
    "        if table.find('img'):\n",
    "            all_links=table.find_all('a')\n",
    "            for link in all_links:\n",
    "                if 'class' not in link.attrs:\n",
    "                    link_title=link.text\n",
    "                    links.append(link_title)\n",
    "\n",
    "    if links:\n",
    "        links_in_table_df=pd.DataFrame(links).drop_duplicates()\n",
    "        links_in_table_df.columns=['link']\n",
    "        links_in_table_df=links_in_table_df.apply(filter_article_name) \n",
    "    else: \n",
    "        return None\n",
    "    return links_in_table_df\n",
    "\n",
    "find_link_in_table(soup2)"
   ]
  },
  {
   "cell_type": "code",
   "execution_count": null,
   "id": "55ae0923",
   "metadata": {},
   "outputs": [],
   "source": [
    "links_in_tables=[]\n",
    "for soup in soups:\n",
    "    links_in_tables.append(find_link_in_table(soup))\n",
    "\n",
    "links_in_tables=pd.concat(links_in_tables, axis=0)\n",
    "links_in_tables"
   ]
  },
  {
   "cell_type": "code",
   "execution_count": null,
   "id": "dd2fa97c",
   "metadata": {},
   "outputs": [],
   "source": [
    "# images under div tags\n",
    "def find_links_in_img(soup):\n",
    "    div = soup.find_all('div')\n",
    "\n",
    "    links=[]\n",
    "\n",
    "    for d in div:\n",
    "        if (d.find('a', class_=\"internal\")):\n",
    "            if (d.find('img', class_='thumbimage')):\n",
    "                caption=d.find('div', class_=\"thumbcaption\")\n",
    "                if (caption.find('a')):\n",
    "                    all_links=caption.find_all('a')\n",
    "                    for link in all_links:\n",
    "                        if 'class' not in link.attrs:\n",
    "                            link_title=link.text\n",
    "                            links.append(link_title)\n",
    "    if links:\n",
    "        links_in_image_df=pd.DataFrame(links).drop_duplicates()\n",
    "        links_in_image_df.columns=['link']\n",
    "        links_in_image_df=links_in_image_df.apply(filter_article_name) \n",
    "    else: \n",
    "        return None\n",
    "        links_in_image_df=pd.DataFrame()\n",
    "    return links_in_image_df\n",
    "\n",
    "\n",
    "find_links_in_img(soup2)"
   ]
  },
  {
   "cell_type": "code",
   "execution_count": null,
   "id": "51f9b7f0",
   "metadata": {},
   "outputs": [],
   "source": [
    "find_links_in_img(soups[0])"
   ]
  },
  {
   "cell_type": "code",
   "execution_count": null,
   "id": "41d89127",
   "metadata": {},
   "outputs": [],
   "source": [
    "links_in_images=[]\n",
    "for soup in soups:\n",
    "    #if get_hrefs_pics(soup):\n",
    "    links_in_images.append(find_links_in_img(soup))\n",
    "\n",
    "links_in_images=pd.concat(links_in_images, axis=0)\n",
    "links_in_images"
   ]
  },
  {
   "cell_type": "code",
   "execution_count": null,
   "id": "2d11350e",
   "metadata": {},
   "outputs": [],
   "source": [
    "len(soups)"
   ]
  },
  {
   "cell_type": "code",
   "execution_count": null,
   "id": "de7beaa5",
   "metadata": {
    "scrolled": false
   },
   "outputs": [],
   "source": [
    "# function for all html files\n",
    "\n",
    "def find_links_in_div(soups):\n",
    "    dfs=[]\n",
    "    for soup in soups:\n",
    "        div = soup.find_all('div')\n",
    "        links=[]\n",
    "        for d in div:\n",
    "            if (d.find('a', class_=\"internal\")):\n",
    "                print('yes')\n",
    "                if d.find('div', class_=\"thumbcaption\"):\n",
    "                    print('yes, yes')\n",
    "                    caption=d.find('div', class_=\"thumbcaption\")\n",
    "                    if (caption.find('a')):\n",
    "                        all_links=caption.find_all('a')\n",
    "                        print(all_links)\n",
    "                    \n",
    "                        if len(all_links)>1:\n",
    "                            print(len(all_links))\n",
    "                            for link in all_links:\n",
    "                                if 'class' not in link.attrs:\n",
    "                                \n",
    "                                    link_title=link.text\n",
    "                                    links.append(link_title)\n",
    "                            \n",
    "        if link:\n",
    "            links_in_image_df=pd.DataFrame(links).drop_duplicates()\n",
    "            links_in_image_df.columns=['link_in_image']\n",
    "            links_in_image_df=links_in_image_df.apply(filter_article_name)     \n",
    "    return dfs\n",
    "\n",
    "links_in_image_dfs=find_links_in_div(soups)\n",
    "links_in_image_dfs"
   ]
  },
  {
   "cell_type": "code",
   "execution_count": null,
   "id": "6f2c908e",
   "metadata": {},
   "outputs": [],
   "source": [
    "# code for frequency of clicks for link in images "
   ]
  },
  {
   "cell_type": "code",
   "execution_count": null,
   "id": "bcc958f6",
   "metadata": {},
   "outputs": [],
   "source": [
    "# example with 2 files"
   ]
  },
  {
   "cell_type": "code",
   "execution_count": null,
   "id": "905dae58",
   "metadata": {},
   "outputs": [],
   "source": [
    "links_in_image_dfs=[links_in_image_df, links_in_table_df] #not needed for dataframes of all articles\n",
    "link_in_image_concatenated=pd.concat(links_in_image_dfs, axis=0).reset_index(drop=True).drop_duplicates()\n",
    "link_in_image_concatenated"
   ]
  },
  {
   "cell_type": "code",
   "execution_count": null,
   "id": "1342733c",
   "metadata": {},
   "outputs": [],
   "source": [
    "flag=[]\n",
    "links_freq_img=links_freq_df.copy()\n",
    "\n",
    "for link in links_freq_df['link']:\n",
    "    if link in list(link_in_image_concatenated['link']):\n",
    "        flag.append(1)\n",
    "    else:\n",
    "        flag.append(0)\n",
    "    \n",
    "links_freq_img['in_image']=flag\n",
    "links_freq_img[links_freq_img['in_image']==1]"
   ]
  },
  {
   "cell_type": "code",
   "execution_count": null,
   "id": "1ad62316",
   "metadata": {},
   "outputs": [],
   "source": [
    "links_freq_img_grouped_df=pd.DataFrame(links_freq_img['#_clicks'].groupby(links_freq_img['in_image']).sum())\n",
    "links_freq_img_grouped_df"
   ]
  },
  {
   "cell_type": "code",
   "execution_count": null,
   "id": "986cd676",
   "metadata": {},
   "outputs": [],
   "source": [
    "# visualization of img  \n",
    "\n",
    "ax = links_freq_img_grouped_df.plot.bar()\n",
    "ax.set_title('Distribution of the clicked hyperlinks in images captions')\n",
    "ax.set_xlabel('In image caption')"
   ]
  },
  {
   "cell_type": "code",
   "execution_count": null,
   "id": "5a846196",
   "metadata": {},
   "outputs": [],
   "source": [
    "# assumptions: \n",
    "# we don't know for the hyperlinks that show up both in the article text and in the image caption, \n",
    "# which the player actually clicked \n",
    "# for the hyperlinks which show up multiple times in the article ..."
   ]
  },
  {
   "cell_type": "code",
   "execution_count": null,
   "id": "59738c64",
   "metadata": {},
   "outputs": [],
   "source": []
  }
 ],
 "metadata": {
  "kernelspec": {
   "display_name": "Python 3 (ipykernel)",
   "language": "python",
   "name": "python3"
  },
  "language_info": {
   "codemirror_mode": {
    "name": "ipython",
    "version": 3
   },
   "file_extension": ".py",
   "mimetype": "text/x-python",
   "name": "python",
   "nbconvert_exporter": "python",
   "pygments_lexer": "ipython3",
   "version": "3.10.6"
  }
 },
 "nbformat": 4,
 "nbformat_minor": 5
}
