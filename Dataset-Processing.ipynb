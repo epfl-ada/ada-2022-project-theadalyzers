{
 "cells": [
  {
   "cell_type": "markdown",
   "id": "5933ab57",
   "metadata": {},
   "source": [
    "# Dataset Processing\n",
    "\n",
    "1. Split `successful` and `unsuccessful` paths\n",
    "2. For each human path, find the corresponding `shortest path length` from the `source` article to the `target` article. We make the assumption that `Wikispeedia` games with the same `shortest path length` have the same `difficulty` \n",
    "3. Next, take the human navigation paths with the same `difficulty` and further fix the `human path length`\n",
    "4. Generate a matched dataset where the `successful` and `unsucessful` paths both have the same `shortest path length` **and** `human path length`\n",
    "\n",
    "Use this matched dataset to answer the following question:\n",
    "\n",
    "***When given X number of choices in the same difficulty game, how did successful and unsuccessful players differ in their clicking behaviour?***"
   ]
  },
  {
   "cell_type": "code",
   "execution_count": 1,
   "id": "252b7d4b",
   "metadata": {},
   "outputs": [],
   "source": [
    "import pandas as pd\n",
    "import os\n",
    "\n",
    "parent_folder_path = '../Wikispeedia/wikispeedia_paths-and-graph/'\n",
    "\n",
    "paths_finished_df=(pd.read_csv(os.path.join(parent_folder_path, 'paths_finished.tsv'), \n",
    "                               sep='\\t', skiprows=15, header=None)\n",
    "                   .rename(columns={0:\"ip\",\n",
    "                                    1:\"timestamp\",\n",
    "                                    2:\"duration\",\n",
    "                                    3:\"path\",\n",
    "                                    4:\"rating\"}))\n",
    "\n",
    "paths_unfinished_df=(pd.read_csv(os.path.join(parent_folder_path, 'paths_unfinished.tsv'), \n",
    "                               sep='\\t', skiprows=16, header=None)\n",
    "                     .rename(columns={0:\"ip\",\n",
    "                                      1:\"timestamp\",\n",
    "                                      2:\"duration\",\n",
    "                                      3:\"path\",\n",
    "                                      4:\"target\",\n",
    "                                      5:\"type\"}))"
   ]
  },
  {
   "cell_type": "markdown",
   "id": "1a50f031",
   "metadata": {},
   "source": [
    "## Split `successful` and `unsuccessful` paths. For each path, find the shortest length path from the `source` to the `target`"
   ]
  },
  {
   "cell_type": "code",
   "execution_count": 2,
   "id": "2ca3406e",
   "metadata": {},
   "outputs": [
    {
     "data": {
      "text/plain": [
       "4604"
      ]
     },
     "execution_count": 2,
     "metadata": {},
     "output_type": "execute_result"
    }
   ],
   "source": [
    "# first read the shortest path matrix\n",
    "shortest_path_matrix = []\n",
    "\n",
    "with open('../Wikispeedia/wikispeedia_paths-and-graph/shortest-path-distance-matrix.txt', 'r') as f:\n",
    "    # the first 17 lines (indexed from 0) is the file description \n",
    "    for line in f.readlines()[17:]:\n",
    "        shortest_path_matrix.append(line)\n",
    "        \n",
    "# the matrix now stores all shortest paths from all source articles\n",
    "len(shortest_path_matrix)"
   ]
  },
  {
   "cell_type": "code",
   "execution_count": 3,
   "id": "cd844cc9",
   "metadata": {},
   "outputs": [
    {
     "data": {
      "text/plain": [
       "['Áedán mac Gabráin', 'Åland', 'Édouard Manet']"
      ]
     },
     "execution_count": 3,
     "metadata": {},
     "output_type": "execute_result"
    }
   ],
   "source": [
    "# next, we need a list of all the article names. The order of the articles \n",
    "# is the same as the shortest_path_matrix as per the file descriptions\n",
    "\n",
    "articles = pd.read_csv('../Wikispeedia/wikispeedia_paths-and-graph/articles.tsv', sep='\\t', skiprows=11, header=None)[0]\n",
    "article_names_cleaned = []\n",
    "\n",
    "# NOTE TO GINEVRA:\n",
    "# I need to change the function below to use urlparse\n",
    "\n",
    "# some articles have encoded names. Decode these\n",
    "for article in articles:\n",
    "    # the \"%\" character indicates an encoded name\n",
    "    if \"%\" not in article:\n",
    "        # store the article name\n",
    "        article_names_cleaned.append(article)\n",
    "    else:\n",
    "        with open(os.path.join('../Wikispeedia/plaintext_articles', f'{article}.txt'), 'r') as f:\n",
    "            # extract the correct name. It is always on the 3rd line of the article\n",
    "            correct_name = f.readlines()[2].replace('\\n', '')\n",
    "            # store the article name\n",
    "            article_names_cleaned.append(correct_name)\n",
    "\n",
    "article_names_cleaned[:3]"
   ]
  },
  {
   "cell_type": "code",
   "execution_count": 4,
   "id": "92786cdb",
   "metadata": {},
   "outputs": [],
   "source": [
    "# for each human path, perform the following steps:\n",
    "#      1. extract the source and target article\n",
    "#      2. find the *index* in the article names list that corresponds to the source and target article\n",
    "#      3. the corresponding *index* row in the shortest path matrix corresponds to the source article. \n",
    "#         from this list of numbers, use the target article *index* to find the *shortest path length*\n",
    "\n",
    "def augment_with_shortest_path(df: pd.DataFrame, successful: bool) -> pd.DataFrame:\n",
    "    \"\"\"\n",
    "    this function takes a Series and returns a DataFrame with the following columns:\n",
    "       1. path\n",
    "       2. source article\n",
    "       3. target article\n",
    "       4. shortest path length\n",
    "       \n",
    "    input:\n",
    "       df: the Pandas DataFrame containing all the human navigation paths\n",
    "       successful: a boolean indicating whether the paths were successful or not\n",
    "    \"\"\"\n",
    "    # remove all paths with back-tracks\n",
    "    df = df[~df['path'].str.contains('<')]\n",
    "    \n",
    "    def clean_query_article_name(name: str) -> str:\n",
    "        \"\"\"this helper function takes an encoded article name and returns the cleaned name\"\"\"\n",
    "        if \"%\" in name:\n",
    "            with open(os.path.join('../Wikispeedia/plaintext_articles', f'{name}.txt'), 'r') as f:\n",
    "                # extract the correct name. It is always on the 3rd line of the article\n",
    "                return f.readlines()[2].replace('\\n', '')    \n",
    "        else:\n",
    "            return name\n",
    "        \n",
    "    paths, human_path_lengths, source_articles, target_articles, shortest_paths = [], [], [], [], []\n",
    "    \n",
    "    # all information required for successful paths is in the path itself\n",
    "    if successful:\n",
    "        for human_path in df['path']:\n",
    "            paths.append(human_path)\n",
    "\n",
    "            split_path = human_path.split(';')\n",
    "            # subtract 1 because we do not count the source article\n",
    "            human_path_lengths.append(len(split_path)-1)\n",
    "\n",
    "            source = clean_query_article_name(split_path[0])\n",
    "            target = clean_query_article_name(split_path[-1])\n",
    "            source_articles.append(source)\n",
    "            target_articles.append(target)\n",
    "    \n",
    "    # unsuccessful paths require extraction of the target article from a separate column\n",
    "    else:\n",
    "        for human_path, target in zip(df['path'], df['target']):\n",
    "            paths.append(human_path)\n",
    "            \n",
    "            split_path = human_path.split(';')\n",
    "            # subtract 1 because we do not count the source article\n",
    "            human_path_lengths.append(len(split_path)-1)\n",
    "\n",
    "            source = clean_query_article_name(split_path[0])\n",
    "            source_articles.append(source)\n",
    "            target_articles.append(target)\n",
    "        \n",
    "    for source, target in zip(source_articles, target_articles):\n",
    "        source_index = article_names_cleaned.index(source)\n",
    "        # there are target articles that were not provided in the plain text files\n",
    "        try:\n",
    "            target_index = article_names_cleaned.index(target)\n",
    "        except Exception:\n",
    "            shortest_paths.append(\"N/A\")\n",
    "            continue\n",
    "            \n",
    "        # query the shortest path matrix to get the correct vector (corresponding to the source article)\n",
    "        shortest_path_vector = shortest_path_matrix[source_index]\n",
    "        # now find the target article indexed integer in the vector\n",
    "        shortest = shortest_path_vector[target_index]\n",
    "        # it's not always possible to get to the target article. Impossible navigation is denoted by \"_\"\n",
    "        if shortest == \"_\":\n",
    "            shortest_paths.append(\"Impossible\")\n",
    "        else:\n",
    "            shortest_paths.append(int(shortest))\n",
    "        \n",
    "        \n",
    "    # create the augmented DataFrame\n",
    "    out = pd.DataFrame({\n",
    "                      'path': paths,\n",
    "                      'source_article': source_articles,\n",
    "                      'target_article': target_articles,\n",
    "                      'human_path_length': human_path_lengths,\n",
    "                      'shortest_path_length': shortest_paths\n",
    "                      })\n",
    "    \n",
    "    return out"
   ]
  },
  {
   "cell_type": "code",
   "execution_count": 5,
   "id": "3a803724",
   "metadata": {},
   "outputs": [
    {
     "data": {
      "text/html": [
       "<div>\n",
       "<style scoped>\n",
       "    .dataframe tbody tr th:only-of-type {\n",
       "        vertical-align: middle;\n",
       "    }\n",
       "\n",
       "    .dataframe tbody tr th {\n",
       "        vertical-align: top;\n",
       "    }\n",
       "\n",
       "    .dataframe thead th {\n",
       "        text-align: right;\n",
       "    }\n",
       "</style>\n",
       "<table border=\"1\" class=\"dataframe\">\n",
       "  <thead>\n",
       "    <tr style=\"text-align: right;\">\n",
       "      <th></th>\n",
       "      <th>path</th>\n",
       "      <th>source_article</th>\n",
       "      <th>target_article</th>\n",
       "      <th>human_path_length</th>\n",
       "      <th>shortest_path_length</th>\n",
       "    </tr>\n",
       "  </thead>\n",
       "  <tbody>\n",
       "    <tr>\n",
       "      <th>0</th>\n",
       "      <td>14th_century;15th_century;16th_century;Pacific...</td>\n",
       "      <td>14th_century</td>\n",
       "      <td>African_slave_trade</td>\n",
       "      <td>8</td>\n",
       "      <td>3</td>\n",
       "    </tr>\n",
       "    <tr>\n",
       "      <th>1</th>\n",
       "      <td>14th_century;Europe;Africa;Atlantic_slave_trad...</td>\n",
       "      <td>14th_century</td>\n",
       "      <td>African_slave_trade</td>\n",
       "      <td>4</td>\n",
       "      <td>3</td>\n",
       "    </tr>\n",
       "    <tr>\n",
       "      <th>2</th>\n",
       "      <td>14th_century;Niger;Nigeria;British_Empire;Slav...</td>\n",
       "      <td>14th_century</td>\n",
       "      <td>African_slave_trade</td>\n",
       "      <td>7</td>\n",
       "      <td>3</td>\n",
       "    </tr>\n",
       "  </tbody>\n",
       "</table>\n",
       "</div>"
      ],
      "text/plain": [
       "                                                path source_article  \\\n",
       "0  14th_century;15th_century;16th_century;Pacific...   14th_century   \n",
       "1  14th_century;Europe;Africa;Atlantic_slave_trad...   14th_century   \n",
       "2  14th_century;Niger;Nigeria;British_Empire;Slav...   14th_century   \n",
       "\n",
       "        target_article  human_path_length shortest_path_length  \n",
       "0  African_slave_trade                  8                    3  \n",
       "1  African_slave_trade                  4                    3  \n",
       "2  African_slave_trade                  7                    3  "
      ]
     },
     "execution_count": 5,
     "metadata": {},
     "output_type": "execute_result"
    }
   ],
   "source": [
    "successful_df = augment_with_shortest_path(df=paths_finished_df, successful=True)\n",
    "# to investigate human behaviour, we remove all \"Impossible paths\" and also shortest_path_length = 0\n",
    "successful_df = successful_df[(successful_df['shortest_path_length'].apply(lambda x: x != 'Impossible' and x != 0))]\n",
    "# next, we will keep only shortest_path_lengths >= 3\n",
    "successful_df = successful_df[(successful_df['shortest_path_length'].apply(lambda x: x >= 3))]\n",
    "\n",
    "successful_df.head(3)"
   ]
  },
  {
   "cell_type": "code",
   "execution_count": 6,
   "id": "d34eb3d5",
   "metadata": {},
   "outputs": [
    {
     "data": {
      "text/html": [
       "<div>\n",
       "<style scoped>\n",
       "    .dataframe tbody tr th:only-of-type {\n",
       "        vertical-align: middle;\n",
       "    }\n",
       "\n",
       "    .dataframe tbody tr th {\n",
       "        vertical-align: top;\n",
       "    }\n",
       "\n",
       "    .dataframe thead th {\n",
       "        text-align: right;\n",
       "    }\n",
       "</style>\n",
       "<table border=\"1\" class=\"dataframe\">\n",
       "  <thead>\n",
       "    <tr style=\"text-align: right;\">\n",
       "      <th></th>\n",
       "      <th>path</th>\n",
       "      <th>source_article</th>\n",
       "      <th>target_article</th>\n",
       "      <th>human_path_length</th>\n",
       "      <th>shortest_path_length</th>\n",
       "    </tr>\n",
       "  </thead>\n",
       "  <tbody>\n",
       "    <tr>\n",
       "      <th>5</th>\n",
       "      <td>Agriculture;History_of_the_world;China;Yangtze...</td>\n",
       "      <td>Agriculture</td>\n",
       "      <td>Grand_Canal_of_China</td>\n",
       "      <td>3</td>\n",
       "      <td>3</td>\n",
       "    </tr>\n",
       "    <tr>\n",
       "      <th>6</th>\n",
       "      <td>Mind;Christianity;Europe;Renaissance;Ancient_G...</td>\n",
       "      <td>Mind</td>\n",
       "      <td>Scouting</td>\n",
       "      <td>6</td>\n",
       "      <td>4</td>\n",
       "    </tr>\n",
       "    <tr>\n",
       "      <th>7</th>\n",
       "      <td>4-2-0;United_States;Agriculture;Sugar;Australia</td>\n",
       "      <td>4-2-0</td>\n",
       "      <td>Cane_Toad</td>\n",
       "      <td>4</td>\n",
       "      <td>5</td>\n",
       "    </tr>\n",
       "  </tbody>\n",
       "</table>\n",
       "</div>"
      ],
      "text/plain": [
       "                                                path source_article  \\\n",
       "5  Agriculture;History_of_the_world;China;Yangtze...    Agriculture   \n",
       "6  Mind;Christianity;Europe;Renaissance;Ancient_G...           Mind   \n",
       "7    4-2-0;United_States;Agriculture;Sugar;Australia          4-2-0   \n",
       "\n",
       "         target_article  human_path_length shortest_path_length  \n",
       "5  Grand_Canal_of_China                  3                    3  \n",
       "6              Scouting                  6                    4  \n",
       "7             Cane_Toad                  4                    5  "
      ]
     },
     "execution_count": 6,
     "metadata": {},
     "output_type": "execute_result"
    }
   ],
   "source": [
    "unsuccessful_df = augment_with_shortest_path(df=paths_unfinished_df, successful=False)\n",
    "\n",
    "# some target articles for unsuccessful paths were not provided in the plain_text folder, denoted in\n",
    "# the DataFrame as \"N/A\". Remove these\n",
    "unsuccessful_df = unsuccessful_df[(unsuccessful_df['shortest_path_length'].apply(lambda x: x != 'N/A' and x != 'Impossible'))]\n",
    "# some unsuccesful paths only contain 1 article because the user didn't click anything\n",
    "# these are less meaningful paths to analyze as we are interested in users who tried but failed\n",
    "# we will keep paths where the human clicked at least 3 articles\n",
    "unsuccessful_df = unsuccessful_df[(unsuccessful_df['shortest_path_length'].apply(lambda x: x >= 3))]\n",
    "unsuccessful_df = unsuccessful_df[(unsuccessful_df['human_path_length'].apply(lambda x: x >= 3))]\n",
    "unsuccessful_df.head(3)\n"
   ]
  },
  {
   "cell_type": "code",
   "execution_count": 7,
   "id": "269205ad",
   "metadata": {},
   "outputs": [
    {
     "data": {
      "image/png": "[encoded data removed]",
      "text/plain": [
       "<Figure size 640x480 with 1 Axes>"
      ]
     },
     "metadata": {},
     "output_type": "display_data"
    }
   ],
   "source": [
    "# take a look at the shortest_path distributions\n",
    "import matplotlib.pyplot as plt\n",
    "\n",
    "successful_counts = successful_df['shortest_path_length'].value_counts()\n",
    "successful_counts.plot(kind='bar', edgecolor='k')\n",
    "plt.ylabel('Absolute Counts'); plt.xlabel('Shortest Path');\n",
    "plt.title(\"Successful Human Paths Stratified by Shortest Possible Path\");"
   ]
  },
  {
   "cell_type": "code",
   "execution_count": 8,
   "id": "b5f8f1f6",
   "metadata": {},
   "outputs": [
    {
     "data": {
      "image/png": "[encoded data removed]",
      "text/plain": [
       "<Figure size 640x480 with 1 Axes>"
      ]
     },
     "metadata": {},
     "output_type": "display_data"
    }
   ],
   "source": [
    "unsuccessful_counts = unsuccessful_df['shortest_path_length'].value_counts()\n",
    "unsuccessful_counts.plot(kind='bar', edgecolor='k')\n",
    "plt.ylabel('Absolute Counts'); plt.xlabel('Shortest Path');\n",
    "plt.title(\"Unsuccessful Human Paths Stratified by Shortest Possible Path\");"
   ]
  },
  {
   "cell_type": "markdown",
   "id": "e2cae01f",
   "metadata": {},
   "source": [
    "The majority of `shortest path lengths` is 3 for both successful and unsuccessful paths. For this specific length, let's visualize the distribution of the actual human paths."
   ]
  },
  {
   "cell_type": "code",
   "execution_count": 9,
   "id": "aaefa22c",
   "metadata": {},
   "outputs": [
    {
     "data": {
      "image/png": "[encoded data removed]",
      "text/plain": [
       "<Figure size 640x480 with 1 Axes>"
      ]
     },
     "metadata": {},
     "output_type": "display_data"
    }
   ],
   "source": [
    "successful_human_path_lengths_3 = successful_df[successful_df['shortest_path_length'] == 3]\n",
    "successful_human_path_lengths_3['human_path_length'].value_counts().plot(kind='bar', edgecolor='k')\n",
    "plt.ylabel('Absolute Counts'); plt.xlabel('Human Path Length');\n",
    "plt.title(\"Successful Human Paths Lengths with Shortest Possible Path = 3\");"
   ]
  },
  {
   "cell_type": "code",
   "execution_count": 10,
   "id": "4bb72fda",
   "metadata": {},
   "outputs": [
    {
     "data": {
      "image/png": "[encoded data removed]",
      "text/plain": [
       "<Figure size 640x480 with 1 Axes>"
      ]
     },
     "metadata": {},
     "output_type": "display_data"
    }
   ],
   "source": [
    "unsuccessful_human_path_lengths_3 = unsuccessful_df[unsuccessful_df['shortest_path_length'] == 3]\n",
    "unsuccessful_human_path_lengths_3['human_path_length'].value_counts().plot(kind='bar', edgecolor='k')\n",
    "plt.ylabel('Absolute Counts'); plt.xlabel('Human Path Length');\n",
    "plt.title(\"Unsuccessful Human Paths Lengths with Shortest Possible Path = 3\");"
   ]
  },
  {
   "cell_type": "markdown",
   "id": "75ad3d1c",
   "metadata": {},
   "source": [
    "Given a `shortest path length` of 3, the majority of `human path lengths` are 3, 4, 5 for both successful and unsuccessful paths. Let's filter the corresponding DataFrames to only keep these path lengths. The matched analysis will be done with these lengths."
   ]
  },
  {
   "cell_type": "code",
   "execution_count": 11,
   "id": "4e44aa37",
   "metadata": {},
   "outputs": [
    {
     "data": {
      "text/html": [
       "<div>\n",
       "<style scoped>\n",
       "    .dataframe tbody tr th:only-of-type {\n",
       "        vertical-align: middle;\n",
       "    }\n",
       "\n",
       "    .dataframe tbody tr th {\n",
       "        vertical-align: top;\n",
       "    }\n",
       "\n",
       "    .dataframe thead th {\n",
       "        text-align: right;\n",
       "    }\n",
       "</style>\n",
       "<table border=\"1\" class=\"dataframe\">\n",
       "  <thead>\n",
       "    <tr style=\"text-align: right;\">\n",
       "      <th></th>\n",
       "      <th>path</th>\n",
       "      <th>source_article</th>\n",
       "      <th>target_article</th>\n",
       "      <th>human_path_length</th>\n",
       "      <th>shortest_path_length</th>\n",
       "    </tr>\n",
       "  </thead>\n",
       "  <tbody>\n",
       "    <tr>\n",
       "      <th>1</th>\n",
       "      <td>14th_century;Europe;Africa;Atlantic_slave_trad...</td>\n",
       "      <td>14th_century</td>\n",
       "      <td>African_slave_trade</td>\n",
       "      <td>4</td>\n",
       "      <td>3</td>\n",
       "    </tr>\n",
       "    <tr>\n",
       "      <th>5</th>\n",
       "      <td>14th_century;Europe;North_America;United_State...</td>\n",
       "      <td>14th_century</td>\n",
       "      <td>John_F._Kennedy</td>\n",
       "      <td>5</td>\n",
       "      <td>3</td>\n",
       "    </tr>\n",
       "    <tr>\n",
       "      <th>6</th>\n",
       "      <td>14th_century;China;Gunpowder;Fire</td>\n",
       "      <td>14th_century</td>\n",
       "      <td>Fire</td>\n",
       "      <td>3</td>\n",
       "      <td>3</td>\n",
       "    </tr>\n",
       "  </tbody>\n",
       "</table>\n",
       "</div>"
      ],
      "text/plain": [
       "                                                path source_article  \\\n",
       "1  14th_century;Europe;Africa;Atlantic_slave_trad...   14th_century   \n",
       "5  14th_century;Europe;North_America;United_State...   14th_century   \n",
       "6                  14th_century;China;Gunpowder;Fire   14th_century   \n",
       "\n",
       "        target_article  human_path_length shortest_path_length  \n",
       "1  African_slave_trade                  4                    3  \n",
       "5      John_F._Kennedy                  5                    3  \n",
       "6                 Fire                  3                    3  "
      ]
     },
     "execution_count": 11,
     "metadata": {},
     "output_type": "execute_result"
    }
   ],
   "source": [
    "successful_df = successful_df[(successful_df['shortest_path_length'].apply(lambda x: x == 3))]\n",
    "successful_df = successful_df[(successful_df['human_path_length'].apply(lambda x: 3 <= x <= 5))]\n",
    "successful_df.head(3)"
   ]
  },
  {
   "cell_type": "code",
   "execution_count": 12,
   "id": "5106b48f",
   "metadata": {},
   "outputs": [
    {
     "data": {
      "text/html": [
       "<div>\n",
       "<style scoped>\n",
       "    .dataframe tbody tr th:only-of-type {\n",
       "        vertical-align: middle;\n",
       "    }\n",
       "\n",
       "    .dataframe tbody tr th {\n",
       "        vertical-align: top;\n",
       "    }\n",
       "\n",
       "    .dataframe thead th {\n",
       "        text-align: right;\n",
       "    }\n",
       "</style>\n",
       "<table border=\"1\" class=\"dataframe\">\n",
       "  <thead>\n",
       "    <tr style=\"text-align: right;\">\n",
       "      <th></th>\n",
       "      <th>path</th>\n",
       "      <th>source_article</th>\n",
       "      <th>target_article</th>\n",
       "      <th>human_path_length</th>\n",
       "      <th>shortest_path_length</th>\n",
       "    </tr>\n",
       "  </thead>\n",
       "  <tbody>\n",
       "    <tr>\n",
       "      <th>5</th>\n",
       "      <td>Agriculture;History_of_the_world;China;Yangtze...</td>\n",
       "      <td>Agriculture</td>\n",
       "      <td>Grand_Canal_of_China</td>\n",
       "      <td>3</td>\n",
       "      <td>3</td>\n",
       "    </tr>\n",
       "    <tr>\n",
       "      <th>13</th>\n",
       "      <td>Ape;Asia;Computer;Automobile</td>\n",
       "      <td>Ape</td>\n",
       "      <td>Tin</td>\n",
       "      <td>3</td>\n",
       "      <td>3</td>\n",
       "    </tr>\n",
       "    <tr>\n",
       "      <th>14</th>\n",
       "      <td>Symmetry;Science;Age_of_Enlightenment;Dark_Age...</td>\n",
       "      <td>Symmetry</td>\n",
       "      <td>Scottish_Episcopal_Church</td>\n",
       "      <td>5</td>\n",
       "      <td>3</td>\n",
       "    </tr>\n",
       "  </tbody>\n",
       "</table>\n",
       "</div>"
      ],
      "text/plain": [
       "                                                 path source_article  \\\n",
       "5   Agriculture;History_of_the_world;China;Yangtze...    Agriculture   \n",
       "13                       Ape;Asia;Computer;Automobile            Ape   \n",
       "14  Symmetry;Science;Age_of_Enlightenment;Dark_Age...       Symmetry   \n",
       "\n",
       "               target_article  human_path_length shortest_path_length  \n",
       "5        Grand_Canal_of_China                  3                    3  \n",
       "13                        Tin                  3                    3  \n",
       "14  Scottish_Episcopal_Church                  5                    3  "
      ]
     },
     "execution_count": 12,
     "metadata": {},
     "output_type": "execute_result"
    }
   ],
   "source": [
    "unsuccessful_df = unsuccessful_df[(unsuccessful_df['shortest_path_length'].apply(lambda x: x == 3))]\n",
    "unsuccessful_df = unsuccessful_df[(unsuccessful_df['human_path_length'].apply(lambda x: 3 <= x <= 5))]\n",
    "unsuccessful_df.head(3)"
   ]
  },
  {
   "cell_type": "markdown",
   "id": "500eebef",
   "metadata": {},
   "source": [
    "At this point, we have filtered the successful and unsuccessful DataFrames by the following conditions:\n",
    "\n",
    "1. Shortest path length = 3 --> we hypothesize that all paths have the same \"difficulty\" by enforcing this \n",
    "2. The actual human path lengths are 3,4,5 --> the majority of human paths are within these lengths\n",
    "\n",
    "The next step is to perform matching of datasets. To make this process possible, we first augment both successful and unsuccessful DataFrames with `is_successful` Boolean condition."
   ]
  },
  {
   "cell_type": "code",
   "execution_count": 13,
   "id": "40720f94",
   "metadata": {},
   "outputs": [
    {
     "data": {
      "text/html": [
       "<div>\n",
       "<style scoped>\n",
       "    .dataframe tbody tr th:only-of-type {\n",
       "        vertical-align: middle;\n",
       "    }\n",
       "\n",
       "    .dataframe tbody tr th {\n",
       "        vertical-align: top;\n",
       "    }\n",
       "\n",
       "    .dataframe thead th {\n",
       "        text-align: right;\n",
       "    }\n",
       "</style>\n",
       "<table border=\"1\" class=\"dataframe\">\n",
       "  <thead>\n",
       "    <tr style=\"text-align: right;\">\n",
       "      <th></th>\n",
       "      <th>path</th>\n",
       "      <th>source_article</th>\n",
       "      <th>target_article</th>\n",
       "      <th>human_path_length</th>\n",
       "      <th>shortest_path_length</th>\n",
       "      <th>is_successful</th>\n",
       "    </tr>\n",
       "  </thead>\n",
       "  <tbody>\n",
       "    <tr>\n",
       "      <th>0</th>\n",
       "      <td>14th_century;Europe;Africa;Atlantic_slave_trad...</td>\n",
       "      <td>14th_century</td>\n",
       "      <td>African_slave_trade</td>\n",
       "      <td>4</td>\n",
       "      <td>3</td>\n",
       "      <td>1</td>\n",
       "    </tr>\n",
       "    <tr>\n",
       "      <th>1</th>\n",
       "      <td>14th_century;Europe;North_America;United_State...</td>\n",
       "      <td>14th_century</td>\n",
       "      <td>John_F._Kennedy</td>\n",
       "      <td>5</td>\n",
       "      <td>3</td>\n",
       "      <td>1</td>\n",
       "    </tr>\n",
       "    <tr>\n",
       "      <th>2</th>\n",
       "      <td>14th_century;China;Gunpowder;Fire</td>\n",
       "      <td>14th_century</td>\n",
       "      <td>Fire</td>\n",
       "      <td>3</td>\n",
       "      <td>3</td>\n",
       "      <td>1</td>\n",
       "    </tr>\n",
       "  </tbody>\n",
       "</table>\n",
       "</div>"
      ],
      "text/plain": [
       "                                                path source_article  \\\n",
       "0  14th_century;Europe;Africa;Atlantic_slave_trad...   14th_century   \n",
       "1  14th_century;Europe;North_America;United_State...   14th_century   \n",
       "2                  14th_century;China;Gunpowder;Fire   14th_century   \n",
       "\n",
       "        target_article  human_path_length shortest_path_length  is_successful  \n",
       "0  African_slave_trade                  4                    3              1  \n",
       "1      John_F._Kennedy                  5                    3              1  \n",
       "2                 Fire                  3                    3              1  "
      ]
     },
     "execution_count": 13,
     "metadata": {},
     "output_type": "execute_result"
    }
   ],
   "source": [
    "successful_df['is_successful'] = 1\n",
    "unsuccessful_df['is_successful'] = 0\n",
    "\n",
    "# merge the successful and unsuccessful DataFrames\n",
    "final_df = pd.concat([successful_df, unsuccessful_df])\n",
    "final_df.reset_index(drop=True, inplace=True)\n",
    "\n",
    "final_df.head(3)\n",
    "\n",
    "# next, we perform dataset matching for human path lengths of 3,4,5"
   ]
  },
  {
   "cell_type": "code",
   "execution_count": null,
   "id": "3cd90d14",
   "metadata": {},
   "outputs": [],
   "source": [
    "import networkx as nx\n",
    "\n",
    "# define the treatment and control\n",
    "\n",
    "# NOTE TO GINEVRA:\n",
    "# I was just testing the matching algorithm and the function so the stuff below is not correct\n",
    "# I would split based on my semantic distance conditions and not successful or not\n",
    "\n",
    "treatment_df = final_df[final_df['is_successful'] == 1]\n",
    "control_df = final_df[final_df['is_successful'] == 0]\n",
    "\n",
    "def perform_matching(length: int) -> pd.DataFrame:\n",
    "    \"\"\"this function performs matching of successful and unsuccessful navigation paths\n",
    "       based on a given human path length. Returns the matched DataFrame\"\"\"\n",
    "    \n",
    "    G = nx.Graph()\n",
    "    \n",
    "    for control_id, control_row in control_df.iterrows():\n",
    "        for treatment_id, treatment_row in treatment_df.iterrows():\n",
    "            # Adds an edge only for the same human path length\n",
    "            if (control_row['human_path_length'] == length and treatment_row['human_path_length'] == length):\n",
    "                G.add_edge(control_id, treatment_id)\n",
    "\n",
    "    matching = nx.max_weight_matching(G)\n",
    "    matched = [i[0] for i in list(matching)] + [i[1] for i in list(matching)]\n",
    "    balanced_df = final_df.iloc[matched]\n",
    "    \n",
    "    return balanced_df"
   ]
  },
  {
   "cell_type": "code",
   "execution_count": null,
   "id": "6534c178",
   "metadata": {},
   "outputs": [],
   "source": [
    "balanced_df = perform_matching(length=3)"
   ]
  },
  {
   "cell_type": "code",
   "execution_count": null,
   "id": "548f41b4",
   "metadata": {},
   "outputs": [],
   "source": [
    "len(balanced_df)"
   ]
  },
  {
   "cell_type": "markdown",
   "id": "2f59cc5e",
   "metadata": {},
   "source": [
    "## 2 . Document Similarity\n",
    "\n",
    "### Similarity Between Wikipedia Articles: 'Bag-of-Words' Cosine Similarity Based on Word Frequencies\n",
    "\n",
    "We are interested in measuring ***similarity*** between `Wikipedia` articles to investigate players' strategies in `Wikispeedia`. The proposed similarity is `Cosine Similarity` measured on word frequencies given a pair of articles. **Therefore, the assumption we make is that articles with similar occurrences of words are similar.** \n",
    "\n",
    "In order to mitigate similarity due to common English words such as \"the\", we apply a filter as follows:\n",
    "\n",
    "1. Remove all `Stop` words as defined in `Scikit-learn`\n",
    "* https://scikit-learn.org/stable/modules/feature_extraction.html#nqy18\n",
    "\n",
    "2. Remove all white spaces and `\\n` characters\n",
    "\n",
    "\n",
    "3. Apply a scaled version of word frequency count as implemented in `TfidfTransformer` in `Scikit-learn`: \n",
    "* https://scikit-learn.org/stable/modules/generated/sklearn.feature_extraction.text.TfidfTransformer.html#sklearn.feature_extraction.text.TfidfTransformer\n",
    "\n",
    "The cell blocks below show our data processing pipeline."
   ]
  },
  {
   "cell_type": "code",
   "execution_count": null,
   "id": "2a6a8830",
   "metadata": {},
   "outputs": [],
   "source": [
    "import os\n",
    "\n",
    "base_path = '../wikispeedia/plaintext_articles'\n",
    "articles = os.listdir(base_path)\n",
    "# sort the article names in alphabetical order. This is not strictly required\n",
    "articles = sorted(articles)\n",
    "\n",
    "def remove_duplicates_and_fix_names(articles: list):\n",
    "    \"\"\"this function parses all the articles provided in the plaintext folder and stores the\n",
    "       names of all the articles after \"cleaning\" them (some articles containing accents have encoded names).\n",
    "       The raw text from the files are also stored in a list after removing white spaces and empty lines.\"\"\"\n",
    "    \n",
    "    def parse_text(article: str) -> str:\n",
    "        \"\"\"this helper function reads a raw text file and removes white spaces and empty lines.\"\"\"\n",
    "        with open(os.path.join(base_path, article)) as f:\n",
    "            # remove white spaces\n",
    "            raw_text = [line.rstrip() for line in f.readlines()]\n",
    "            # remove empty lines\n",
    "            raw_text = [line.strip() for line in raw_text if line != '']\n",
    "\n",
    "            return str(raw_text)\n",
    "    \n",
    "    # some article names have errors - fix these\n",
    "    article_names_cleaned, texts = [], []\n",
    "    \n",
    "    for article in articles:\n",
    "        # the \"%\" character indicates an encoded name\n",
    "        if \"%\" not in article:\n",
    "            # store the article name\n",
    "            article_names_cleaned.append(article)\n",
    "            # store the raw text from the article\n",
    "            texts.append(parse_text(article))\n",
    "            \n",
    "        else:\n",
    "            with open(os.path.join(base_path, article), 'r') as f:\n",
    "                # extract the correct name. It is always on the 3rd line of the article\n",
    "                correct_name = f.readlines()[2].replace('\\n', '')\n",
    "                # store the article name\n",
    "                article_names_cleaned.append(correct_name)\n",
    "                # store the raw text from the article\n",
    "                texts.append(parse_text(article))\n",
    "                    \n",
    "    \n",
    "    # remove \".txt\" from the article names\n",
    "    article_names_cleaned = [article.replace('.txt', '') for article in article_names_cleaned]\n",
    "    # remove list bracket from string casting of raw text\n",
    "    texts = [text.replace('[', '') for text in texts]\n",
    "    \n",
    "    return article_names_cleaned, texts\n",
    "\n",
    "article_names_cleaned, texts = remove_duplicates_and_fix_names(articles)"
   ]
  },
  {
   "cell_type": "code",
   "execution_count": null,
   "id": "31549540",
   "metadata": {},
   "outputs": [],
   "source": [
    "# count word frequency using sklearn out-of-the-box functions\n",
    "from sklearn.feature_extraction.text import CountVectorizer, TfidfVectorizer\n",
    "import pandas as pd\n",
    "import numpy as np\n",
    "\n",
    "# remove common stop words\n",
    "tfid_vectorizer = TfidfVectorizer(stop_words='english')\n",
    "# apply CountVectorizer and TfidfTransform sequentially\n",
    "matrix = tfid_vectorizer.fit_transform(texts)\n",
    "matrix = matrix.todense()\n",
    "\n",
    "# by default, \"TfidfVectorizer\" uses l2 norm and thus, to obtain the Cosine Similarity,\n",
    "# we simply perform a dot product of the matrix\n",
    "cosine_sim = pd.DataFrame(np.dot(np.array(matrix), np.array(matrix).T), columns=article_names_cleaned)\n",
    "# assign the index names also as the article names. This is used for easy querying pairs of articles\n",
    "cosine_sim.index = article_names_cleaned        \n",
    "cosine_sim"
   ]
  },
  {
   "cell_type": "code",
   "execution_count": null,
   "id": "a08ebc58",
   "metadata": {},
   "outputs": [],
   "source": [
    "# save the Cosine Similarity matrix so we do not have to re-compute it every time\n",
    "np.save('cosine_similarity.npz', np.array(cosine_sim))"
   ]
  },
  {
   "cell_type": "code",
   "execution_count": null,
   "id": "1ae9cdea",
   "metadata": {},
   "outputs": [],
   "source": [
    "import matplotlib.pyplot as plt\n",
    "\n",
    "# let's take a look at the Cosine Similarity distribution of the most similar article to a given article\n",
    "most_similar = []\n",
    "for idx in range(len(cosine_sim)):\n",
    "    # index [-2] because index [-1] is always = 1 since it is a self similarity\n",
    "    most_similar.append(sorted(cosine_sim.iloc[idx])[-2])\n",
    "    \n",
    "# plot the similarities\n",
    "pd.Series(most_similar).plot(kind='hist', edgecolor='k')\n",
    "plt.title(\"Cosine Similarity Distribution of Most Similar Articles\")\n",
    "plt.xlabel(\"Cosine Similarity\"); plt.ylabel(\"Absolute Counts\")\n",
    "\n",
    "# there are no glaring red flags, e.g., most Cosine Similarities close to 0 or 1"
   ]
  },
  {
   "cell_type": "code",
   "execution_count": null,
   "id": "ca6a913d",
   "metadata": {},
   "outputs": [],
   "source": [
    "# show a few concrete examples and see if our metric makes empirical sense\n",
    "#cosine_sim['Ukraine'].sort_values()\n",
    "\n",
    "# results look reasonable"
   ]
  },
  {
   "cell_type": "code",
   "execution_count": null,
   "id": "a4fa628c",
   "metadata": {},
   "outputs": [],
   "source": [
    "#cosine_sim['Zinc'].sort_values()\n",
    "# results also look reasonable"
   ]
  },
  {
   "cell_type": "code",
   "execution_count": null,
   "id": "808db3a0",
   "metadata": {},
   "outputs": [],
   "source": [
    "import seaborn as sns\n",
    "\n",
    "# \"Cygni\" are star systems/extrasolar planets and thus are expected to be similar\n",
    "# the time periods have some similarity\n",
    "#sns.clustermap(cosine_sim.iloc[10:20, 10:20])"
   ]
  },
  {
   "cell_type": "code",
   "execution_count": null,
   "id": "f5c20a4f",
   "metadata": {},
   "outputs": [],
   "source": [
    "# \"Cancri\" are exoplanets and thus are expected to be similar\n",
    "# we again see similarity between time periods\n",
    "#sns.clustermap(cosine_sim.iloc[50:60, 50:60])"
   ]
  },
  {
   "cell_type": "code",
   "execution_count": null,
   "id": "fcfb84dc",
   "metadata": {},
   "outputs": [],
   "source": [
    "# after confirming that the Cosine Similarity method is informative, we next show the function\n",
    "# we will use to extract similarity of articles in a navigation path\n",
    "\n",
    "# first show a hard-coded navigation path for illustration\n",
    "navigation_path = '14th_century;Time;Light;Rainbow'"
   ]
  },
  {
   "cell_type": "code",
   "execution_count": null,
   "id": "fc3a8f68",
   "metadata": {},
   "outputs": [],
   "source": [
    "def get_path_cosine_similarity(path: str, matrix: pd.DataFrame, method: str='sequential') -> list:\n",
    "    \"\"\"this function takes a navigation path string and returns an array of the Cosine Similarity.\n",
    "       Two methods are supported: 'sequential' (default) which measures the sequential similarity and \n",
    "       'target' which measures the similarity between the current article at the target article.\n",
    "       \n",
    "       Input:\n",
    "       path: navigation path string\n",
    "       matrix: pre-computed Cosine Similarity matrix\n",
    "       method: measurement method (defaults to 'sequential')\n",
    "       \n",
    "       Return:\n",
    "       list: list of similarity measures\n",
    "    \"\"\"\n",
    "    \n",
    "    # there is 1 article that is duplicated in the plaintext folder. Problematically, the duplicated\n",
    "    # article has different names and navigation paths can point to these different names, yet the \n",
    "    # article is the same. This one exception is handled here. In the implementation, we do not have to \n",
    "    # worry about this particular article pointing back to itself as it is not possible\n",
    "    \n",
    "    # navigation paths are separated by \";\"\n",
    "    path = path.split(';')\n",
    "    \n",
    "    # if the path only contains the starting article, return None\n",
    "    if len(path) == 1:\n",
    "        return None\n",
    "    \n",
    "    path_sims = []\n",
    "    \n",
    "    def get_correct_name(query: str, base_path: str='../wikispeedia/plaintext_articles') -> str:\n",
    "        \"\"\"this nested function is called in case a path contains error characters.\n",
    "           Returns the fixed path so it can be used to query the Cosine Similarity matrix.\"\"\"\n",
    "        if '_' in query and '%' not in query:\n",
    "            return query\n",
    "        elif query in ['Podcasting', 'Color', 'Fencing', 'Anemia', 'Quito']:\n",
    "            return query\n",
    "        else:\n",
    "            with open(os.path.join(base_path, f'{query}.txt'), 'r') as f:\n",
    "                out = f.readlines()[2].replace('\\n', '')\n",
    "                return out\n",
    "    \n",
    "    # compute the similarity between sequential nodes\n",
    "    # output list length is N-1\n",
    "    if method == 'sequential':\n",
    "        for idx in range(0, len(path)-1, 1):\n",
    "            try:\n",
    "                path_sims.append(matrix.loc[path[idx]].loc[path[idx+1]])\n",
    "            except Exception:\n",
    "                # either path or both paths could be wrong - just \"fix\" both\n",
    "                # treat the 1 exception due to duplicated file\n",
    "                if get_correct_name(path[idx]) == 'Polish–Muscovite War (1605–1618)':\n",
    "                    sim = float(cosine_sim.loc['Polish–Muscovite War (1605–1618)'].drop_duplicates()[get_correct_name(path[idx+1])])\n",
    "                    path_sims.append(sim)\n",
    "                    \n",
    "                elif get_correct_name(path[idx+1]) == 'Polish–Muscovite War (1605–1618)':\n",
    "                    sim = cosine_sim.loc[get_correct_name(path[idx])].drop_duplicates()['Polish–Muscovite War (1605–1618)']\n",
    "                    path_sims.append(sim)\n",
    "                    \n",
    "                else:\n",
    "                    path_sims.append(matrix.loc[get_correct_name(path[idx])].loc[get_correct_name(path[idx+1])])\n",
    "\n",
    "                    \n",
    "    # compute the similarity between the current node and the target node\n",
    "    # output list length is N\n",
    "    elif method == 'target':\n",
    "        for idx in range(0, len(path), 1):\n",
    "            try:\n",
    "                path_sims.append(matrix.loc[path[idx]].loc[path[-1]])\n",
    "            except Exception:\n",
    "                # either path or both paths could be wrong - just \"fix\" both\n",
    "                # treat the 1 exception due to duplicated file\n",
    "                if get_correct_name(path[idx]) == 'Polish–Muscovite War (1605–1618)':\n",
    "                    sim = cosine_sim.loc['Polish–Muscovite War (1605–1618)'].drop_duplicates()[get_correct_name(path[-1])]\n",
    "                    path_sims.append(sim)\n",
    "                    \n",
    "                elif get_correct_name(path[-1]) == 'Polish–Muscovite War (1605–1618)':\n",
    "                    sim = float(cosine_sim.loc[get_correct_name(path[idx])].drop_duplicates()['Polish–Muscovite War (1605–1618)'])\n",
    "                    path_sims.append(sim)\n",
    "                    \n",
    "                else:\n",
    "                    path_sims.append(matrix.loc[get_correct_name(path[idx])].loc[get_correct_name(path[-1])])\n",
    "    \n",
    "    else:\n",
    "        raise ValueError('Unsupported similarity method: choose from \"sequential\" or \"target\".')\n",
    "        \n",
    "    return path_sims"
   ]
  },
  {
   "cell_type": "code",
   "execution_count": null,
   "id": "11b97dea",
   "metadata": {},
   "outputs": [],
   "source": [
    "# print the navigation path for reference\n",
    "print(navigation_path.split(';'))\n",
    "\n",
    "# show the \"sequential\" method\n",
    "sequential_sims = get_path_cosine_similarity(path=navigation_path,\n",
    "                                             matrix=cosine_sim,\n",
    "                                             method='sequential')\n",
    "# intepreted as:\n",
    "# sim(14th_century, Time) = 0.031\n",
    "# sim(Time, Light) = 0.147\n",
    "# sim(Light, Rainbow) = 0.158\n",
    "# the similarity list is always N-1 in length, N = # nodes\n",
    "sequential_sims"
   ]
  },
  {
   "cell_type": "code",
   "execution_count": null,
   "id": "5d940f49",
   "metadata": {},
   "outputs": [],
   "source": [
    "# show the \"target\" method\n",
    "target_sims = get_path_cosine_similarity(path=navigation_path,\n",
    "                                         matrix=cosine_sim,\n",
    "                                         method='target')\n",
    "# intepreted as:\n",
    "# sim(14th_century, Rainbow) = 0.008\n",
    "# sim(Time, Rainbow) = 0.035\n",
    "# sim(Light, Rainbow) = 0.158\n",
    "# sim(Rainbow, Rainbow) = 1 (the path was successful so similarity is 1)\n",
    "# the similarity list is now N in length, N = # nodes\n",
    "\n",
    "# note: paths where the last index != 1 means the path was unsuccessful\n",
    "target_sims"
   ]
  },
  {
   "cell_type": "code",
   "execution_count": null,
   "id": "83a2e4dd",
   "metadata": {},
   "outputs": [],
   "source": [
    "# \"sequential\" similarity\n",
    "finished_paths_seq_sims = [get_path_cosine_similarity(path, matrix=cosine_sim) for path in successful_df['path']]\n",
    "unfinished_paths_seq_sims = [get_path_cosine_similarity(path, matrix=cosine_sim) for path in unsuccessful_df['path']]\n",
    "\n",
    "# \"target\" similarity\n",
    "finished_paths_target_sims = [get_path_cosine_similarity(path, matrix=cosine_sim, method='target') for path in successful_df['path']]\n",
    "unfinished_paths_target_sims = [get_path_cosine_similarity(path, matrix=cosine_sim, method='target') for path in unsuccessful_df['path']]\n"
   ]
  },
  {
   "cell_type": "code",
   "execution_count": null,
   "id": "b3763893",
   "metadata": {},
   "outputs": [],
   "source": [
    "# next, write a function that returns whether the Cosine similarities in a navigation path are increasing/decreasing\n",
    "def sims_to_bool_path(path: str):\n",
    "    \"\"\"this function takes a navgiation path as input and returns the path with same dimensions\n",
    "       containing Booleans denoting whether the Cosine similarity is increasing\"\"\"\n",
    "    # check if the path is None (occurs if the navigation path was only 1 article, i.e., the user didn't click anything)\n",
    "    # for the purposes of this initial investigation, assume that a path length of 1 is uninformative\n",
    "    # we acknowledge that it may carry meaning,\n",
    "    # for example, we would need to check if it is possible for the user to get to the target article in 1 click\n",
    "    if path is None or len(path) == 1:\n",
    "        return None\n",
    "    \n",
    "    bool_path = []\n",
    "    for idx in range(len(path)-1):\n",
    "        if path[idx+1] > path[idx]:\n",
    "            bool_path.append(True)\n",
    "        else:\n",
    "            bool_path.append(False)\n",
    "    \n",
    "    return bool_path\n",
    "        "
   ]
  },
  {
   "cell_type": "markdown",
   "id": "3e6bd621",
   "metadata": {},
   "source": [
    "For an initial investigation into `Cosine Similarity based navigation`, check how many successful and unsuccesful paths contain only increasing cosine similarity."
   ]
  },
  {
   "cell_type": "code",
   "execution_count": null,
   "id": "c546fab7",
   "metadata": {},
   "outputs": [],
   "source": [
    "type(finished_paths_seq_sims[1])"
   ]
  },
  {
   "cell_type": "code",
   "execution_count": null,
   "id": "004a1ec6",
   "metadata": {},
   "outputs": [],
   "source": [
    "# show the pipeline for just \"sequential\" cosine similarity, i.e., sequential article nodes\n",
    "\n",
    "# finished paths\n",
    "finished_paths_seq_bool = [sims_to_bool_path(path) for path in finished_paths_seq_sims]\n",
    "finished_paths_target_bool = [sims_to_bool_path(path) for path in finished_paths_target_sims]\n",
    "# unfinished paths\n",
    "unfinished_paths_seq_bool = [sims_to_bool_path(path) for path in unfinished_paths_seq_sims]\n",
    "unfinished_paths_target_bool = [sims_to_bool_path(path) for path in unfinished_paths_target_sims]\n",
    "\n",
    "# now keep only the ones that are strictly increasing in similarity\n",
    "\n",
    "# this function filters paths that only contain strictly increasing Cosine similarities\n",
    "def filter_strictly_increasing_sims(path_list: list):\n",
    "    out = [path for path in path_list if path is not None]\n",
    "    out = [path for path in out if False not in path]\n",
    "    \n",
    "    return out\n",
    "\n",
    "# sequential\n",
    "finished_paths_seq_increasing = filter_strictly_increasing_sims(finished_paths_seq_bool)\n",
    "unfinished_paths_seq_increasing = filter_strictly_increasing_sims(unfinished_paths_seq_bool)\n",
    "\n",
    "finished_paths_target_increasing = filter_strictly_increasing_sims(finished_paths_target_bool)\n",
    "unfinished_paths_target_increasing = filter_strictly_increasing_sims(unfinished_paths_target_bool)"
   ]
  },
  {
   "cell_type": "code",
   "execution_count": null,
   "id": "023e7001",
   "metadata": {},
   "outputs": [],
   "source": [
    "print(f'There are a total of {len(finished_paths_seq_bool)} successful navigation paths, of which, {len(finished_paths_seq_increasing)} ({round(len(finished_paths_seq_increasing)/len(finished_paths_seq_bool)*100)}%) have strictly increasing Cosine similarities')\n",
    "\n",
    "print(f'There are a total of {len(unfinished_paths_seq_bool)} unsuccessful navigation paths, of which, {len(unfinished_paths_eq_increasing)} ({round(len(unfinished_paths_seq_increasing)/len(unfinished_paths_seq_bool)*100)}%) have strictly increasing Cosine similarities')"
   ]
  }
 ],
 "metadata": {
  "kernelspec": {
   "display_name": "Python 3 (ipykernel)",
   "language": "python",
   "name": "python3"
  },
  "language_info": {
   "codemirror_mode": {
    "name": "ipython",
    "version": 3
   },
   "file_extension": ".py",
   "mimetype": "text/x-python",
   "name": "python",
   "nbconvert_exporter": "python",
   "pygments_lexer": "ipython3",
   "version": "3.10.6"
  }
 },
 "nbformat": 4,
 "nbformat_minor": 5
}
