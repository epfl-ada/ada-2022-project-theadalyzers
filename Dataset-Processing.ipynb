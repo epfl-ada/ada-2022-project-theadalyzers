{
 "cells": [
  {
   "cell_type": "markdown",
   "id": "5933ab57",
   "metadata": {},
   "source": [
    "# Dataset Processing\n",
    "\n",
    "1. Split `successful` and `unsuccessful` paths\n",
    "2. For each human path, find the corresponding shortest length path from the `source` article to the `target` article\n",
    "3. Generate a matched dataset where the `successful` and `unsucessful` paths both have the same `shortest path length`\n",
    "4. Use this matched dataset for analysis"
   ]
  },
  {
   "cell_type": "code",
   "execution_count": 1,
   "id": "252b7d4b",
   "metadata": {},
   "outputs": [],
   "source": [
    "import pandas as pd\n",
    "import os\n",
    "\n",
    "parent_folder_path = '../Wikispeedia/wikispeedia_paths-and-graph/'\n",
    "\n",
    "paths_finished_df=(pd.read_csv(os.path.join(parent_folder_path, 'paths_finished.tsv'), \n",
    "                               sep='\\t', skiprows=15, header=None)\n",
    "                   .rename(columns={0:\"ip\",\n",
    "                                    1:\"timestamp\",\n",
    "                                    2:\"duration\",\n",
    "                                    3:\"path\",\n",
    "                                    4:\"rating\"}))\n",
    "\n",
    "paths_unfinished_df=(pd.read_csv(os.path.join(parent_folder_path, 'paths_unfinished.tsv'), \n",
    "                               sep='\\t', skiprows=16, header=None)\n",
    "                     .rename(columns={0:\"ip\",\n",
    "                                      1:\"timestamp\",\n",
    "                                      2:\"duration\",\n",
    "                                      3:\"path\",\n",
    "                                      4:\"target\",\n",
    "                                      5:\"type\"}))"
   ]
  },
  {
   "cell_type": "markdown",
   "id": "102e6e50",
   "metadata": {},
   "source": [
    "## Split `successful` and `unsuccessful` paths\n",
    "\n",
    "Here, we will remove any paths with `back-track`, as indicated by `<` in the navigation path."
   ]
  },
  {
   "cell_type": "code",
   "execution_count": 2,
   "id": "f20c8e79",
   "metadata": {},
   "outputs": [],
   "source": [
    "def remove_backtracks(df: pd.DataFrame) -> pd.Series:\n",
    "    \"\"\"this function take a DataFrame and returns the path series without back-tracks in the path\"\"\"\n",
    "    paths = df['path']\n",
    "    return paths[~paths.str.contains('<')]\n",
    "\n",
    "successful_paths = remove_backtracks(paths_finished_df)\n",
    "unsuccessful_paths = remove_backtracks(paths_unfinished_df)"
   ]
  },
  {
   "cell_type": "markdown",
   "id": "1a50f031",
   "metadata": {},
   "source": [
    "## For each path, find the shortest length path from the `source` to the `target`"
   ]
  },
  {
   "cell_type": "code",
   "execution_count": 3,
   "id": "2ca3406e",
   "metadata": {},
   "outputs": [
    {
     "data": {
      "text/plain": [
       "4604"
      ]
     },
     "execution_count": 3,
     "metadata": {},
     "output_type": "execute_result"
    }
   ],
   "source": [
    "# first read the shortest path matrix\n",
    "shortest_path_matrix = []\n",
    "\n",
    "with open('../Wikispeedia/wikispeedia_paths-and-graph/shortest-path-distance-matrix.txt', 'r') as f:\n",
    "    # the first 17 lines (indexed from 0) is the file description \n",
    "    for line in f.readlines()[17:]:\n",
    "        shortest_path_matrix.append(line)\n",
    "        \n",
    "# the matrix now stores all shortest paths from all source articles\n",
    "len(shortest_path_matrix)"
   ]
  },
  {
   "cell_type": "code",
   "execution_count": 4,
   "id": "cd844cc9",
   "metadata": {},
   "outputs": [
    {
     "data": {
      "text/plain": [
       "['Áedán mac Gabráin',\n",
       " 'Åland',\n",
       " 'Édouard Manet',\n",
       " 'Éire',\n",
       " 'Óengus I of the Picts']"
      ]
     },
     "execution_count": 4,
     "metadata": {},
     "output_type": "execute_result"
    }
   ],
   "source": [
    "# next, we need a list of all the article names. The order of the articles \n",
    "# is the same as the shortest_path_matrix as per the file descriptions\n",
    "\n",
    "articles = pd.read_csv('../Wikispeedia/wikispeedia_paths-and-graph/articles.tsv', sep='\\t', skiprows=11, header=None)[0]\n",
    "article_names_cleaned = []\n",
    "\n",
    "# some articles have encoded names. Decode these\n",
    "for article in articles:\n",
    "    # the \"%\" character indicates an encoded name\n",
    "    if \"%\" not in article:\n",
    "        # store the article name\n",
    "        article_names_cleaned.append(article)\n",
    "    else:\n",
    "        with open(os.path.join('../Wikispeedia/plaintext_articles', f'{article}.txt'), 'r') as f:\n",
    "            # extract the correct name. It is always on the 3rd line of the article\n",
    "            correct_name = f.readlines()[2].replace('\\n', '')\n",
    "            # store the article name\n",
    "            article_names_cleaned.append(correct_name)\n",
    "\n",
    "article_names_cleaned[:5]"
   ]
  },
  {
   "cell_type": "code",
   "execution_count": 5,
   "id": "92786cdb",
   "metadata": {},
   "outputs": [],
   "source": [
    "# for each human path, perform the following steps:\n",
    "#      1. extract the source and target article\n",
    "#      2. find the *index* in the article names list that corresponds to the source and target article\n",
    "#      3. the corresponding *index* row in the shortest path matrix corresponds to the source article. \n",
    "#         from this list of numbers, use the target article *index* to find the *shortest path length*\n",
    "\n",
    "def augment_with_shortest_path(series: pd.Series) -> pd.DataFrame:\n",
    "    \"\"\"\n",
    "    this function takes a Series and returns a DataFrame with the following columns:\n",
    "       1. path\n",
    "       2. source article\n",
    "       3. target article\n",
    "       4. shortest path length\n",
    "    \"\"\"\n",
    "    def clean_query_article_name(name: str) -> str:\n",
    "        \"\"\"this helper function takes an encoded article name and returns the cleaned name\"\"\"\n",
    "        if \"%\" in name:\n",
    "            with open(os.path.join('../Wikispeedia/plaintext_articles', f'{name}.txt'), 'r') as f:\n",
    "                # extract the correct name. It is always on the 3rd line of the article\n",
    "                return f.readlines()[2].replace('\\n', '')    \n",
    "        else:\n",
    "            return name\n",
    "        \n",
    "    paths, source_articles, target_articles, shortest_paths = [], [], [], []\n",
    "    \n",
    "    for human_path in series:\n",
    "        paths.append(human_path)\n",
    "        \n",
    "        split_path = human_path.split(';')\n",
    "        \n",
    "        source = clean_query_article_name(split_path[0])\n",
    "        target = clean_query_article_name(split_path[-1])\n",
    "        source_articles.append(source)\n",
    "        target_articles.append(target)\n",
    "        \n",
    "        source_index = article_names_cleaned.index(source)\n",
    "        target_index = article_names_cleaned.index(target)\n",
    "        \n",
    "        # query the shortest path matrix to get the correct vector (corresponding to the source article)\n",
    "        shortest_path_vector = shortest_path_matrix[source_index]\n",
    "        # now find the target article indexed integer in the vector\n",
    "        shortest = shortest_path_vector[target_index]\n",
    "        # it's not always possible to get to the target article. Impossible navigation is denoted by \"_\"\n",
    "        if shortest == \"_\":\n",
    "            shortest_paths.append(\"N/A\")\n",
    "        else:\n",
    "            shortest_paths.append(int(shortest))\n",
    "        \n",
    "        \n",
    "    # create the augmented DataFrame\n",
    "    df = pd.DataFrame({\n",
    "                      'path': paths,\n",
    "                      'source_article': source_articles,\n",
    "                      'target_article': target_articles,\n",
    "                      'shortest_path': shortest_paths\n",
    "                      })\n",
    "    \n",
    "    return df"
   ]
  },
  {
   "cell_type": "code",
   "execution_count": 6,
   "id": "3a803724",
   "metadata": {},
   "outputs": [
    {
     "data": {
      "text/html": [
       "<div>\n",
       "<style scoped>\n",
       "    .dataframe tbody tr th:only-of-type {\n",
       "        vertical-align: middle;\n",
       "    }\n",
       "\n",
       "    .dataframe tbody tr th {\n",
       "        vertical-align: top;\n",
       "    }\n",
       "\n",
       "    .dataframe thead th {\n",
       "        text-align: right;\n",
       "    }\n",
       "</style>\n",
       "<table border=\"1\" class=\"dataframe\">\n",
       "  <thead>\n",
       "    <tr style=\"text-align: right;\">\n",
       "      <th></th>\n",
       "      <th>path</th>\n",
       "      <th>source_article</th>\n",
       "      <th>target_article</th>\n",
       "      <th>shortest_path</th>\n",
       "    </tr>\n",
       "  </thead>\n",
       "  <tbody>\n",
       "    <tr>\n",
       "      <th>0</th>\n",
       "      <td>14th_century;15th_century;16th_century;Pacific...</td>\n",
       "      <td>14th_century</td>\n",
       "      <td>African_slave_trade</td>\n",
       "      <td>3</td>\n",
       "    </tr>\n",
       "    <tr>\n",
       "      <th>1</th>\n",
       "      <td>14th_century;Europe;Africa;Atlantic_slave_trad...</td>\n",
       "      <td>14th_century</td>\n",
       "      <td>African_slave_trade</td>\n",
       "      <td>3</td>\n",
       "    </tr>\n",
       "    <tr>\n",
       "      <th>2</th>\n",
       "      <td>14th_century;Niger;Nigeria;British_Empire;Slav...</td>\n",
       "      <td>14th_century</td>\n",
       "      <td>African_slave_trade</td>\n",
       "      <td>3</td>\n",
       "    </tr>\n",
       "    <tr>\n",
       "      <th>3</th>\n",
       "      <td>14th_century;Renaissance;Ancient_Greece;Greece</td>\n",
       "      <td>14th_century</td>\n",
       "      <td>Greece</td>\n",
       "      <td>2</td>\n",
       "    </tr>\n",
       "    <tr>\n",
       "      <th>4</th>\n",
       "      <td>14th_century;Italy;Roman_Catholic_Church;HIV;R...</td>\n",
       "      <td>14th_century</td>\n",
       "      <td>John_F._Kennedy</td>\n",
       "      <td>3</td>\n",
       "    </tr>\n",
       "  </tbody>\n",
       "</table>\n",
       "</div>"
      ],
      "text/plain": [
       "                                                path source_article  \\\n",
       "0  14th_century;15th_century;16th_century;Pacific...   14th_century   \n",
       "1  14th_century;Europe;Africa;Atlantic_slave_trad...   14th_century   \n",
       "2  14th_century;Niger;Nigeria;British_Empire;Slav...   14th_century   \n",
       "3     14th_century;Renaissance;Ancient_Greece;Greece   14th_century   \n",
       "4  14th_century;Italy;Roman_Catholic_Church;HIV;R...   14th_century   \n",
       "\n",
       "        target_article shortest_path  \n",
       "0  African_slave_trade             3  \n",
       "1  African_slave_trade             3  \n",
       "2  African_slave_trade             3  \n",
       "3               Greece             2  \n",
       "4      John_F._Kennedy             3  "
      ]
     },
     "execution_count": 6,
     "metadata": {},
     "output_type": "execute_result"
    }
   ],
   "source": [
    "successful_df = augment_with_shortest_path(series=successful_paths)\n",
    "successful_df.head()"
   ]
  },
  {
   "cell_type": "code",
   "execution_count": 7,
   "id": "d34eb3d5",
   "metadata": {},
   "outputs": [
    {
     "data": {
      "text/html": [
       "<div>\n",
       "<style scoped>\n",
       "    .dataframe tbody tr th:only-of-type {\n",
       "        vertical-align: middle;\n",
       "    }\n",
       "\n",
       "    .dataframe tbody tr th {\n",
       "        vertical-align: top;\n",
       "    }\n",
       "\n",
       "    .dataframe thead th {\n",
       "        text-align: right;\n",
       "    }\n",
       "</style>\n",
       "<table border=\"1\" class=\"dataframe\">\n",
       "  <thead>\n",
       "    <tr style=\"text-align: right;\">\n",
       "      <th></th>\n",
       "      <th>path</th>\n",
       "      <th>source_article</th>\n",
       "      <th>target_article</th>\n",
       "      <th>shortest_path</th>\n",
       "    </tr>\n",
       "  </thead>\n",
       "  <tbody>\n",
       "    <tr>\n",
       "      <th>0</th>\n",
       "      <td>Obi-Wan_Kenobi</td>\n",
       "      <td>Obi-Wan_Kenobi</td>\n",
       "      <td>Obi-Wan_Kenobi</td>\n",
       "      <td>0</td>\n",
       "    </tr>\n",
       "    <tr>\n",
       "      <th>1</th>\n",
       "      <td>Julius_Caesar</td>\n",
       "      <td>Julius_Caesar</td>\n",
       "      <td>Julius_Caesar</td>\n",
       "      <td>0</td>\n",
       "    </tr>\n",
       "    <tr>\n",
       "      <th>2</th>\n",
       "      <td>Malawi;Democracy;Alexander_the_Great</td>\n",
       "      <td>Malawi</td>\n",
       "      <td>Alexander_the_Great</td>\n",
       "      <td>2</td>\n",
       "    </tr>\n",
       "    <tr>\n",
       "      <th>3</th>\n",
       "      <td>Paraguay</td>\n",
       "      <td>Paraguay</td>\n",
       "      <td>Paraguay</td>\n",
       "      <td>0</td>\n",
       "    </tr>\n",
       "    <tr>\n",
       "      <th>4</th>\n",
       "      <td>Paraguay;Bolivia</td>\n",
       "      <td>Paraguay</td>\n",
       "      <td>Bolivia</td>\n",
       "      <td>1</td>\n",
       "    </tr>\n",
       "  </tbody>\n",
       "</table>\n",
       "</div>"
      ],
      "text/plain": [
       "                                   path  source_article       target_article  \\\n",
       "0                        Obi-Wan_Kenobi  Obi-Wan_Kenobi       Obi-Wan_Kenobi   \n",
       "1                         Julius_Caesar   Julius_Caesar        Julius_Caesar   \n",
       "2  Malawi;Democracy;Alexander_the_Great          Malawi  Alexander_the_Great   \n",
       "3                              Paraguay        Paraguay             Paraguay   \n",
       "4                      Paraguay;Bolivia        Paraguay              Bolivia   \n",
       "\n",
       "  shortest_path  \n",
       "0             0  \n",
       "1             0  \n",
       "2             2  \n",
       "3             0  \n",
       "4             1  "
      ]
     },
     "execution_count": 7,
     "metadata": {},
     "output_type": "execute_result"
    }
   ],
   "source": [
    "unsuccessful_df = augment_with_shortest_path(series=unsuccessful_paths)\n",
    "unsuccessful_df.head()\n",
    "\n",
    "# shortest_path = 0 means the source article is the same as the target article \n",
    "# (Wikispeedia bug for game initialization?)"
   ]
  },
  {
   "cell_type": "code",
   "execution_count": 8,
   "id": "269205ad",
   "metadata": {},
   "outputs": [
    {
     "data": {
      "image/png": "[encoded data removed]",
      "text/plain": [
       "<Figure size 640x480 with 1 Axes>"
      ]
     },
     "metadata": {},
     "output_type": "display_data"
    }
   ],
   "source": [
    "# take a look at the shortest_path distributions\n",
    "import matplotlib.pyplot as plt\n",
    "\n",
    "successful_counts = successful_df['shortest_path'].value_counts()\n",
    "successful_counts.plot(kind='bar', edgecolor='k')\n",
    "plt.ylabel('Absolute Counts'); plt.xlabel('Shortest Path');\n",
    "plt.title(\"Successful Human Paths Stratified by Shortest Possible Path\");"
   ]
  },
  {
   "cell_type": "code",
   "execution_count": 9,
   "id": "b5f8f1f6",
   "metadata": {},
   "outputs": [
    {
     "data": {
      "image/png": "[encoded data removed]",
      "text/plain": [
       "<Figure size 640x480 with 1 Axes>"
      ]
     },
     "metadata": {},
     "output_type": "display_data"
    }
   ],
   "source": [
    "unsuccessful_counts = unsuccessful_df['shortest_path'].value_counts()\n",
    "unsuccessful_counts.plot(kind='bar', edgecolor='k')\n",
    "plt.ylabel('Absolute Counts'); plt.xlabel('Shortest Path');\n",
    "plt.title(\"Unsuccessful Human Paths Stratified by Shortest Possible Path\");"
   ]
  }
 ],
 "metadata": {
  "kernelspec": {
   "display_name": "Python 3 (ipykernel)",
   "language": "python",
   "name": "python3"
  },
  "language_info": {
   "codemirror_mode": {
    "name": "ipython",
    "version": 3
   },
   "file_extension": ".py",
   "mimetype": "text/x-python",
   "name": "python",
   "nbconvert_exporter": "python",
   "pygments_lexer": "ipython3",
   "version": "3.10.6"
  }
 },
 "nbformat": 4,
 "nbformat_minor": 5
}
