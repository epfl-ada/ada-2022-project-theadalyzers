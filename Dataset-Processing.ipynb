{
 "cells": [
  {
   "cell_type": "markdown",
   "id": "5933ab57",
   "metadata": {},
   "source": [
    "# Dataset Processing\n",
    "\n",
    "1. Split `successful` and `unsuccessful` paths\n",
    "2. For each human path, find the corresponding shortest length path from the `source` article to the `target` article\n",
    "3. Generate a matched dataset where the `successful` and `unsucessful` paths both have the same `shortest path length`\n",
    "4. Use this matched dataset for analysis"
   ]
  },
  {
   "cell_type": "code",
   "execution_count": 1,
   "id": "252b7d4b",
   "metadata": {},
   "outputs": [],
   "source": [
    "import pandas as pd\n",
    "import os\n",
    "\n",
    "parent_folder_path = '../Wikispeedia/wikispeedia_paths-and-graph/'\n",
    "\n",
    "paths_finished_df=(pd.read_csv(os.path.join(parent_folder_path, 'paths_finished.tsv'), \n",
    "                               sep='\\t', skiprows=15, header=None)\n",
    "                   .rename(columns={0:\"ip\",\n",
    "                                    1:\"timestamp\",\n",
    "                                    2:\"duration\",\n",
    "                                    3:\"path\",\n",
    "                                    4:\"rating\"}))\n",
    "\n",
    "paths_unfinished_df=(pd.read_csv(os.path.join(parent_folder_path, 'paths_unfinished.tsv'), \n",
    "                               sep='\\t', skiprows=16, header=None)\n",
    "                     .rename(columns={0:\"ip\",\n",
    "                                      1:\"timestamp\",\n",
    "                                      2:\"duration\",\n",
    "                                      3:\"path\",\n",
    "                                      4:\"target\",\n",
    "                                      5:\"type\"}))"
   ]
  },
  {
   "cell_type": "markdown",
   "id": "1a50f031",
   "metadata": {},
   "source": [
    "## Split `successful` and `unsuccessful` paths. For each path, find the shortest length path from the `source` to the `target`"
   ]
  },
  {
   "cell_type": "code",
   "execution_count": 2,
   "id": "2ca3406e",
   "metadata": {},
   "outputs": [
    {
     "data": {
      "text/plain": [
       "4604"
      ]
     },
     "execution_count": 2,
     "metadata": {},
     "output_type": "execute_result"
    }
   ],
   "source": [
    "# first read the shortest path matrix\n",
    "shortest_path_matrix = []\n",
    "\n",
    "with open('../Wikispeedia/wikispeedia_paths-and-graph/shortest-path-distance-matrix.txt', 'r') as f:\n",
    "    # the first 17 lines (indexed from 0) is the file description \n",
    "    for line in f.readlines()[17:]:\n",
    "        shortest_path_matrix.append(line)\n",
    "        \n",
    "# the matrix now stores all shortest paths from all source articles\n",
    "len(shortest_path_matrix)"
   ]
  },
  {
   "cell_type": "code",
   "execution_count": 3,
   "id": "cd844cc9",
   "metadata": {},
   "outputs": [
    {
     "data": {
      "text/plain": [
       "['Áedán mac Gabráin',\n",
       " 'Åland',\n",
       " 'Édouard Manet',\n",
       " 'Éire',\n",
       " 'Óengus I of the Picts']"
      ]
     },
     "execution_count": 3,
     "metadata": {},
     "output_type": "execute_result"
    }
   ],
   "source": [
    "# next, we need a list of all the article names. The order of the articles \n",
    "# is the same as the shortest_path_matrix as per the file descriptions\n",
    "\n",
    "articles = pd.read_csv('../Wikispeedia/wikispeedia_paths-and-graph/articles.tsv', sep='\\t', skiprows=11, header=None)[0]\n",
    "article_names_cleaned = []\n",
    "\n",
    "# some articles have encoded names. Decode these\n",
    "for article in articles:\n",
    "    # the \"%\" character indicates an encoded name\n",
    "    if \"%\" not in article:\n",
    "        # store the article name\n",
    "        article_names_cleaned.append(article)\n",
    "    else:\n",
    "        with open(os.path.join('../Wikispeedia/plaintext_articles', f'{article}.txt'), 'r') as f:\n",
    "            # extract the correct name. It is always on the 3rd line of the article\n",
    "            correct_name = f.readlines()[2].replace('\\n', '')\n",
    "            # store the article name\n",
    "            article_names_cleaned.append(correct_name)\n",
    "\n",
    "article_names_cleaned[:5]"
   ]
  },
  {
   "cell_type": "code",
   "execution_count": 4,
   "id": "92786cdb",
   "metadata": {},
   "outputs": [],
   "source": [
    "# for each human path, perform the following steps:\n",
    "#      1. extract the source and target article\n",
    "#      2. find the *index* in the article names list that corresponds to the source and target article\n",
    "#      3. the corresponding *index* row in the shortest path matrix corresponds to the source article. \n",
    "#         from this list of numbers, use the target article *index* to find the *shortest path length*\n",
    "\n",
    "def augment_with_shortest_path(df: pd.DataFrame, successful: bool) -> pd.DataFrame:\n",
    "    \"\"\"\n",
    "    this function takes a Series and returns a DataFrame with the following columns:\n",
    "       1. path\n",
    "       2. source article\n",
    "       3. target article\n",
    "       4. shortest path length\n",
    "       \n",
    "    input:\n",
    "       df: the Pandas DataFrame containing all the human navigation paths\n",
    "       successful: a boolean indicating whether the paths were successful or not\n",
    "    \"\"\"\n",
    "    # remove all paths with back-tracks\n",
    "    df = df[~df['path'].str.contains('<')]\n",
    "    \n",
    "    def clean_query_article_name(name: str) -> str:\n",
    "        \"\"\"this helper function takes an encoded article name and returns the cleaned name\"\"\"\n",
    "        if \"%\" in name:\n",
    "            with open(os.path.join('../Wikispeedia/plaintext_articles', f'{name}.txt'), 'r') as f:\n",
    "                # extract the correct name. It is always on the 3rd line of the article\n",
    "                return f.readlines()[2].replace('\\n', '')    \n",
    "        else:\n",
    "            return name\n",
    "        \n",
    "    paths, source_articles, target_articles, shortest_paths = [], [], [], []\n",
    "    \n",
    "    # all information required for successful paths is in the path itself\n",
    "    if successful:\n",
    "        for human_path in df['path']:\n",
    "            paths.append(human_path)\n",
    "\n",
    "            split_path = human_path.split(';')\n",
    "\n",
    "            source = clean_query_article_name(split_path[0])\n",
    "            target = clean_query_article_name(split_path[-1])\n",
    "            source_articles.append(source)\n",
    "            target_articles.append(target)\n",
    "    \n",
    "    # unsuccessful paths require extraction of the target article from a separate column\n",
    "    else:\n",
    "        for human_path, target in zip(df['path'], df['target']):\n",
    "            paths.append(human_path)\n",
    "            \n",
    "            split_path = human_path.split(';')\n",
    "\n",
    "            source = clean_query_article_name(split_path[0])\n",
    "            source_articles.append(source)\n",
    "            target_articles.append(target)\n",
    "        \n",
    "    for source, target in zip(source_articles, target_articles):\n",
    "        source_index = article_names_cleaned.index(source)\n",
    "        # there are target articles that were not provided in the plain text files\n",
    "        try:\n",
    "            target_index = article_names_cleaned.index(target)\n",
    "        except Exception:\n",
    "            shortest_paths.append(\"N/A\")\n",
    "            continue\n",
    "            \n",
    "        # query the shortest path matrix to get the correct vector (corresponding to the source article)\n",
    "        shortest_path_vector = shortest_path_matrix[source_index]\n",
    "        # now find the target article indexed integer in the vector\n",
    "        shortest = shortest_path_vector[target_index]\n",
    "        # it's not always possible to get to the target article. Impossible navigation is denoted by \"_\"\n",
    "        if shortest == \"_\":\n",
    "            shortest_paths.append(\"Impossible\")\n",
    "        else:\n",
    "            shortest_paths.append(int(shortest))\n",
    "        \n",
    "        \n",
    "    # create the augmented DataFrame\n",
    "    out = pd.DataFrame({\n",
    "                      'path': paths,\n",
    "                      'source_article': source_articles,\n",
    "                      'target_article': target_articles,\n",
    "                      'shortest_path': shortest_paths\n",
    "                      })\n",
    "    \n",
    "    return out"
   ]
  },
  {
   "cell_type": "code",
   "execution_count": 5,
   "id": "3a803724",
   "metadata": {},
   "outputs": [
    {
     "data": {
      "text/html": [
       "<div>\n",
       "<style scoped>\n",
       "    .dataframe tbody tr th:only-of-type {\n",
       "        vertical-align: middle;\n",
       "    }\n",
       "\n",
       "    .dataframe tbody tr th {\n",
       "        vertical-align: top;\n",
       "    }\n",
       "\n",
       "    .dataframe thead th {\n",
       "        text-align: right;\n",
       "    }\n",
       "</style>\n",
       "<table border=\"1\" class=\"dataframe\">\n",
       "  <thead>\n",
       "    <tr style=\"text-align: right;\">\n",
       "      <th></th>\n",
       "      <th>path</th>\n",
       "      <th>source_article</th>\n",
       "      <th>target_article</th>\n",
       "      <th>shortest_path</th>\n",
       "    </tr>\n",
       "  </thead>\n",
       "  <tbody>\n",
       "    <tr>\n",
       "      <th>0</th>\n",
       "      <td>14th_century;15th_century;16th_century;Pacific...</td>\n",
       "      <td>14th_century</td>\n",
       "      <td>African_slave_trade</td>\n",
       "      <td>3</td>\n",
       "    </tr>\n",
       "    <tr>\n",
       "      <th>1</th>\n",
       "      <td>14th_century;Europe;Africa;Atlantic_slave_trad...</td>\n",
       "      <td>14th_century</td>\n",
       "      <td>African_slave_trade</td>\n",
       "      <td>3</td>\n",
       "    </tr>\n",
       "    <tr>\n",
       "      <th>2</th>\n",
       "      <td>14th_century;Niger;Nigeria;British_Empire;Slav...</td>\n",
       "      <td>14th_century</td>\n",
       "      <td>African_slave_trade</td>\n",
       "      <td>3</td>\n",
       "    </tr>\n",
       "    <tr>\n",
       "      <th>3</th>\n",
       "      <td>14th_century;Renaissance;Ancient_Greece;Greece</td>\n",
       "      <td>14th_century</td>\n",
       "      <td>Greece</td>\n",
       "      <td>2</td>\n",
       "    </tr>\n",
       "    <tr>\n",
       "      <th>4</th>\n",
       "      <td>14th_century;Italy;Roman_Catholic_Church;HIV;R...</td>\n",
       "      <td>14th_century</td>\n",
       "      <td>John_F._Kennedy</td>\n",
       "      <td>3</td>\n",
       "    </tr>\n",
       "  </tbody>\n",
       "</table>\n",
       "</div>"
      ],
      "text/plain": [
       "                                                path source_article  \\\n",
       "0  14th_century;15th_century;16th_century;Pacific...   14th_century   \n",
       "1  14th_century;Europe;Africa;Atlantic_slave_trad...   14th_century   \n",
       "2  14th_century;Niger;Nigeria;British_Empire;Slav...   14th_century   \n",
       "3     14th_century;Renaissance;Ancient_Greece;Greece   14th_century   \n",
       "4  14th_century;Italy;Roman_Catholic_Church;HIV;R...   14th_century   \n",
       "\n",
       "        target_article shortest_path  \n",
       "0  African_slave_trade             3  \n",
       "1  African_slave_trade             3  \n",
       "2  African_slave_trade             3  \n",
       "3               Greece             2  \n",
       "4      John_F._Kennedy             3  "
      ]
     },
     "execution_count": 5,
     "metadata": {},
     "output_type": "execute_result"
    }
   ],
   "source": [
    "successful_df = augment_with_shortest_path(df=paths_finished_df, successful=True)\n",
    "successful_df.head()"
   ]
  },
  {
   "cell_type": "code",
   "execution_count": 6,
   "id": "d34eb3d5",
   "metadata": {},
   "outputs": [
    {
     "data": {
      "text/html": [
       "<div>\n",
       "<style scoped>\n",
       "    .dataframe tbody tr th:only-of-type {\n",
       "        vertical-align: middle;\n",
       "    }\n",
       "\n",
       "    .dataframe tbody tr th {\n",
       "        vertical-align: top;\n",
       "    }\n",
       "\n",
       "    .dataframe thead th {\n",
       "        text-align: right;\n",
       "    }\n",
       "</style>\n",
       "<table border=\"1\" class=\"dataframe\">\n",
       "  <thead>\n",
       "    <tr style=\"text-align: right;\">\n",
       "      <th></th>\n",
       "      <th>path</th>\n",
       "      <th>source_article</th>\n",
       "      <th>target_article</th>\n",
       "      <th>shortest_path</th>\n",
       "    </tr>\n",
       "  </thead>\n",
       "  <tbody>\n",
       "    <tr>\n",
       "      <th>2</th>\n",
       "      <td>Malawi;Democracy;Alexander_the_Great</td>\n",
       "      <td>Malawi</td>\n",
       "      <td>First_Crusade</td>\n",
       "      <td>3</td>\n",
       "    </tr>\n",
       "    <tr>\n",
       "      <th>4</th>\n",
       "      <td>Paraguay;Bolivia</td>\n",
       "      <td>Paraguay</td>\n",
       "      <td>Mount_St._Helens</td>\n",
       "      <td>3</td>\n",
       "    </tr>\n",
       "    <tr>\n",
       "      <th>5</th>\n",
       "      <td>Agriculture;History_of_the_world;China;Yangtze...</td>\n",
       "      <td>Agriculture</td>\n",
       "      <td>Grand_Canal_of_China</td>\n",
       "      <td>3</td>\n",
       "    </tr>\n",
       "    <tr>\n",
       "      <th>6</th>\n",
       "      <td>Mind;Christianity;Europe;Renaissance;Ancient_G...</td>\n",
       "      <td>Mind</td>\n",
       "      <td>Scouting</td>\n",
       "      <td>4</td>\n",
       "    </tr>\n",
       "    <tr>\n",
       "      <th>7</th>\n",
       "      <td>4-2-0;United_States;Agriculture;Sugar;Australia</td>\n",
       "      <td>4-2-0</td>\n",
       "      <td>Cane_Toad</td>\n",
       "      <td>5</td>\n",
       "    </tr>\n",
       "  </tbody>\n",
       "</table>\n",
       "</div>"
      ],
      "text/plain": [
       "                                                path source_article  \\\n",
       "2               Malawi;Democracy;Alexander_the_Great         Malawi   \n",
       "4                                   Paraguay;Bolivia       Paraguay   \n",
       "5  Agriculture;History_of_the_world;China;Yangtze...    Agriculture   \n",
       "6  Mind;Christianity;Europe;Renaissance;Ancient_G...           Mind   \n",
       "7    4-2-0;United_States;Agriculture;Sugar;Australia          4-2-0   \n",
       "\n",
       "         target_article shortest_path  \n",
       "2         First_Crusade             3  \n",
       "4      Mount_St._Helens             3  \n",
       "5  Grand_Canal_of_China             3  \n",
       "6              Scouting             4  \n",
       "7             Cane_Toad             5  "
      ]
     },
     "execution_count": 6,
     "metadata": {},
     "output_type": "execute_result"
    }
   ],
   "source": [
    "unsuccessful_df = augment_with_shortest_path(df=paths_unfinished_df, successful=False)\n",
    "\n",
    "# some unsuccessful paths only contain 1 article because the user didn't click anything\n",
    "# these are less meaningful paths to analyze as we are interested in users who tried but failed\n",
    "unsuccessful_df = unsuccessful_df[~(unsuccessful_df['path'].apply(lambda x: len(x.split(';')) == 1))]\n",
    "\n",
    "unsuccessful_df.head()"
   ]
  },
  {
   "cell_type": "code",
   "execution_count": 7,
   "id": "269205ad",
   "metadata": {},
   "outputs": [
    {
     "data": {
      "image/png": "[encoded data removed]",
      "text/plain": [
       "<Figure size 640x480 with 1 Axes>"
      ]
     },
     "metadata": {},
     "output_type": "display_data"
    }
   ],
   "source": [
    "# take a look at the shortest_path distributions\n",
    "import matplotlib.pyplot as plt\n",
    "\n",
    "successful_counts = successful_df['shortest_path'].value_counts()\n",
    "successful_counts.plot(kind='bar', edgecolor='k')\n",
    "plt.ylabel('Absolute Counts'); plt.xlabel('Shortest Path');\n",
    "plt.title(\"Successful Human Paths Stratified by Shortest Possible Path\");\n",
    "\n",
    "# shortest_path = 0 means the source article is the same as the target article \n",
    "# (Wikispeedia bug for game initialization?)"
   ]
  },
  {
   "cell_type": "code",
   "execution_count": 8,
   "id": "b5f8f1f6",
   "metadata": {},
   "outputs": [
    {
     "data": {
      "image/png": "[encoded data removed]",
      "text/plain": [
       "<Figure size 640x480 with 1 Axes>"
      ]
     },
     "metadata": {},
     "output_type": "display_data"
    }
   ],
   "source": [
    "unsuccessful_counts = unsuccessful_df['shortest_path'].value_counts()\n",
    "unsuccessful_counts.plot(kind='bar', edgecolor='k')\n",
    "plt.ylabel('Absolute Counts'); plt.xlabel('Shortest Path');\n",
    "plt.title(\"Unsuccessful Human Paths Stratified by Shortest Possible Path\");\n",
    "\n",
    "# N/A means the target article as specified in the unfinished_path.tsv was not provided to us"
   ]
  }
 ],
 "metadata": {
  "kernelspec": {
   "display_name": "Python 3 (ipykernel)",
   "language": "python",
   "name": "python3"
  },
  "language_info": {
   "codemirror_mode": {
    "name": "ipython",
    "version": 3
   },
   "file_extension": ".py",
   "mimetype": "text/x-python",
   "name": "python",
   "nbconvert_exporter": "python",
   "pygments_lexer": "ipython3",
   "version": "3.10.6"
  }
 },
 "nbformat": 4,
 "nbformat_minor": 5
}
