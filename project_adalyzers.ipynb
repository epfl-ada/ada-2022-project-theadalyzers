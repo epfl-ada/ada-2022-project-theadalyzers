{
 "cells": [
  {
   "cell_type": "markdown",
   "id": "5638de80",
   "metadata": {},
   "source": [
    "# ADAlyzers final project.\n",
    "\n",
    "\n",
    "### Structure of the notebook.\n",
    "\n",
    "\n",
    "1. Introduction.\n",
    "    - What is the project about\n",
    "        - Questions, etc.\n",
    "    - How will we solve the problem?\n",
    "2. Data description + processing.\n",
    "    - General overview\n",
    "        - Size of data\n",
    "        - Types of data\n",
    "    - Data cleaning\n",
    "        - Decisions: Explain everything leading to final dataframe.\n",
    "3. Featurizing. For each item: Intro + data analysis + methods.\n",
    "    - Semantic similarity\n",
    "    - Positional encoding\n",
    "        - Images\n",
    "        - Relative to paragraph\n",
    "    - Curvature\n",
    "4. Statistical analysis.\n",
    "    - Matching\n",
    "    - Tests\n",
    "    - Conclusions."
   ]
  },
  {
   "cell_type": "markdown",
   "id": "e86ce788",
   "metadata": {},
   "source": [
    "---\n",
    "\n",
    "# 1. Introduction.\n",
    "\n",
    "Players follow different strategies.\n",
    "\n",
    "Is the implementation of some strategy in particular correlated to success in this game? Or better, can we recommend a particular strategy to play wikispeedia?\n",
    "\n",
    "Here, we will answer these questions by exploring a database of over 100k recorded games from real users, by using tools from natural language processing, web scrapping and network analysis, among others."
   ]
  },
  {
   "cell_type": "code",
   "execution_count": null,
   "id": "55ade221",
   "metadata": {},
   "outputs": [],
   "source": []
  },
  {
   "cell_type": "markdown",
   "id": "18d0e618",
   "metadata": {},
   "source": [
    "---\n",
    "\n",
    "# 2. Data description + processing"
   ]
  },
  {
   "cell_type": "code",
   "execution_count": null,
   "id": "e8475e61",
   "metadata": {},
   "outputs": [],
   "source": []
  },
  {
   "cell_type": "markdown",
   "id": "fe6f5fd2",
   "metadata": {},
   "source": [
    "---\n",
    "\n",
    "# 3. Featurization"
   ]
  },
  {
   "cell_type": "code",
   "execution_count": null,
   "id": "af4fc352",
   "metadata": {},
   "outputs": [],
   "source": []
  },
  {
   "cell_type": "markdown",
   "id": "10c034a2",
   "metadata": {},
   "source": [
    "---\n",
    "\n",
    "# 4. Statistical analysis"
   ]
  },
  {
   "cell_type": "code",
   "execution_count": null,
   "id": "7a6fdda8",
   "metadata": {},
   "outputs": [],
   "source": []
  }
 ],
 "metadata": {
  "kernelspec": {
   "display_name": "Python 3 (ipykernel)",
   "language": "python",
   "name": "python3"
  },
  "language_info": {
   "codemirror_mode": {
    "name": "ipython",
    "version": 3
   },
   "file_extension": ".py",
   "mimetype": "text/x-python",
   "name": "python",
   "nbconvert_exporter": "python",
   "pygments_lexer": "ipython3",
   "version": "3.9.12"
  }
 },
 "nbformat": 4,
 "nbformat_minor": 5
}
